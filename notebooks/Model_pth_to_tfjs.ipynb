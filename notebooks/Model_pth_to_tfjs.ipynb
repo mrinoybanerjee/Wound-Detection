{
 "cells": [
  {
   "cell_type": "markdown",
   "metadata": {},
   "source": [
    "## Converting Model from Pytorch file to Tensor Flow js file"
   ]
  },
  {
   "cell_type": "markdown",
   "metadata": {},
   "source": [
    "### Converting model to ONNX format"
   ]
  },
  {
   "cell_type": "code",
   "execution_count": null,
   "metadata": {},
   "outputs": [],
   "source": [
    "import torch\n",
    "from efficientnet_pytorch import EfficientNet\n",
    "import torch.onnx\n",
    "import onnx\n",
    "\n",
    "# Load the model with the correct number of output classes\n",
    "model_name = 'efficientnet-b0'  # Adjust based on the specific EfficientNet variant you used\n",
    "num_classes = 10  # The number of classes in your dataset\n",
    "model = EfficientNet.from_name(model_name, num_classes=num_classes)\n",
    "\n",
    "# Load the state dictionary\n",
    "checkpoint_path = '/Users/mrinoyb2/git/Wound-Detection/Models/efficientnet_model_10_epochs.pth'\n",
    "checkpoint = torch.load(checkpoint_path, map_location=torch.device('cpu'))\n",
    "model.load_state_dict(checkpoint)\n",
    "\n",
    "model.eval()  # Set the model to evaluation mode\n",
    "\n",
    "# Input to the model\n",
    "dummy_input = torch.randn(1, 3, 224, 224)  # Adjust the size if necessary for EfficientNet\n",
    "\n",
    "# Export the model to ONNX\n",
    "onnx_path = \"/Users/mrinoyb2/git/Wound-Detection/Models/efficientnet_model_10_epochs.onnx\"\n",
    "torch.onnx.export(model, dummy_input, onnx_path,\n",
    "                  export_params=True,\n",
    "                  opset_version=10,\n",
    "                  do_constant_folding=True,\n",
    "                  input_names=['input'],\n",
    "                  output_names=['output'],\n",
    "                  dynamic_axes={'input': {0: 'batch_size'},\n",
    "                                'output': {0: 'batch_size'}})\n",
    "\n",
    "print('Model exported to ONNX format.')\n",
    "\n",
    "# Load and check the ONNX model\n",
    "onnx_model = onnx.load(onnx_path)\n",
    "onnx.checker.check_model(onnx_model)\n",
    "\n",
    "print('Model is well formed.')\n"
   ]
  },
  {
   "cell_type": "markdown",
   "metadata": {},
   "source": [
    "### Installing necessary libraries"
   ]
  },
  {
   "cell_type": "markdown",
   "metadata": {},
   "source": [
    "%pip install onnx tensorflow onnx-tf\n",
    "%pip install tensorflow_probability\n",
    "%pip install tf2onnx\n"
   ]
  },
  {
   "cell_type": "markdown",
   "metadata": {},
   "source": [
    "### Convert Model from ONNX to Tensorflow"
   ]
  },
  {
   "cell_type": "code",
   "execution_count": null,
   "metadata": {},
   "outputs": [],
   "source": [
    "# convert onnx to tensorflow\n",
    "import onnx\n",
    "import tensorflow as tf\n",
    "from onnx_tf.backend import prepare\n",
    "\n",
    "# Load the ONNX model\n",
    "onnx_model = onnx.load(\"/Users/mrinoyb2/git/Wound-Detection/Models/wound_model_50_epochs.onnx\")\n",
    "\n",
    "# Prepare the ONNX model for inference\n",
    "tf_rep = prepare(onnx_model)\n",
    "\n",
    "# Export the model to TensorFlow format using onnx-tf\n",
    "tf_rep.export_graph(\"/Users/mrinoyb2/git/Wound-Detection/Models/wound_model_50_epochs.pb\")\n",
    "\n",
    "print('Model exported to TensorFlow format.')"
   ]
  },
  {
   "cell_type": "markdown",
   "metadata": {},
   "source": [
    "### Install libraries to convert tf to tfjs"
   ]
  },
  {
   "cell_type": "code",
   "execution_count": null,
   "metadata": {},
   "outputs": [],
   "source": [
    "!npm install -g @tensorflow/tfjs-node"
   ]
  },
  {
   "cell_type": "markdown",
   "metadata": {},
   "source": [
    "!tensorflowjs_converter --input_format=tf_saved_model --output_node_names='efficient_net2' --control_flow_v2=true /Users/mrinoyb2/git/Wound-Detection/Models/efficientnet_model_10_epochs.tf /Users/mrinoyb2/git/Wound-Detection/Models/efficientnet2_model_10_epochs_tfjs"
   ]
  }
 ],
 "metadata": {
  "language_info": {
   "name": "python"
  }
 },
 "nbformat": 4,
 "nbformat_minor": 2
}
