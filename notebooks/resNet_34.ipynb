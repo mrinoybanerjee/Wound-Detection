{
  "nbformat": 4,
  "nbformat_minor": 0,
  "metadata": {
    "colab": {
      "provenance": [],
      "gpuType": "T4"
    },
    "kernelspec": {
      "name": "python3",
      "display_name": "Python 3"
    },
    "language_info": {
      "name": "python"
    },
    "accelerator": "GPU",
    "widgets": {
      "application/vnd.jupyter.widget-state+json": {
        "a2cc40df14fd407da299366dc7ee4e8e": {
          "model_module": "@jupyter-widgets/controls",
          "model_name": "VBoxModel",
          "model_module_version": "1.5.0",
          "state": {
            "_dom_classes": [],
            "_model_module": "@jupyter-widgets/controls",
            "_model_module_version": "1.5.0",
            "_model_name": "VBoxModel",
            "_view_count": null,
            "_view_module": "@jupyter-widgets/controls",
            "_view_module_version": "1.5.0",
            "_view_name": "VBoxView",
            "box_style": "",
            "children": [
              "IPY_MODEL_1ded938a38044bdfa90ce0160bc6335c",
              "IPY_MODEL_af99f01507bd481cbbc547837f9aa824"
            ],
            "layout": "IPY_MODEL_f69820d8813b48f8a317fcd350ec02d7"
          }
        },
        "1ded938a38044bdfa90ce0160bc6335c": {
          "model_module": "@jupyter-widgets/controls",
          "model_name": "LabelModel",
          "model_module_version": "1.5.0",
          "state": {
            "_dom_classes": [],
            "_model_module": "@jupyter-widgets/controls",
            "_model_module_version": "1.5.0",
            "_model_name": "LabelModel",
            "_view_count": null,
            "_view_module": "@jupyter-widgets/controls",
            "_view_module_version": "1.5.0",
            "_view_name": "LabelView",
            "description": "",
            "description_tooltip": null,
            "layout": "IPY_MODEL_98eaaf92689148a2be41078e1e408eff",
            "placeholder": "​",
            "style": "IPY_MODEL_96dda66e0fd44498915b2eb60d4e3079",
            "value": "0.011 MB of 0.011 MB uploaded\r"
          }
        },
        "af99f01507bd481cbbc547837f9aa824": {
          "model_module": "@jupyter-widgets/controls",
          "model_name": "FloatProgressModel",
          "model_module_version": "1.5.0",
          "state": {
            "_dom_classes": [],
            "_model_module": "@jupyter-widgets/controls",
            "_model_module_version": "1.5.0",
            "_model_name": "FloatProgressModel",
            "_view_count": null,
            "_view_module": "@jupyter-widgets/controls",
            "_view_module_version": "1.5.0",
            "_view_name": "ProgressView",
            "bar_style": "",
            "description": "",
            "description_tooltip": null,
            "layout": "IPY_MODEL_6ddb72d265d349a197627b50b8d5f2fa",
            "max": 1,
            "min": 0,
            "orientation": "horizontal",
            "style": "IPY_MODEL_bdc24959a5064ec1ba83b6a3fbc414ca",
            "value": 1
          }
        },
        "f69820d8813b48f8a317fcd350ec02d7": {
          "model_module": "@jupyter-widgets/base",
          "model_name": "LayoutModel",
          "model_module_version": "1.2.0",
          "state": {
            "_model_module": "@jupyter-widgets/base",
            "_model_module_version": "1.2.0",
            "_model_name": "LayoutModel",
            "_view_count": null,
            "_view_module": "@jupyter-widgets/base",
            "_view_module_version": "1.2.0",
            "_view_name": "LayoutView",
            "align_content": null,
            "align_items": null,
            "align_self": null,
            "border": null,
            "bottom": null,
            "display": null,
            "flex": null,
            "flex_flow": null,
            "grid_area": null,
            "grid_auto_columns": null,
            "grid_auto_flow": null,
            "grid_auto_rows": null,
            "grid_column": null,
            "grid_gap": null,
            "grid_row": null,
            "grid_template_areas": null,
            "grid_template_columns": null,
            "grid_template_rows": null,
            "height": null,
            "justify_content": null,
            "justify_items": null,
            "left": null,
            "margin": null,
            "max_height": null,
            "max_width": null,
            "min_height": null,
            "min_width": null,
            "object_fit": null,
            "object_position": null,
            "order": null,
            "overflow": null,
            "overflow_x": null,
            "overflow_y": null,
            "padding": null,
            "right": null,
            "top": null,
            "visibility": null,
            "width": null
          }
        },
        "98eaaf92689148a2be41078e1e408eff": {
          "model_module": "@jupyter-widgets/base",
          "model_name": "LayoutModel",
          "model_module_version": "1.2.0",
          "state": {
            "_model_module": "@jupyter-widgets/base",
            "_model_module_version": "1.2.0",
            "_model_name": "LayoutModel",
            "_view_count": null,
            "_view_module": "@jupyter-widgets/base",
            "_view_module_version": "1.2.0",
            "_view_name": "LayoutView",
            "align_content": null,
            "align_items": null,
            "align_self": null,
            "border": null,
            "bottom": null,
            "display": null,
            "flex": null,
            "flex_flow": null,
            "grid_area": null,
            "grid_auto_columns": null,
            "grid_auto_flow": null,
            "grid_auto_rows": null,
            "grid_column": null,
            "grid_gap": null,
            "grid_row": null,
            "grid_template_areas": null,
            "grid_template_columns": null,
            "grid_template_rows": null,
            "height": null,
            "justify_content": null,
            "justify_items": null,
            "left": null,
            "margin": null,
            "max_height": null,
            "max_width": null,
            "min_height": null,
            "min_width": null,
            "object_fit": null,
            "object_position": null,
            "order": null,
            "overflow": null,
            "overflow_x": null,
            "overflow_y": null,
            "padding": null,
            "right": null,
            "top": null,
            "visibility": null,
            "width": null
          }
        },
        "96dda66e0fd44498915b2eb60d4e3079": {
          "model_module": "@jupyter-widgets/controls",
          "model_name": "DescriptionStyleModel",
          "model_module_version": "1.5.0",
          "state": {
            "_model_module": "@jupyter-widgets/controls",
            "_model_module_version": "1.5.0",
            "_model_name": "DescriptionStyleModel",
            "_view_count": null,
            "_view_module": "@jupyter-widgets/base",
            "_view_module_version": "1.2.0",
            "_view_name": "StyleView",
            "description_width": ""
          }
        },
        "6ddb72d265d349a197627b50b8d5f2fa": {
          "model_module": "@jupyter-widgets/base",
          "model_name": "LayoutModel",
          "model_module_version": "1.2.0",
          "state": {
            "_model_module": "@jupyter-widgets/base",
            "_model_module_version": "1.2.0",
            "_model_name": "LayoutModel",
            "_view_count": null,
            "_view_module": "@jupyter-widgets/base",
            "_view_module_version": "1.2.0",
            "_view_name": "LayoutView",
            "align_content": null,
            "align_items": null,
            "align_self": null,
            "border": null,
            "bottom": null,
            "display": null,
            "flex": null,
            "flex_flow": null,
            "grid_area": null,
            "grid_auto_columns": null,
            "grid_auto_flow": null,
            "grid_auto_rows": null,
            "grid_column": null,
            "grid_gap": null,
            "grid_row": null,
            "grid_template_areas": null,
            "grid_template_columns": null,
            "grid_template_rows": null,
            "height": null,
            "justify_content": null,
            "justify_items": null,
            "left": null,
            "margin": null,
            "max_height": null,
            "max_width": null,
            "min_height": null,
            "min_width": null,
            "object_fit": null,
            "object_position": null,
            "order": null,
            "overflow": null,
            "overflow_x": null,
            "overflow_y": null,
            "padding": null,
            "right": null,
            "top": null,
            "visibility": null,
            "width": null
          }
        },
        "bdc24959a5064ec1ba83b6a3fbc414ca": {
          "model_module": "@jupyter-widgets/controls",
          "model_name": "ProgressStyleModel",
          "model_module_version": "1.5.0",
          "state": {
            "_model_module": "@jupyter-widgets/controls",
            "_model_module_version": "1.5.0",
            "_model_name": "ProgressStyleModel",
            "_view_count": null,
            "_view_module": "@jupyter-widgets/base",
            "_view_module_version": "1.2.0",
            "_view_name": "StyleView",
            "bar_color": null,
            "description_width": ""
          }
        },
        "0610fe509c494febaad885a85555d55c": {
          "model_module": "@jupyter-widgets/controls",
          "model_name": "VBoxModel",
          "model_module_version": "1.5.0",
          "state": {
            "_dom_classes": [],
            "_model_module": "@jupyter-widgets/controls",
            "_model_module_version": "1.5.0",
            "_model_name": "VBoxModel",
            "_view_count": null,
            "_view_module": "@jupyter-widgets/controls",
            "_view_module_version": "1.5.0",
            "_view_name": "VBoxView",
            "box_style": "",
            "children": [
              "IPY_MODEL_8493cd7df9b941648e408a8dac9ca5be",
              "IPY_MODEL_9bc9fa65612f4450b4fbeac98b63fae8"
            ],
            "layout": "IPY_MODEL_1eab4ff5447b494b9a8216fb6a906535"
          }
        },
        "8493cd7df9b941648e408a8dac9ca5be": {
          "model_module": "@jupyter-widgets/controls",
          "model_name": "LabelModel",
          "model_module_version": "1.5.0",
          "state": {
            "_dom_classes": [],
            "_model_module": "@jupyter-widgets/controls",
            "_model_module_version": "1.5.0",
            "_model_name": "LabelModel",
            "_view_count": null,
            "_view_module": "@jupyter-widgets/controls",
            "_view_module_version": "1.5.0",
            "_view_name": "LabelView",
            "description": "",
            "description_tooltip": null,
            "layout": "IPY_MODEL_dee1be0e1b3b4b0893910816bd1e5d2a",
            "placeholder": "​",
            "style": "IPY_MODEL_7b617af24fa343b0a905b8195f5c5cff",
            "value": "0.015 MB of 0.015 MB uploaded\r"
          }
        },
        "9bc9fa65612f4450b4fbeac98b63fae8": {
          "model_module": "@jupyter-widgets/controls",
          "model_name": "FloatProgressModel",
          "model_module_version": "1.5.0",
          "state": {
            "_dom_classes": [],
            "_model_module": "@jupyter-widgets/controls",
            "_model_module_version": "1.5.0",
            "_model_name": "FloatProgressModel",
            "_view_count": null,
            "_view_module": "@jupyter-widgets/controls",
            "_view_module_version": "1.5.0",
            "_view_name": "ProgressView",
            "bar_style": "",
            "description": "",
            "description_tooltip": null,
            "layout": "IPY_MODEL_e94e133f05b645b39c00ff3edbb51cc7",
            "max": 1,
            "min": 0,
            "orientation": "horizontal",
            "style": "IPY_MODEL_531bcb390680408fa3fb078996974829",
            "value": 1
          }
        },
        "1eab4ff5447b494b9a8216fb6a906535": {
          "model_module": "@jupyter-widgets/base",
          "model_name": "LayoutModel",
          "model_module_version": "1.2.0",
          "state": {
            "_model_module": "@jupyter-widgets/base",
            "_model_module_version": "1.2.0",
            "_model_name": "LayoutModel",
            "_view_count": null,
            "_view_module": "@jupyter-widgets/base",
            "_view_module_version": "1.2.0",
            "_view_name": "LayoutView",
            "align_content": null,
            "align_items": null,
            "align_self": null,
            "border": null,
            "bottom": null,
            "display": null,
            "flex": null,
            "flex_flow": null,
            "grid_area": null,
            "grid_auto_columns": null,
            "grid_auto_flow": null,
            "grid_auto_rows": null,
            "grid_column": null,
            "grid_gap": null,
            "grid_row": null,
            "grid_template_areas": null,
            "grid_template_columns": null,
            "grid_template_rows": null,
            "height": null,
            "justify_content": null,
            "justify_items": null,
            "left": null,
            "margin": null,
            "max_height": null,
            "max_width": null,
            "min_height": null,
            "min_width": null,
            "object_fit": null,
            "object_position": null,
            "order": null,
            "overflow": null,
            "overflow_x": null,
            "overflow_y": null,
            "padding": null,
            "right": null,
            "top": null,
            "visibility": null,
            "width": null
          }
        },
        "dee1be0e1b3b4b0893910816bd1e5d2a": {
          "model_module": "@jupyter-widgets/base",
          "model_name": "LayoutModel",
          "model_module_version": "1.2.0",
          "state": {
            "_model_module": "@jupyter-widgets/base",
            "_model_module_version": "1.2.0",
            "_model_name": "LayoutModel",
            "_view_count": null,
            "_view_module": "@jupyter-widgets/base",
            "_view_module_version": "1.2.0",
            "_view_name": "LayoutView",
            "align_content": null,
            "align_items": null,
            "align_self": null,
            "border": null,
            "bottom": null,
            "display": null,
            "flex": null,
            "flex_flow": null,
            "grid_area": null,
            "grid_auto_columns": null,
            "grid_auto_flow": null,
            "grid_auto_rows": null,
            "grid_column": null,
            "grid_gap": null,
            "grid_row": null,
            "grid_template_areas": null,
            "grid_template_columns": null,
            "grid_template_rows": null,
            "height": null,
            "justify_content": null,
            "justify_items": null,
            "left": null,
            "margin": null,
            "max_height": null,
            "max_width": null,
            "min_height": null,
            "min_width": null,
            "object_fit": null,
            "object_position": null,
            "order": null,
            "overflow": null,
            "overflow_x": null,
            "overflow_y": null,
            "padding": null,
            "right": null,
            "top": null,
            "visibility": null,
            "width": null
          }
        },
        "7b617af24fa343b0a905b8195f5c5cff": {
          "model_module": "@jupyter-widgets/controls",
          "model_name": "DescriptionStyleModel",
          "model_module_version": "1.5.0",
          "state": {
            "_model_module": "@jupyter-widgets/controls",
            "_model_module_version": "1.5.0",
            "_model_name": "DescriptionStyleModel",
            "_view_count": null,
            "_view_module": "@jupyter-widgets/base",
            "_view_module_version": "1.2.0",
            "_view_name": "StyleView",
            "description_width": ""
          }
        },
        "e94e133f05b645b39c00ff3edbb51cc7": {
          "model_module": "@jupyter-widgets/base",
          "model_name": "LayoutModel",
          "model_module_version": "1.2.0",
          "state": {
            "_model_module": "@jupyter-widgets/base",
            "_model_module_version": "1.2.0",
            "_model_name": "LayoutModel",
            "_view_count": null,
            "_view_module": "@jupyter-widgets/base",
            "_view_module_version": "1.2.0",
            "_view_name": "LayoutView",
            "align_content": null,
            "align_items": null,
            "align_self": null,
            "border": null,
            "bottom": null,
            "display": null,
            "flex": null,
            "flex_flow": null,
            "grid_area": null,
            "grid_auto_columns": null,
            "grid_auto_flow": null,
            "grid_auto_rows": null,
            "grid_column": null,
            "grid_gap": null,
            "grid_row": null,
            "grid_template_areas": null,
            "grid_template_columns": null,
            "grid_template_rows": null,
            "height": null,
            "justify_content": null,
            "justify_items": null,
            "left": null,
            "margin": null,
            "max_height": null,
            "max_width": null,
            "min_height": null,
            "min_width": null,
            "object_fit": null,
            "object_position": null,
            "order": null,
            "overflow": null,
            "overflow_x": null,
            "overflow_y": null,
            "padding": null,
            "right": null,
            "top": null,
            "visibility": null,
            "width": null
          }
        },
        "531bcb390680408fa3fb078996974829": {
          "model_module": "@jupyter-widgets/controls",
          "model_name": "ProgressStyleModel",
          "model_module_version": "1.5.0",
          "state": {
            "_model_module": "@jupyter-widgets/controls",
            "_model_module_version": "1.5.0",
            "_model_name": "ProgressStyleModel",
            "_view_count": null,
            "_view_module": "@jupyter-widgets/base",
            "_view_module_version": "1.2.0",
            "_view_name": "StyleView",
            "bar_color": null,
            "description_width": ""
          }
        },
        "16cd1762c55f4026a4c2d35e8053670a": {
          "model_module": "@jupyter-widgets/controls",
          "model_name": "VBoxModel",
          "model_module_version": "1.5.0",
          "state": {
            "_dom_classes": [],
            "_model_module": "@jupyter-widgets/controls",
            "_model_module_version": "1.5.0",
            "_model_name": "VBoxModel",
            "_view_count": null,
            "_view_module": "@jupyter-widgets/controls",
            "_view_module_version": "1.5.0",
            "_view_name": "VBoxView",
            "box_style": "",
            "children": [
              "IPY_MODEL_c78deda65a444a1aa390d700abd83513",
              "IPY_MODEL_d9f74edadae741b8b760888acd095309"
            ],
            "layout": "IPY_MODEL_bb4f275026e0423a8ec34c4996a88fb0"
          }
        },
        "c78deda65a444a1aa390d700abd83513": {
          "model_module": "@jupyter-widgets/controls",
          "model_name": "LabelModel",
          "model_module_version": "1.5.0",
          "state": {
            "_dom_classes": [],
            "_model_module": "@jupyter-widgets/controls",
            "_model_module_version": "1.5.0",
            "_model_name": "LabelModel",
            "_view_count": null,
            "_view_module": "@jupyter-widgets/controls",
            "_view_module_version": "1.5.0",
            "_view_name": "LabelView",
            "description": "",
            "description_tooltip": null,
            "layout": "IPY_MODEL_57b70ae2130e4c6fa0fc84b4216aba12",
            "placeholder": "​",
            "style": "IPY_MODEL_3f75e1af07a9468fba99960ea5893154",
            "value": "0.015 MB of 0.015 MB uploaded\r"
          }
        },
        "d9f74edadae741b8b760888acd095309": {
          "model_module": "@jupyter-widgets/controls",
          "model_name": "FloatProgressModel",
          "model_module_version": "1.5.0",
          "state": {
            "_dom_classes": [],
            "_model_module": "@jupyter-widgets/controls",
            "_model_module_version": "1.5.0",
            "_model_name": "FloatProgressModel",
            "_view_count": null,
            "_view_module": "@jupyter-widgets/controls",
            "_view_module_version": "1.5.0",
            "_view_name": "ProgressView",
            "bar_style": "",
            "description": "",
            "description_tooltip": null,
            "layout": "IPY_MODEL_68abbfe4ca2b4238a53697afe851f91a",
            "max": 1,
            "min": 0,
            "orientation": "horizontal",
            "style": "IPY_MODEL_e025bc5690e647ec9db0560cc6ef081b",
            "value": 1
          }
        },
        "bb4f275026e0423a8ec34c4996a88fb0": {
          "model_module": "@jupyter-widgets/base",
          "model_name": "LayoutModel",
          "model_module_version": "1.2.0",
          "state": {
            "_model_module": "@jupyter-widgets/base",
            "_model_module_version": "1.2.0",
            "_model_name": "LayoutModel",
            "_view_count": null,
            "_view_module": "@jupyter-widgets/base",
            "_view_module_version": "1.2.0",
            "_view_name": "LayoutView",
            "align_content": null,
            "align_items": null,
            "align_self": null,
            "border": null,
            "bottom": null,
            "display": null,
            "flex": null,
            "flex_flow": null,
            "grid_area": null,
            "grid_auto_columns": null,
            "grid_auto_flow": null,
            "grid_auto_rows": null,
            "grid_column": null,
            "grid_gap": null,
            "grid_row": null,
            "grid_template_areas": null,
            "grid_template_columns": null,
            "grid_template_rows": null,
            "height": null,
            "justify_content": null,
            "justify_items": null,
            "left": null,
            "margin": null,
            "max_height": null,
            "max_width": null,
            "min_height": null,
            "min_width": null,
            "object_fit": null,
            "object_position": null,
            "order": null,
            "overflow": null,
            "overflow_x": null,
            "overflow_y": null,
            "padding": null,
            "right": null,
            "top": null,
            "visibility": null,
            "width": null
          }
        },
        "57b70ae2130e4c6fa0fc84b4216aba12": {
          "model_module": "@jupyter-widgets/base",
          "model_name": "LayoutModel",
          "model_module_version": "1.2.0",
          "state": {
            "_model_module": "@jupyter-widgets/base",
            "_model_module_version": "1.2.0",
            "_model_name": "LayoutModel",
            "_view_count": null,
            "_view_module": "@jupyter-widgets/base",
            "_view_module_version": "1.2.0",
            "_view_name": "LayoutView",
            "align_content": null,
            "align_items": null,
            "align_self": null,
            "border": null,
            "bottom": null,
            "display": null,
            "flex": null,
            "flex_flow": null,
            "grid_area": null,
            "grid_auto_columns": null,
            "grid_auto_flow": null,
            "grid_auto_rows": null,
            "grid_column": null,
            "grid_gap": null,
            "grid_row": null,
            "grid_template_areas": null,
            "grid_template_columns": null,
            "grid_template_rows": null,
            "height": null,
            "justify_content": null,
            "justify_items": null,
            "left": null,
            "margin": null,
            "max_height": null,
            "max_width": null,
            "min_height": null,
            "min_width": null,
            "object_fit": null,
            "object_position": null,
            "order": null,
            "overflow": null,
            "overflow_x": null,
            "overflow_y": null,
            "padding": null,
            "right": null,
            "top": null,
            "visibility": null,
            "width": null
          }
        },
        "3f75e1af07a9468fba99960ea5893154": {
          "model_module": "@jupyter-widgets/controls",
          "model_name": "DescriptionStyleModel",
          "model_module_version": "1.5.0",
          "state": {
            "_model_module": "@jupyter-widgets/controls",
            "_model_module_version": "1.5.0",
            "_model_name": "DescriptionStyleModel",
            "_view_count": null,
            "_view_module": "@jupyter-widgets/base",
            "_view_module_version": "1.2.0",
            "_view_name": "StyleView",
            "description_width": ""
          }
        },
        "68abbfe4ca2b4238a53697afe851f91a": {
          "model_module": "@jupyter-widgets/base",
          "model_name": "LayoutModel",
          "model_module_version": "1.2.0",
          "state": {
            "_model_module": "@jupyter-widgets/base",
            "_model_module_version": "1.2.0",
            "_model_name": "LayoutModel",
            "_view_count": null,
            "_view_module": "@jupyter-widgets/base",
            "_view_module_version": "1.2.0",
            "_view_name": "LayoutView",
            "align_content": null,
            "align_items": null,
            "align_self": null,
            "border": null,
            "bottom": null,
            "display": null,
            "flex": null,
            "flex_flow": null,
            "grid_area": null,
            "grid_auto_columns": null,
            "grid_auto_flow": null,
            "grid_auto_rows": null,
            "grid_column": null,
            "grid_gap": null,
            "grid_row": null,
            "grid_template_areas": null,
            "grid_template_columns": null,
            "grid_template_rows": null,
            "height": null,
            "justify_content": null,
            "justify_items": null,
            "left": null,
            "margin": null,
            "max_height": null,
            "max_width": null,
            "min_height": null,
            "min_width": null,
            "object_fit": null,
            "object_position": null,
            "order": null,
            "overflow": null,
            "overflow_x": null,
            "overflow_y": null,
            "padding": null,
            "right": null,
            "top": null,
            "visibility": null,
            "width": null
          }
        },
        "e025bc5690e647ec9db0560cc6ef081b": {
          "model_module": "@jupyter-widgets/controls",
          "model_name": "ProgressStyleModel",
          "model_module_version": "1.5.0",
          "state": {
            "_model_module": "@jupyter-widgets/controls",
            "_model_module_version": "1.5.0",
            "_model_name": "ProgressStyleModel",
            "_view_count": null,
            "_view_module": "@jupyter-widgets/base",
            "_view_module_version": "1.2.0",
            "_view_name": "StyleView",
            "bar_color": null,
            "description_width": ""
          }
        },
        "d7761951b0614bfda2d6b1c1a4e053f4": {
          "model_module": "@jupyter-widgets/controls",
          "model_name": "VBoxModel",
          "model_module_version": "1.5.0",
          "state": {
            "_dom_classes": [],
            "_model_module": "@jupyter-widgets/controls",
            "_model_module_version": "1.5.0",
            "_model_name": "VBoxModel",
            "_view_count": null,
            "_view_module": "@jupyter-widgets/controls",
            "_view_module_version": "1.5.0",
            "_view_name": "VBoxView",
            "box_style": "",
            "children": [
              "IPY_MODEL_9c09e522440b41479e4f3526ac571245",
              "IPY_MODEL_42860997e6fb4713b6cd60b04f8ea9c5"
            ],
            "layout": "IPY_MODEL_bf22bfaf05154be4853352b6270b0915"
          }
        },
        "9c09e522440b41479e4f3526ac571245": {
          "model_module": "@jupyter-widgets/controls",
          "model_name": "LabelModel",
          "model_module_version": "1.5.0",
          "state": {
            "_dom_classes": [],
            "_model_module": "@jupyter-widgets/controls",
            "_model_module_version": "1.5.0",
            "_model_name": "LabelModel",
            "_view_count": null,
            "_view_module": "@jupyter-widgets/controls",
            "_view_module_version": "1.5.0",
            "_view_name": "LabelView",
            "description": "",
            "description_tooltip": null,
            "layout": "IPY_MODEL_02f236d0e4e843a5894763397884cec9",
            "placeholder": "​",
            "style": "IPY_MODEL_3b8a9b7cad464b05957e7d40132072d3",
            "value": "0.015 MB of 0.015 MB uploaded\r"
          }
        },
        "42860997e6fb4713b6cd60b04f8ea9c5": {
          "model_module": "@jupyter-widgets/controls",
          "model_name": "FloatProgressModel",
          "model_module_version": "1.5.0",
          "state": {
            "_dom_classes": [],
            "_model_module": "@jupyter-widgets/controls",
            "_model_module_version": "1.5.0",
            "_model_name": "FloatProgressModel",
            "_view_count": null,
            "_view_module": "@jupyter-widgets/controls",
            "_view_module_version": "1.5.0",
            "_view_name": "ProgressView",
            "bar_style": "",
            "description": "",
            "description_tooltip": null,
            "layout": "IPY_MODEL_e235d440a9444514a5e6b929d7ac7609",
            "max": 1,
            "min": 0,
            "orientation": "horizontal",
            "style": "IPY_MODEL_e6ac2b5cdc74479692dfbe6963c4b248",
            "value": 1
          }
        },
        "bf22bfaf05154be4853352b6270b0915": {
          "model_module": "@jupyter-widgets/base",
          "model_name": "LayoutModel",
          "model_module_version": "1.2.0",
          "state": {
            "_model_module": "@jupyter-widgets/base",
            "_model_module_version": "1.2.0",
            "_model_name": "LayoutModel",
            "_view_count": null,
            "_view_module": "@jupyter-widgets/base",
            "_view_module_version": "1.2.0",
            "_view_name": "LayoutView",
            "align_content": null,
            "align_items": null,
            "align_self": null,
            "border": null,
            "bottom": null,
            "display": null,
            "flex": null,
            "flex_flow": null,
            "grid_area": null,
            "grid_auto_columns": null,
            "grid_auto_flow": null,
            "grid_auto_rows": null,
            "grid_column": null,
            "grid_gap": null,
            "grid_row": null,
            "grid_template_areas": null,
            "grid_template_columns": null,
            "grid_template_rows": null,
            "height": null,
            "justify_content": null,
            "justify_items": null,
            "left": null,
            "margin": null,
            "max_height": null,
            "max_width": null,
            "min_height": null,
            "min_width": null,
            "object_fit": null,
            "object_position": null,
            "order": null,
            "overflow": null,
            "overflow_x": null,
            "overflow_y": null,
            "padding": null,
            "right": null,
            "top": null,
            "visibility": null,
            "width": null
          }
        },
        "02f236d0e4e843a5894763397884cec9": {
          "model_module": "@jupyter-widgets/base",
          "model_name": "LayoutModel",
          "model_module_version": "1.2.0",
          "state": {
            "_model_module": "@jupyter-widgets/base",
            "_model_module_version": "1.2.0",
            "_model_name": "LayoutModel",
            "_view_count": null,
            "_view_module": "@jupyter-widgets/base",
            "_view_module_version": "1.2.0",
            "_view_name": "LayoutView",
            "align_content": null,
            "align_items": null,
            "align_self": null,
            "border": null,
            "bottom": null,
            "display": null,
            "flex": null,
            "flex_flow": null,
            "grid_area": null,
            "grid_auto_columns": null,
            "grid_auto_flow": null,
            "grid_auto_rows": null,
            "grid_column": null,
            "grid_gap": null,
            "grid_row": null,
            "grid_template_areas": null,
            "grid_template_columns": null,
            "grid_template_rows": null,
            "height": null,
            "justify_content": null,
            "justify_items": null,
            "left": null,
            "margin": null,
            "max_height": null,
            "max_width": null,
            "min_height": null,
            "min_width": null,
            "object_fit": null,
            "object_position": null,
            "order": null,
            "overflow": null,
            "overflow_x": null,
            "overflow_y": null,
            "padding": null,
            "right": null,
            "top": null,
            "visibility": null,
            "width": null
          }
        },
        "3b8a9b7cad464b05957e7d40132072d3": {
          "model_module": "@jupyter-widgets/controls",
          "model_name": "DescriptionStyleModel",
          "model_module_version": "1.5.0",
          "state": {
            "_model_module": "@jupyter-widgets/controls",
            "_model_module_version": "1.5.0",
            "_model_name": "DescriptionStyleModel",
            "_view_count": null,
            "_view_module": "@jupyter-widgets/base",
            "_view_module_version": "1.2.0",
            "_view_name": "StyleView",
            "description_width": ""
          }
        },
        "e235d440a9444514a5e6b929d7ac7609": {
          "model_module": "@jupyter-widgets/base",
          "model_name": "LayoutModel",
          "model_module_version": "1.2.0",
          "state": {
            "_model_module": "@jupyter-widgets/base",
            "_model_module_version": "1.2.0",
            "_model_name": "LayoutModel",
            "_view_count": null,
            "_view_module": "@jupyter-widgets/base",
            "_view_module_version": "1.2.0",
            "_view_name": "LayoutView",
            "align_content": null,
            "align_items": null,
            "align_self": null,
            "border": null,
            "bottom": null,
            "display": null,
            "flex": null,
            "flex_flow": null,
            "grid_area": null,
            "grid_auto_columns": null,
            "grid_auto_flow": null,
            "grid_auto_rows": null,
            "grid_column": null,
            "grid_gap": null,
            "grid_row": null,
            "grid_template_areas": null,
            "grid_template_columns": null,
            "grid_template_rows": null,
            "height": null,
            "justify_content": null,
            "justify_items": null,
            "left": null,
            "margin": null,
            "max_height": null,
            "max_width": null,
            "min_height": null,
            "min_width": null,
            "object_fit": null,
            "object_position": null,
            "order": null,
            "overflow": null,
            "overflow_x": null,
            "overflow_y": null,
            "padding": null,
            "right": null,
            "top": null,
            "visibility": null,
            "width": null
          }
        },
        "e6ac2b5cdc74479692dfbe6963c4b248": {
          "model_module": "@jupyter-widgets/controls",
          "model_name": "ProgressStyleModel",
          "model_module_version": "1.5.0",
          "state": {
            "_model_module": "@jupyter-widgets/controls",
            "_model_module_version": "1.5.0",
            "_model_name": "ProgressStyleModel",
            "_view_count": null,
            "_view_module": "@jupyter-widgets/base",
            "_view_module_version": "1.2.0",
            "_view_name": "StyleView",
            "bar_color": null,
            "description_width": ""
          }
        },
        "15e3a22c793a4d409416a5cdd647ca8a": {
          "model_module": "@jupyter-widgets/controls",
          "model_name": "VBoxModel",
          "model_module_version": "1.5.0",
          "state": {
            "_dom_classes": [],
            "_model_module": "@jupyter-widgets/controls",
            "_model_module_version": "1.5.0",
            "_model_name": "VBoxModel",
            "_view_count": null,
            "_view_module": "@jupyter-widgets/controls",
            "_view_module_version": "1.5.0",
            "_view_name": "VBoxView",
            "box_style": "",
            "children": [
              "IPY_MODEL_21cc2a346f0c4472adc1c88aa067addf",
              "IPY_MODEL_893b22de434040ceba40c28b8d9dad0e"
            ],
            "layout": "IPY_MODEL_1d626f8136b54f4280ee5a907f8c6323"
          }
        },
        "21cc2a346f0c4472adc1c88aa067addf": {
          "model_module": "@jupyter-widgets/controls",
          "model_name": "LabelModel",
          "model_module_version": "1.5.0",
          "state": {
            "_dom_classes": [],
            "_model_module": "@jupyter-widgets/controls",
            "_model_module_version": "1.5.0",
            "_model_name": "LabelModel",
            "_view_count": null,
            "_view_module": "@jupyter-widgets/controls",
            "_view_module_version": "1.5.0",
            "_view_name": "LabelView",
            "description": "",
            "description_tooltip": null,
            "layout": "IPY_MODEL_1b72de2935474a5eba6b9c0b27b9eef6",
            "placeholder": "​",
            "style": "IPY_MODEL_9b37fa23450e4dc398e3dc7630aacf11",
            "value": "0.015 MB of 0.015 MB uploaded\r"
          }
        },
        "893b22de434040ceba40c28b8d9dad0e": {
          "model_module": "@jupyter-widgets/controls",
          "model_name": "FloatProgressModel",
          "model_module_version": "1.5.0",
          "state": {
            "_dom_classes": [],
            "_model_module": "@jupyter-widgets/controls",
            "_model_module_version": "1.5.0",
            "_model_name": "FloatProgressModel",
            "_view_count": null,
            "_view_module": "@jupyter-widgets/controls",
            "_view_module_version": "1.5.0",
            "_view_name": "ProgressView",
            "bar_style": "",
            "description": "",
            "description_tooltip": null,
            "layout": "IPY_MODEL_59e32c9fc7794aa5a424f4718c7b6367",
            "max": 1,
            "min": 0,
            "orientation": "horizontal",
            "style": "IPY_MODEL_5c379f3b938f4f0cb45fdb565eb10c07",
            "value": 1
          }
        },
        "1d626f8136b54f4280ee5a907f8c6323": {
          "model_module": "@jupyter-widgets/base",
          "model_name": "LayoutModel",
          "model_module_version": "1.2.0",
          "state": {
            "_model_module": "@jupyter-widgets/base",
            "_model_module_version": "1.2.0",
            "_model_name": "LayoutModel",
            "_view_count": null,
            "_view_module": "@jupyter-widgets/base",
            "_view_module_version": "1.2.0",
            "_view_name": "LayoutView",
            "align_content": null,
            "align_items": null,
            "align_self": null,
            "border": null,
            "bottom": null,
            "display": null,
            "flex": null,
            "flex_flow": null,
            "grid_area": null,
            "grid_auto_columns": null,
            "grid_auto_flow": null,
            "grid_auto_rows": null,
            "grid_column": null,
            "grid_gap": null,
            "grid_row": null,
            "grid_template_areas": null,
            "grid_template_columns": null,
            "grid_template_rows": null,
            "height": null,
            "justify_content": null,
            "justify_items": null,
            "left": null,
            "margin": null,
            "max_height": null,
            "max_width": null,
            "min_height": null,
            "min_width": null,
            "object_fit": null,
            "object_position": null,
            "order": null,
            "overflow": null,
            "overflow_x": null,
            "overflow_y": null,
            "padding": null,
            "right": null,
            "top": null,
            "visibility": null,
            "width": null
          }
        },
        "1b72de2935474a5eba6b9c0b27b9eef6": {
          "model_module": "@jupyter-widgets/base",
          "model_name": "LayoutModel",
          "model_module_version": "1.2.0",
          "state": {
            "_model_module": "@jupyter-widgets/base",
            "_model_module_version": "1.2.0",
            "_model_name": "LayoutModel",
            "_view_count": null,
            "_view_module": "@jupyter-widgets/base",
            "_view_module_version": "1.2.0",
            "_view_name": "LayoutView",
            "align_content": null,
            "align_items": null,
            "align_self": null,
            "border": null,
            "bottom": null,
            "display": null,
            "flex": null,
            "flex_flow": null,
            "grid_area": null,
            "grid_auto_columns": null,
            "grid_auto_flow": null,
            "grid_auto_rows": null,
            "grid_column": null,
            "grid_gap": null,
            "grid_row": null,
            "grid_template_areas": null,
            "grid_template_columns": null,
            "grid_template_rows": null,
            "height": null,
            "justify_content": null,
            "justify_items": null,
            "left": null,
            "margin": null,
            "max_height": null,
            "max_width": null,
            "min_height": null,
            "min_width": null,
            "object_fit": null,
            "object_position": null,
            "order": null,
            "overflow": null,
            "overflow_x": null,
            "overflow_y": null,
            "padding": null,
            "right": null,
            "top": null,
            "visibility": null,
            "width": null
          }
        },
        "9b37fa23450e4dc398e3dc7630aacf11": {
          "model_module": "@jupyter-widgets/controls",
          "model_name": "DescriptionStyleModel",
          "model_module_version": "1.5.0",
          "state": {
            "_model_module": "@jupyter-widgets/controls",
            "_model_module_version": "1.5.0",
            "_model_name": "DescriptionStyleModel",
            "_view_count": null,
            "_view_module": "@jupyter-widgets/base",
            "_view_module_version": "1.2.0",
            "_view_name": "StyleView",
            "description_width": ""
          }
        },
        "59e32c9fc7794aa5a424f4718c7b6367": {
          "model_module": "@jupyter-widgets/base",
          "model_name": "LayoutModel",
          "model_module_version": "1.2.0",
          "state": {
            "_model_module": "@jupyter-widgets/base",
            "_model_module_version": "1.2.0",
            "_model_name": "LayoutModel",
            "_view_count": null,
            "_view_module": "@jupyter-widgets/base",
            "_view_module_version": "1.2.0",
            "_view_name": "LayoutView",
            "align_content": null,
            "align_items": null,
            "align_self": null,
            "border": null,
            "bottom": null,
            "display": null,
            "flex": null,
            "flex_flow": null,
            "grid_area": null,
            "grid_auto_columns": null,
            "grid_auto_flow": null,
            "grid_auto_rows": null,
            "grid_column": null,
            "grid_gap": null,
            "grid_row": null,
            "grid_template_areas": null,
            "grid_template_columns": null,
            "grid_template_rows": null,
            "height": null,
            "justify_content": null,
            "justify_items": null,
            "left": null,
            "margin": null,
            "max_height": null,
            "max_width": null,
            "min_height": null,
            "min_width": null,
            "object_fit": null,
            "object_position": null,
            "order": null,
            "overflow": null,
            "overflow_x": null,
            "overflow_y": null,
            "padding": null,
            "right": null,
            "top": null,
            "visibility": null,
            "width": null
          }
        },
        "5c379f3b938f4f0cb45fdb565eb10c07": {
          "model_module": "@jupyter-widgets/controls",
          "model_name": "ProgressStyleModel",
          "model_module_version": "1.5.0",
          "state": {
            "_model_module": "@jupyter-widgets/controls",
            "_model_module_version": "1.5.0",
            "_model_name": "ProgressStyleModel",
            "_view_count": null,
            "_view_module": "@jupyter-widgets/base",
            "_view_module_version": "1.2.0",
            "_view_name": "StyleView",
            "bar_color": null,
            "description_width": ""
          }
        }
      }
    }
  },
  "cells": [
    {
      "cell_type": "markdown",
      "source": [
        "## Model Architecture - ResNet34\n",
        "\n",
        "Baseline Model"
      ],
      "metadata": {
        "id": "ox_cARCmj3ba"
      }
    },
    {
      "cell_type": "markdown",
      "source": [
        "## Installing & Importing Necessary Libraries"
      ],
      "metadata": {
        "id": "mYo1hnNcj-1z"
      }
    },
    {
      "cell_type": "code",
      "execution_count": 2,
      "metadata": {
        "id": "TGz__9BSOlm0"
      },
      "outputs": [],
      "source": [
        "#import necessary dependencies\n",
        "import os\n",
        "import torchvision\n",
        "import torch.nn as nn\n",
        "import torch\n",
        "import torch.nn.functional as F\n",
        "from torchvision import transforms,models,datasets\n",
        "from torchvision.datasets import ImageFolder\n",
        "import torchvision.transforms as transforms\n",
        "from torch.utils.data import DataLoader, Dataset, random_split\n",
        "from sklearn.model_selection import StratifiedKFold\n",
        "import matplotlib.pyplot as plt\n",
        "from PIL import Image\n",
        "import numpy as np\n",
        "from torch import optim\n",
        "device = 'cuda' if torch.cuda.is_available() else 'cpu'\n",
        "import cv2, glob, numpy as np, pandas as pd\n",
        "import matplotlib.pyplot as plt\n",
        "from glob import glob\n",
        "from tqdm import tqdm"
      ]
    },
    {
      "cell_type": "code",
      "source": [
        "from google.colab import drive\n",
        "drive.mount('/content/drive')"
      ],
      "metadata": {
        "colab": {
          "base_uri": "https://localhost:8080/"
        },
        "id": "WvcmV4sWYT_v",
        "outputId": "412a4267-1482-48a9-ed34-45bfec24bdfd"
      },
      "execution_count": 1,
      "outputs": [
        {
          "output_type": "stream",
          "name": "stdout",
          "text": [
            "Mounted at /content/drive\n"
          ]
        }
      ]
    },
    {
      "cell_type": "code",
      "source": [
        "!pip install -q wandb\n",
        "import wandb\n",
        "wandb.login()"
      ],
      "metadata": {
        "colab": {
          "base_uri": "https://localhost:8080/",
          "height": 191
        },
        "id": "Jd6aeyrpPThT",
        "outputId": "711804f9-b1ef-4938-dd06-0cfdd6e38074"
      },
      "execution_count": 3,
      "outputs": [
        {
          "output_type": "stream",
          "name": "stdout",
          "text": [
            "\u001b[2K     \u001b[90m━━━━━━━━━━━━━━━━━━━━━━━━━━━━━━━━━━━━━━━━\u001b[0m \u001b[32m2.2/2.2 MB\u001b[0m \u001b[31m14.7 MB/s\u001b[0m eta \u001b[36m0:00:00\u001b[0m\n",
            "\u001b[2K     \u001b[90m━━━━━━━━━━━━━━━━━━━━━━━━━━━━━━━━━━━━━━━━\u001b[0m \u001b[32m195.4/195.4 kB\u001b[0m \u001b[31m22.4 MB/s\u001b[0m eta \u001b[36m0:00:00\u001b[0m\n",
            "\u001b[2K     \u001b[90m━━━━━━━━━━━━━━━━━━━━━━━━━━━━━━━━━━━━━━━━\u001b[0m \u001b[32m258.5/258.5 kB\u001b[0m \u001b[31m17.4 MB/s\u001b[0m eta \u001b[36m0:00:00\u001b[0m\n",
            "\u001b[2K     \u001b[90m━━━━━━━━━━━━━━━━━━━━━━━━━━━━━━━━━━━━━━━━\u001b[0m \u001b[32m62.7/62.7 kB\u001b[0m \u001b[31m8.3 MB/s\u001b[0m eta \u001b[36m0:00:00\u001b[0m\n",
            "\u001b[?25h"
          ]
        },
        {
          "output_type": "display_data",
          "data": {
            "text/plain": [
              "<IPython.core.display.Javascript object>"
            ],
            "application/javascript": [
              "\n",
              "        window._wandbApiKey = new Promise((resolve, reject) => {\n",
              "            function loadScript(url) {\n",
              "            return new Promise(function(resolve, reject) {\n",
              "                let newScript = document.createElement(\"script\");\n",
              "                newScript.onerror = reject;\n",
              "                newScript.onload = resolve;\n",
              "                document.body.appendChild(newScript);\n",
              "                newScript.src = url;\n",
              "            });\n",
              "            }\n",
              "            loadScript(\"https://cdn.jsdelivr.net/npm/postmate/build/postmate.min.js\").then(() => {\n",
              "            const iframe = document.createElement('iframe')\n",
              "            iframe.style.cssText = \"width:0;height:0;border:none\"\n",
              "            document.body.appendChild(iframe)\n",
              "            const handshake = new Postmate({\n",
              "                container: iframe,\n",
              "                url: 'https://wandb.ai/authorize'\n",
              "            });\n",
              "            const timeout = setTimeout(() => reject(\"Couldn't auto authenticate\"), 5000)\n",
              "            handshake.then(function(child) {\n",
              "                child.on('authorize', data => {\n",
              "                    clearTimeout(timeout)\n",
              "                    resolve(data)\n",
              "                });\n",
              "            });\n",
              "            })\n",
              "        });\n",
              "    "
            ]
          },
          "metadata": {}
        },
        {
          "output_type": "stream",
          "name": "stderr",
          "text": [
            "\u001b[34m\u001b[1mwandb\u001b[0m: Logging into wandb.ai. (Learn how to deploy a W&B server locally: https://wandb.me/wandb-server)\n",
            "\u001b[34m\u001b[1mwandb\u001b[0m: You can find your API key in your browser here: https://wandb.ai/authorize\n",
            "wandb: Paste an API key from your profile and hit enter, or press ctrl+c to quit:"
          ]
        },
        {
          "name": "stdout",
          "output_type": "stream",
          "text": [
            " ··········\n"
          ]
        },
        {
          "output_type": "stream",
          "name": "stderr",
          "text": [
            "\u001b[34m\u001b[1mwandb\u001b[0m: Appending key for api.wandb.ai to your netrc file: /root/.netrc\n"
          ]
        },
        {
          "output_type": "execute_result",
          "data": {
            "text/plain": [
              "True"
            ]
          },
          "metadata": {},
          "execution_count": 3
        }
      ]
    },
    {
      "cell_type": "code",
      "source": [
        "# Using W&B for better logging and visualizations\n",
        "wandb.init(project=\"wound-classification-test\", config={\n",
        "    \"learning_rate\": 0.001,\n",
        "    \"architecture\": \"ResNet34\"\n",
        "})"
      ],
      "metadata": {
        "colab": {
          "base_uri": "https://localhost:8080/",
          "height": 140
        },
        "id": "QFIpmcq1Pd4I",
        "outputId": "934436be-71e6-4f6f-cc4f-8f9eda95ba35"
      },
      "execution_count": 4,
      "outputs": [
        {
          "output_type": "stream",
          "name": "stderr",
          "text": [
            "\u001b[34m\u001b[1mwandb\u001b[0m: Currently logged in as: \u001b[33msamyukta-palle\u001b[0m (\u001b[33maipi549\u001b[0m). Use \u001b[1m`wandb login --relogin`\u001b[0m to force relogin\n"
          ]
        },
        {
          "output_type": "display_data",
          "data": {
            "text/plain": [
              "<IPython.core.display.HTML object>"
            ],
            "text/html": [
              "Tracking run with wandb version 0.16.3"
            ]
          },
          "metadata": {}
        },
        {
          "output_type": "display_data",
          "data": {
            "text/plain": [
              "<IPython.core.display.HTML object>"
            ],
            "text/html": [
              "Run data is saved locally in <code>/content/wandb/run-20240220_071933-caydq6m1</code>"
            ]
          },
          "metadata": {}
        },
        {
          "output_type": "display_data",
          "data": {
            "text/plain": [
              "<IPython.core.display.HTML object>"
            ],
            "text/html": [
              "Syncing run <strong><a href='https://wandb.ai/aipi549/wound-classification-test/runs/caydq6m1' target=\"_blank\">crimson-springroll-8</a></strong> to <a href='https://wandb.ai/aipi549/wound-classification-test' target=\"_blank\">Weights & Biases</a> (<a href='https://wandb.me/run' target=\"_blank\">docs</a>)<br/>"
            ]
          },
          "metadata": {}
        },
        {
          "output_type": "display_data",
          "data": {
            "text/plain": [
              "<IPython.core.display.HTML object>"
            ],
            "text/html": [
              " View project at <a href='https://wandb.ai/aipi549/wound-classification-test' target=\"_blank\">https://wandb.ai/aipi549/wound-classification-test</a>"
            ]
          },
          "metadata": {}
        },
        {
          "output_type": "display_data",
          "data": {
            "text/plain": [
              "<IPython.core.display.HTML object>"
            ],
            "text/html": [
              " View run at <a href='https://wandb.ai/aipi549/wound-classification-test/runs/caydq6m1' target=\"_blank\">https://wandb.ai/aipi549/wound-classification-test/runs/caydq6m1</a>"
            ]
          },
          "metadata": {}
        },
        {
          "output_type": "execute_result",
          "data": {
            "text/html": [
              "<button onClick=\"this.nextSibling.style.display='block';this.style.display='none';\">Display W&B run</button><iframe src='https://wandb.ai/aipi549/wound-classification-test/runs/caydq6m1?jupyter=true' style='border:none;width:100%;height:420px;display:none;'></iframe>"
            ],
            "text/plain": [
              "<wandb.sdk.wandb_run.Run at 0x77fd0823c4c0>"
            ]
          },
          "metadata": {},
          "execution_count": 4
        }
      ]
    },
    {
      "cell_type": "markdown",
      "source": [
        "## Loading Data"
      ],
      "metadata": {
        "id": "Z3w605sykJeb"
      }
    },
    {
      "cell_type": "code",
      "source": [
        "%cd /content/drive/MyDrive/\n",
        "\n",
        "!unzip -q WoundDataset.zip -d /content/"
      ],
      "metadata": {
        "colab": {
          "base_uri": "https://localhost:8080/"
        },
        "id": "9OJXQOkIP7ai",
        "outputId": "914b6ed8-e127-4b90-c182-8666dc48762a"
      },
      "execution_count": 5,
      "outputs": [
        {
          "output_type": "stream",
          "name": "stdout",
          "text": [
            "/content/drive/MyDrive\n"
          ]
        }
      ]
    },
    {
      "cell_type": "code",
      "source": [
        "# Path to your dataset directory\n",
        "data_dir = '/content/WoundDataset/train'\n",
        "\n",
        "# List all the images in the dataset directory\n",
        "labels = os.listdir(data_dir)\n",
        "\n",
        "# Initialize a dictionary to store the count of images in each label\n",
        "label_count = {}\n",
        "\n",
        "# Count the number of images in each label\n",
        "for label in labels:\n",
        "    label_path = os.path.join(data_dir, label)\n",
        "    num_images = len(os.listdir(label_path))\n",
        "    label_count[label] = num_images\n",
        "\n",
        "# Create a bar graph to visualize the count of images in each label\n",
        "plt.figure(figsize=(10, 6))\n",
        "plt.bar(label_count.keys(), label_count.values(), color='skyblue')\n",
        "plt.xlabel('Labels')\n",
        "plt.ylabel('Number of Images')\n",
        "plt.title('Number of Images in Each Label')\n",
        "plt.xticks(rotation=45, ha='right')\n",
        "plt.tight_layout()\n",
        "plt.show()"
      ],
      "metadata": {
        "colab": {
          "base_uri": "https://localhost:8080/",
          "height": 525
        },
        "id": "xzFcQuZTP95S",
        "outputId": "40b80e32-3a07-48fd-bd7a-27236694fd31"
      },
      "execution_count": 6,
      "outputs": [
        {
          "output_type": "display_data",
          "data": {
            "text/plain": [
              "<Figure size 1000x600 with 1 Axes>"
            ],
            "image/png": "[encoded data removed]"
          },
          "metadata": {}
        }
      ]
    },
    {
      "cell_type": "markdown",
      "source": [
        "## Preprocessing\n",
        "\n",
        "Data Transformations"
      ],
      "metadata": {
        "id": "qI-Xp6kLkM_m"
      }
    },
    {
      "cell_type": "code",
      "source": [
        "def preprocess(data_dir):\n",
        "    \"\"\"\n",
        "    Preprocesses images in the specified directory.\n",
        "\n",
        "    Args:\n",
        "    - data_dir (str): Path to the dataset directory.\n",
        "\n",
        "    Returns:\n",
        "    - dataset (torchvision.datasets.ImageFolder): Preprocessed dataset.\n",
        "    \"\"\"\n",
        "    # Define transformations to apply to the images\n",
        "    transform = transforms.Compose([\n",
        "        transforms.Resize((224, 224)),  # Resize images to 224x224 pixels\n",
        "        transforms.ToTensor(),  # Convert images to PyTorch tensors\n",
        "        transforms.RandomHorizontalFlip(),  # Randomly flip images horizontally\n",
        "        transforms.RandomRotation(10),  # Randomly rotate images by up to 10 degrees\n",
        "        transforms.RandomVerticalFlip(),  # Randomly flip images vertically\n",
        "        transforms.Normalize([0.485, 0.456, 0.406], [0.229, 0.224, 0.225])  # Normalize images\n",
        "    ])\n",
        "\n",
        "    # Create a dataset from the images in the specified directory\n",
        "    dataset = datasets.ImageFolder(data_dir, transform=transform)\n",
        "\n",
        "    return dataset"
      ],
      "metadata": {
        "id": "bE8ds_ZKQBOj"
      },
      "execution_count": 7,
      "outputs": []
    },
    {
      "cell_type": "markdown",
      "source": [
        "## Modelling\n",
        "\n",
        "Train & Validate functions"
      ],
      "metadata": {
        "id": "oDFmtsv_kSdx"
      }
    },
    {
      "cell_type": "code",
      "source": [
        "def train(model, device, trainloader, valloader, criterion, optimizer, epochs, model_path):\n",
        "    \"\"\"\n",
        "    Train the model.\n",
        "\n",
        "    Args:\n",
        "    - model (torch.nn.Module): The neural network model.\n",
        "    - device (torch.device): The device to run the training on (e.g., CPU or GPU).\n",
        "    - trainloader (torch.utils.data.DataLoader): DataLoader for the training dataset.\n",
        "    - valloader (torch.utils.data.DataLoader): DataLoader for the validation dataset.\n",
        "    - criterion: The loss function.\n",
        "    - optimizer: The optimization algorithm.\n",
        "    - epochs (int): Number of epochs to train the model.\n",
        "    - model_path (str): Path to save the trained model.\n",
        "\n",
        "    Returns:\n",
        "    - total_loss (list): List of training losses per epoch.\n",
        "    \"\"\"\n",
        "    best_loss = float('inf')\n",
        "    total_loss = []\n",
        "\n",
        "    # Loop through epochs\n",
        "    for epoch in range(epochs):\n",
        "        model.train()\n",
        "        running_loss = 0\n",
        "        correct = 0\n",
        "        total = 0\n",
        "\n",
        "        progress_bar = tqdm(trainloader, desc=f'Epoch {epoch}/{epochs}', unit='batch')\n",
        "\n",
        "        # Loop through batches in the training data\n",
        "        for inputs, labels in progress_bar:\n",
        "            inputs, labels = inputs.to(device), labels.to(device)\n",
        "\n",
        "            optimizer.zero_grad()\n",
        "            outputs = model(inputs)\n",
        "            loss = criterion(outputs, labels)\n",
        "            loss.backward()\n",
        "            optimizer.step()\n",
        "\n",
        "            running_loss += loss.item()\n",
        "\n",
        "            _, predicted = torch.max(outputs, 1)\n",
        "            total += labels.size(0)\n",
        "            correct += (predicted == labels).sum().item()\n",
        "\n",
        "            # Update progress bar\n",
        "            progress_bar.set_postfix(loss=running_loss / len(progress_bar), accuracy=100 * correct / total)\n",
        "\n",
        "        train_loss = running_loss / len(trainloader)\n",
        "        train_accuracy = 100 * correct / total\n",
        "\n",
        "        # Validation\n",
        "        val_loss, val_accuracy = validate(model, device, valloader, criterion)\n",
        "\n",
        "        total_loss.append(train_loss)\n",
        "        print(val_accuracy)\n",
        "        # Log metrics to W&B\n",
        "        wandb.log({\"epoch\": epoch+1, \"train_loss\": train_loss, \"train_accuracy\": train_accuracy,\n",
        "                   \"val_loss\": val_loss, \"val_accuracy\": val_accuracy})\n",
        "\n",
        "        # Save the model if the validation loss is the best so far\n",
        "        if val_loss < best_loss:\n",
        "            best_loss = val_loss\n",
        "            torch.save(model.state_dict(), model_path)\n",
        "            print(\"Saving the model\")\n",
        "\n",
        "    print('Training finished!')\n",
        "    return total_loss\n",
        "\n",
        "def validate(model, device, valloader, criterion):\n",
        "    \"\"\"\n",
        "    Validate the model.\n",
        "\n",
        "    Args:\n",
        "    - model (torch.nn.Module): The neural network model.\n",
        "    - device (torch.device): The device to run the validation on (e.g., CPU or GPU).\n",
        "    - valloader (torch.utils.data.DataLoader): DataLoader for the validation dataset.\n",
        "    - criterion: The loss function.\n",
        "\n",
        "    Returns:\n",
        "    - val_loss (float): Validation loss.\n",
        "    - val_accuracy (float): Validation accuracy.\n",
        "    \"\"\"\n",
        "    model.eval()\n",
        "    val_loss = 0\n",
        "    correct = 0\n",
        "    total = 0\n",
        "\n",
        "    progress_bar = tqdm(valloader, desc='Validation', unit='batch')\n",
        "\n",
        "    with torch.no_grad():\n",
        "        # Loop through batches in the validation data\n",
        "        for inputs, labels in progress_bar:\n",
        "            inputs, labels = inputs.to(device), labels.to(device)\n",
        "            outputs = model(inputs)\n",
        "            batch_loss = criterion(outputs, labels)\n",
        "            val_loss += batch_loss.item()\n",
        "\n",
        "            _, predicted = torch.max(outputs, 1)\n",
        "            total += labels.size(0)\n",
        "            correct += (predicted == labels).sum().item()\n",
        "\n",
        "            # Update progress bar\n",
        "            progress_bar.set_postfix(loss=val_loss / len(progress_bar), accuracy=100 * correct / total)\n",
        "\n",
        "    val_loss /= len(valloader)\n",
        "    val_accuracy = 100 * correct / total\n",
        "\n",
        "    return val_loss, val_accuracy\n"
      ],
      "metadata": {
        "id": "-j2vd6_cQEP9"
      },
      "execution_count": 8,
      "outputs": []
    },
    {
      "cell_type": "code",
      "source": [
        "import time\n",
        "\n",
        "# Record the starting time\n",
        "start_time = time.time()\n",
        "\n",
        "# Determine the device to use (GPU if available, otherwise CPU)\n",
        "device = torch.device(\"cuda:0\" if torch.cuda.is_available() else \"cpu\")\n",
        "\n",
        "# Path to the dataset directory\n",
        "data_dir = '/content/WoundDataset/train'\n",
        "\n",
        "# Preprocess the dataset\n",
        "dataset = preprocess(data_dir)\n",
        "\n",
        "# Initialize StratifiedKFold for cross-validation\n",
        "skf = StratifiedKFold(n_splits=5, shuffle=True, random_state=42)\n",
        "\n",
        "# Define the loss function\n",
        "criterion = nn.CrossEntropyLoss()\n",
        "\n",
        "# Number of epochs for training\n",
        "epochs = 15\n",
        "\n",
        "# Print the unique labels in the dataset\n",
        "print(set(dataset.targets))\n",
        "\n",
        "# Loop through folds for cross-validation\n",
        "for fold, (train_index, val_index) in enumerate(skf.split(dataset.imgs, dataset.targets)):\n",
        "    print(f'Fold [{fold + 1}/5]')\n",
        "\n",
        "    # Create train and validation datasets based on fold indices\n",
        "    train_dataset = torch.utils.data.Subset(dataset, train_index)\n",
        "    val_dataset = torch.utils.data.Subset(dataset, val_index)\n",
        "\n",
        "    # Create DataLoader for train and validation datasets\n",
        "    trainloader = DataLoader(train_dataset, batch_size=32, shuffle=True)\n",
        "    valloader = DataLoader(val_dataset, batch_size=32, shuffle=True)\n",
        "\n",
        "    # Initialize the model (ResNet34) with the appropriate number of output classes\n",
        "    model = models.resnet34(pretrained=True)\n",
        "    num_ftrs = model.fc.in_features\n",
        "    model.fc = nn.Linear(num_ftrs, 10)  # 10 classes for the dataset\n",
        "\n",
        "    # Move the model to the selected device\n",
        "    model = model.to(device)\n",
        "\n",
        "    # Define the optimizer\n",
        "    optimizer = optim.Adam(model.parameters(), lr=0.001)\n",
        "\n",
        "    # Initialize Weights & Biases for logging\n",
        "    wandb.init(project=\"wound-classification\", name=f\"resNet34_fold_{fold}\")\n",
        "\n",
        "    # Define the path to save the trained model\n",
        "    model_path = f'/content/drive/MyDrive/resnet34_saved_model_fold_{fold}.pth'\n",
        "\n",
        "    # Train the model for the current fold\n",
        "    train(model, device, trainloader, valloader, criterion, optimizer, epochs, model_path)\n",
        "\n",
        "# Record the ending time\n",
        "end_time = time.time()\n",
        "\n",
        "# Calculate the elapsed time\n",
        "elapsed_time = end_time - start_time\n",
        "print(f\"Total time taken: {elapsed_time} seconds\")"
      ],
      "metadata": {
        "colab": {
          "base_uri": "https://localhost:8080/",
          "height": 1000,
          "referenced_widgets": [
            "a2cc40df14fd407da299366dc7ee4e8e",
            "1ded938a38044bdfa90ce0160bc6335c",
            "af99f01507bd481cbbc547837f9aa824",
            "f69820d8813b48f8a317fcd350ec02d7",
            "98eaaf92689148a2be41078e1e408eff",
            "96dda66e0fd44498915b2eb60d4e3079",
            "6ddb72d265d349a197627b50b8d5f2fa",
            "bdc24959a5064ec1ba83b6a3fbc414ca",
            "0610fe509c494febaad885a85555d55c",
            "8493cd7df9b941648e408a8dac9ca5be",
            "9bc9fa65612f4450b4fbeac98b63fae8",
            "1eab4ff5447b494b9a8216fb6a906535",
            "dee1be0e1b3b4b0893910816bd1e5d2a",
            "7b617af24fa343b0a905b8195f5c5cff",
            "e94e133f05b645b39c00ff3edbb51cc7",
            "531bcb390680408fa3fb078996974829",
            "16cd1762c55f4026a4c2d35e8053670a",
            "c78deda65a444a1aa390d700abd83513",
            "d9f74edadae741b8b760888acd095309",
            "bb4f275026e0423a8ec34c4996a88fb0",
            "57b70ae2130e4c6fa0fc84b4216aba12",
            "3f75e1af07a9468fba99960ea5893154",
            "68abbfe4ca2b4238a53697afe851f91a",
            "e025bc5690e647ec9db0560cc6ef081b",
            "d7761951b0614bfda2d6b1c1a4e053f4",
            "9c09e522440b41479e4f3526ac571245",
            "42860997e6fb4713b6cd60b04f8ea9c5",
            "bf22bfaf05154be4853352b6270b0915",
            "02f236d0e4e843a5894763397884cec9",
            "3b8a9b7cad464b05957e7d40132072d3",
            "e235d440a9444514a5e6b929d7ac7609",
            "e6ac2b5cdc74479692dfbe6963c4b248",
            "15e3a22c793a4d409416a5cdd647ca8a",
            "21cc2a346f0c4472adc1c88aa067addf",
            "893b22de434040ceba40c28b8d9dad0e",
            "1d626f8136b54f4280ee5a907f8c6323",
            "1b72de2935474a5eba6b9c0b27b9eef6",
            "9b37fa23450e4dc398e3dc7630aacf11",
            "59e32c9fc7794aa5a424f4718c7b6367",
            "5c379f3b938f4f0cb45fdb565eb10c07"
          ]
        },
        "id": "VPMmPhRbQGfZ",
        "outputId": "332fd9c4-29ce-493f-ab6d-dc0252119cb5"
      },
      "execution_count": 9,
      "outputs": [
        {
          "output_type": "stream",
          "name": "stdout",
          "text": [
            "{0, 1, 2, 3, 4, 5, 6, 7, 8, 9}\n",
            "Fold [1/5]\n"
          ]
        },
        {
          "output_type": "stream",
          "name": "stderr",
          "text": [
            "/usr/local/lib/python3.10/dist-packages/torchvision/models/_utils.py:208: UserWarning: The parameter 'pretrained' is deprecated since 0.13 and may be removed in the future, please use 'weights' instead.\n",
            "  warnings.warn(\n",
            "/usr/local/lib/python3.10/dist-packages/torchvision/models/_utils.py:223: UserWarning: Arguments other than a weight enum or `None` for 'weights' are deprecated since 0.13 and may be removed in the future. The current behavior is equivalent to passing `weights=ResNet34_Weights.IMAGENET1K_V1`. You can also use `weights=ResNet34_Weights.DEFAULT` to get the most up-to-date weights.\n",
            "  warnings.warn(msg)\n",
            "Downloading: \"https://download.pytorch.org/models/resnet34-b627a593.pth\" to /root/.cache/torch/hub/checkpoints/resnet34-b627a593.pth\n",
            "100%|██████████| 83.3M/83.3M [00:02<00:00, 38.9MB/s]\n"
          ]
        },
        {
          "output_type": "display_data",
          "data": {
            "text/plain": [
              "<IPython.core.display.HTML object>"
            ],
            "text/html": [
              "Finishing last run (ID:caydq6m1) before initializing another..."
            ]
          },
          "metadata": {}
        },
        {
          "output_type": "display_data",
          "data": {
            "text/plain": [
              "VBox(children=(Label(value='0.001 MB of 0.001 MB uploaded\\r'), FloatProgress(value=1.0, max=1.0)))"
            ],
            "application/vnd.jupyter.widget-view+json": {
              "version_major": 2,
              "version_minor": 0,
              "model_id": "a2cc40df14fd407da299366dc7ee4e8e"
            }
          },
          "metadata": {}
        },
        {
          "output_type": "display_data",
          "data": {
            "text/plain": [
              "<IPython.core.display.HTML object>"
            ],
            "text/html": [
              " View run <strong style=\"color:#cdcd00\">crimson-springroll-8</strong> at: <a href='https://wandb.ai/aipi549/wound-classification-test/runs/caydq6m1' target=\"_blank\">https://wandb.ai/aipi549/wound-classification-test/runs/caydq6m1</a><br/>Synced 5 W&B file(s), 0 media file(s), 0 artifact file(s) and 0 other file(s)"
            ]
          },
          "metadata": {}
        },
        {
          "output_type": "display_data",
          "data": {
            "text/plain": [
              "<IPython.core.display.HTML object>"
            ],
            "text/html": [
              "Find logs at: <code>/content/wandb/run-20240220_071933-caydq6m1/logs</code>"
            ]
          },
          "metadata": {}
        },
        {
          "output_type": "display_data",
          "data": {
            "text/plain": [
              "<IPython.core.display.HTML object>"
            ],
            "text/html": [
              "Successfully finished last run (ID:caydq6m1). Initializing new run:<br/>"
            ]
          },
          "metadata": {}
        },
        {
          "output_type": "display_data",
          "data": {
            "text/plain": [
              "<IPython.core.display.HTML object>"
            ],
            "text/html": [
              "Tracking run with wandb version 0.16.3"
            ]
          },
          "metadata": {}
        },
        {
          "output_type": "display_data",
          "data": {
            "text/plain": [
              "<IPython.core.display.HTML object>"
            ],
            "text/html": [
              "Run data is saved locally in <code>/content/wandb/run-20240220_071944-ddekdk31</code>"
            ]
          },
          "metadata": {}
        },
        {
          "output_type": "display_data",
          "data": {
            "text/plain": [
              "<IPython.core.display.HTML object>"
            ],
            "text/html": [
              "Syncing run <strong><a href='https://wandb.ai/aipi549/wound-classification/runs/ddekdk31' target=\"_blank\">resNet34_fold_0</a></strong> to <a href='https://wandb.ai/aipi549/wound-classification' target=\"_blank\">Weights & Biases</a> (<a href='https://wandb.me/run' target=\"_blank\">docs</a>)<br/>"
            ]
          },
          "metadata": {}
        },
        {
          "output_type": "display_data",
          "data": {
            "text/plain": [
              "<IPython.core.display.HTML object>"
            ],
            "text/html": [
              " View project at <a href='https://wandb.ai/aipi549/wound-classification' target=\"_blank\">https://wandb.ai/aipi549/wound-classification</a>"
            ]
          },
          "metadata": {}
        },
        {
          "output_type": "display_data",
          "data": {
            "text/plain": [
              "<IPython.core.display.HTML object>"
            ],
            "text/html": [
              " View run at <a href='https://wandb.ai/aipi549/wound-classification/runs/ddekdk31' target=\"_blank\">https://wandb.ai/aipi549/wound-classification/runs/ddekdk31</a>"
            ]
          },
          "metadata": {}
        },
        {
          "output_type": "stream",
          "name": "stderr",
          "text": [
            "Epoch 0/15: 100%|██████████| 68/68 [00:27<00:00,  2.44batch/s, accuracy=46.3, loss=1.6]\n",
            "Validation: 100%|██████████| 17/17 [00:04<00:00,  3.60batch/s, accuracy=44.2, loss=1.73]\n"
          ]
        },
        {
          "output_type": "stream",
          "name": "stdout",
          "text": [
            "44.15584415584416\n",
            "Saving the model\n"
          ]
        },
        {
          "output_type": "stream",
          "name": "stderr",
          "text": [
            "Epoch 1/15: 100%|██████████| 68/68 [00:25<00:00,  2.64batch/s, accuracy=57, loss=1.21]\n",
            "Validation: 100%|██████████| 17/17 [00:04<00:00,  3.63batch/s, accuracy=56.8, loss=1.22]\n"
          ]
        },
        {
          "output_type": "stream",
          "name": "stdout",
          "text": [
            "56.77179962894249\n",
            "Saving the model\n"
          ]
        },
        {
          "output_type": "stream",
          "name": "stderr",
          "text": [
            "Epoch 2/15: 100%|██████████| 68/68 [00:27<00:00,  2.49batch/s, accuracy=65.1, loss=0.992]\n",
            "Validation: 100%|██████████| 17/17 [00:04<00:00,  3.82batch/s, accuracy=56.8, loss=1.22]\n"
          ]
        },
        {
          "output_type": "stream",
          "name": "stdout",
          "text": [
            "56.77179962894249\n",
            "Saving the model\n"
          ]
        },
        {
          "output_type": "stream",
          "name": "stderr",
          "text": [
            "Epoch 3/15: 100%|██████████| 68/68 [00:26<00:00,  2.55batch/s, accuracy=68.4, loss=0.88]\n",
            "Validation: 100%|██████████| 17/17 [00:05<00:00,  3.35batch/s, accuracy=63.3, loss=1.13]\n"
          ]
        },
        {
          "output_type": "stream",
          "name": "stdout",
          "text": [
            "63.265306122448976\n",
            "Saving the model\n"
          ]
        },
        {
          "output_type": "stream",
          "name": "stderr",
          "text": [
            "Epoch 4/15: 100%|██████████| 68/68 [00:26<00:00,  2.60batch/s, accuracy=71.6, loss=0.816]\n",
            "Validation: 100%|██████████| 17/17 [00:04<00:00,  4.05batch/s, accuracy=71.1, loss=0.822]\n"
          ]
        },
        {
          "output_type": "stream",
          "name": "stdout",
          "text": [
            "71.05751391465677\n",
            "Saving the model\n"
          ]
        },
        {
          "output_type": "stream",
          "name": "stderr",
          "text": [
            "Epoch 5/15: 100%|██████████| 68/68 [00:26<00:00,  2.58batch/s, accuracy=75.3, loss=0.719]\n",
            "Validation: 100%|██████████| 17/17 [00:04<00:00,  3.98batch/s, accuracy=55.1, loss=1.43]\n"
          ]
        },
        {
          "output_type": "stream",
          "name": "stdout",
          "text": [
            "55.10204081632653\n"
          ]
        },
        {
          "output_type": "stream",
          "name": "stderr",
          "text": [
            "Epoch 6/15: 100%|██████████| 68/68 [00:26<00:00,  2.61batch/s, accuracy=76.4, loss=0.685]\n",
            "Validation: 100%|██████████| 17/17 [00:04<00:00,  3.40batch/s, accuracy=67, loss=1.04]\n"
          ]
        },
        {
          "output_type": "stream",
          "name": "stdout",
          "text": [
            "66.97588126159555\n"
          ]
        },
        {
          "output_type": "stream",
          "name": "stderr",
          "text": [
            "Epoch 7/15: 100%|██████████| 68/68 [00:26<00:00,  2.60batch/s, accuracy=76.3, loss=0.634]\n",
            "Validation: 100%|██████████| 17/17 [00:04<00:00,  4.08batch/s, accuracy=72.5, loss=0.882]\n"
          ]
        },
        {
          "output_type": "stream",
          "name": "stdout",
          "text": [
            "72.5417439703154\n"
          ]
        },
        {
          "output_type": "stream",
          "name": "stderr",
          "text": [
            "Epoch 8/15: 100%|██████████| 68/68 [00:26<00:00,  2.61batch/s, accuracy=79.5, loss=0.574]\n",
            "Validation: 100%|██████████| 17/17 [00:04<00:00,  3.83batch/s, accuracy=66.6, loss=0.959]\n"
          ]
        },
        {
          "output_type": "stream",
          "name": "stdout",
          "text": [
            "66.6048237476809\n"
          ]
        },
        {
          "output_type": "stream",
          "name": "stderr",
          "text": [
            "Epoch 9/15: 100%|██████████| 68/68 [00:26<00:00,  2.61batch/s, accuracy=82.2, loss=0.516]\n",
            "Validation: 100%|██████████| 17/17 [00:04<00:00,  3.56batch/s, accuracy=75.5, loss=0.744]\n"
          ]
        },
        {
          "output_type": "stream",
          "name": "stdout",
          "text": [
            "75.51020408163265\n",
            "Saving the model\n"
          ]
        },
        {
          "output_type": "stream",
          "name": "stderr",
          "text": [
            "Epoch 10/15: 100%|██████████| 68/68 [00:27<00:00,  2.52batch/s, accuracy=83.2, loss=0.481]\n",
            "Validation: 100%|██████████| 17/17 [00:04<00:00,  4.09batch/s, accuracy=68.5, loss=0.998]\n"
          ]
        },
        {
          "output_type": "stream",
          "name": "stdout",
          "text": [
            "68.46011131725417\n"
          ]
        },
        {
          "output_type": "stream",
          "name": "stderr",
          "text": [
            "Epoch 11/15: 100%|██████████| 68/68 [00:26<00:00,  2.61batch/s, accuracy=83.7, loss=0.471]\n",
            "Validation: 100%|██████████| 17/17 [00:04<00:00,  3.43batch/s, accuracy=70.1, loss=0.974]\n"
          ]
        },
        {
          "output_type": "stream",
          "name": "stdout",
          "text": [
            "70.12987012987013\n"
          ]
        },
        {
          "output_type": "stream",
          "name": "stderr",
          "text": [
            "Epoch 12/15: 100%|██████████| 68/68 [00:25<00:00,  2.62batch/s, accuracy=84.4, loss=0.42]\n",
            "Validation: 100%|██████████| 17/17 [00:04<00:00,  4.08batch/s, accuracy=72.5, loss=0.936]\n"
          ]
        },
        {
          "output_type": "stream",
          "name": "stdout",
          "text": [
            "72.5417439703154\n"
          ]
        },
        {
          "output_type": "stream",
          "name": "stderr",
          "text": [
            "Epoch 13/15: 100%|██████████| 68/68 [00:26<00:00,  2.61batch/s, accuracy=85.7, loss=0.409]\n",
            "Validation: 100%|██████████| 17/17 [00:04<00:00,  4.00batch/s, accuracy=77.7, loss=0.664]\n"
          ]
        },
        {
          "output_type": "stream",
          "name": "stdout",
          "text": [
            "77.73654916512059\n",
            "Saving the model\n"
          ]
        },
        {
          "output_type": "stream",
          "name": "stderr",
          "text": [
            "Epoch 14/15: 100%|██████████| 68/68 [00:26<00:00,  2.59batch/s, accuracy=87.1, loss=0.387]\n",
            "Validation: 100%|██████████| 17/17 [00:05<00:00,  3.39batch/s, accuracy=80.9, loss=0.607]\n"
          ]
        },
        {
          "output_type": "stream",
          "name": "stdout",
          "text": [
            "80.89053803339517\n",
            "Saving the model\n",
            "Training finished!\n",
            "Fold [2/5]\n"
          ]
        },
        {
          "output_type": "display_data",
          "data": {
            "text/plain": [
              "<IPython.core.display.HTML object>"
            ],
            "text/html": [
              "Finishing last run (ID:ddekdk31) before initializing another..."
            ]
          },
          "metadata": {}
        },
        {
          "output_type": "display_data",
          "data": {
            "text/plain": [
              "VBox(children=(Label(value='0.001 MB of 0.001 MB uploaded\\r'), FloatProgress(value=1.0, max=1.0)))"
            ],
            "application/vnd.jupyter.widget-view+json": {
              "version_major": 2,
              "version_minor": 0,
              "model_id": "0610fe509c494febaad885a85555d55c"
            }
          },
          "metadata": {}
        },
        {
          "output_type": "display_data",
          "data": {
            "text/plain": [
              "<IPython.core.display.HTML object>"
            ],
            "text/html": [
              "<style>\n",
              "    table.wandb td:nth-child(1) { padding: 0 10px; text-align: left ; width: auto;} td:nth-child(2) {text-align: left ; width: 100%}\n",
              "    .wandb-row { display: flex; flex-direction: row; flex-wrap: wrap; justify-content: flex-start; width: 100% }\n",
              "    .wandb-col { display: flex; flex-direction: column; flex-basis: 100%; flex: 1; padding: 10px; }\n",
              "    </style>\n",
              "<div class=\"wandb-row\"><div class=\"wandb-col\"><h3>Run history:</h3><br/><table class=\"wandb\"><tr><td>epoch</td><td>▁▁▂▃▃▃▄▅▅▅▆▇▇▇█</td></tr><tr><td>train_accuracy</td><td>▁▃▄▅▅▆▆▆▇▇▇▇███</td></tr><tr><td>train_loss</td><td>█▆▄▄▃▃▃▂▂▂▂▁▁▁▁</td></tr><tr><td>val_accuracy</td><td>▁▃▃▅▆▃▅▆▅▇▆▆▆▇█</td></tr><tr><td>val_loss</td><td>█▅▅▄▂▆▄▃▃▂▃▃▃▁▁</td></tr></table><br/></div><div class=\"wandb-col\"><h3>Run summary:</h3><br/><table class=\"wandb\"><tr><td>epoch</td><td>15</td></tr><tr><td>train_accuracy</td><td>87.08178</td></tr><tr><td>train_loss</td><td>0.38656</td></tr><tr><td>val_accuracy</td><td>80.89054</td></tr><tr><td>val_loss</td><td>0.60709</td></tr></table><br/></div></div>"
            ]
          },
          "metadata": {}
        },
        {
          "output_type": "display_data",
          "data": {
            "text/plain": [
              "<IPython.core.display.HTML object>"
            ],
            "text/html": [
              " View run <strong style=\"color:#cdcd00\">resNet34_fold_0</strong> at: <a href='https://wandb.ai/aipi549/wound-classification/runs/ddekdk31' target=\"_blank\">https://wandb.ai/aipi549/wound-classification/runs/ddekdk31</a><br/>Synced 5 W&B file(s), 0 media file(s), 0 artifact file(s) and 0 other file(s)"
            ]
          },
          "metadata": {}
        },
        {
          "output_type": "display_data",
          "data": {
            "text/plain": [
              "<IPython.core.display.HTML object>"
            ],
            "text/html": [
              "Find logs at: <code>/content/wandb/run-20240220_071944-ddekdk31/logs</code>"
            ]
          },
          "metadata": {}
        },
        {
          "output_type": "display_data",
          "data": {
            "text/plain": [
              "<IPython.core.display.HTML object>"
            ],
            "text/html": [
              "Successfully finished last run (ID:ddekdk31). Initializing new run:<br/>"
            ]
          },
          "metadata": {}
        },
        {
          "output_type": "display_data",
          "data": {
            "text/plain": [
              "<IPython.core.display.HTML object>"
            ],
            "text/html": [
              "Tracking run with wandb version 0.16.3"
            ]
          },
          "metadata": {}
        },
        {
          "output_type": "display_data",
          "data": {
            "text/plain": [
              "<IPython.core.display.HTML object>"
            ],
            "text/html": [
              "Run data is saved locally in <code>/content/wandb/run-20240220_072738-f0akkab6</code>"
            ]
          },
          "metadata": {}
        },
        {
          "output_type": "display_data",
          "data": {
            "text/plain": [
              "<IPython.core.display.HTML object>"
            ],
            "text/html": [
              "Syncing run <strong><a href='https://wandb.ai/aipi549/wound-classification/runs/f0akkab6' target=\"_blank\">resNet34_fold_1</a></strong> to <a href='https://wandb.ai/aipi549/wound-classification' target=\"_blank\">Weights & Biases</a> (<a href='https://wandb.me/run' target=\"_blank\">docs</a>)<br/>"
            ]
          },
          "metadata": {}
        },
        {
          "output_type": "display_data",
          "data": {
            "text/plain": [
              "<IPython.core.display.HTML object>"
            ],
            "text/html": [
              " View project at <a href='https://wandb.ai/aipi549/wound-classification' target=\"_blank\">https://wandb.ai/aipi549/wound-classification</a>"
            ]
          },
          "metadata": {}
        },
        {
          "output_type": "display_data",
          "data": {
            "text/plain": [
              "<IPython.core.display.HTML object>"
            ],
            "text/html": [
              " View run at <a href='https://wandb.ai/aipi549/wound-classification/runs/f0akkab6' target=\"_blank\">https://wandb.ai/aipi549/wound-classification/runs/f0akkab6</a>"
            ]
          },
          "metadata": {}
        },
        {
          "output_type": "stream",
          "name": "stderr",
          "text": [
            "Epoch 0/15: 100%|██████████| 68/68 [00:25<00:00,  2.63batch/s, accuracy=51.9, loss=1.43]\n",
            "Validation: 100%|██████████| 17/17 [00:05<00:00,  3.16batch/s, accuracy=49.6, loss=1.97]\n"
          ]
        },
        {
          "output_type": "stream",
          "name": "stdout",
          "text": [
            "49.62825278810409\n",
            "Saving the model\n"
          ]
        },
        {
          "output_type": "stream",
          "name": "stderr",
          "text": [
            "Epoch 1/15: 100%|██████████| 68/68 [00:25<00:00,  2.63batch/s, accuracy=60.3, loss=1.14]\n",
            "Validation: 100%|██████████| 17/17 [00:04<00:00,  3.76batch/s, accuracy=51.1, loss=1.42]\n"
          ]
        },
        {
          "output_type": "stream",
          "name": "stdout",
          "text": [
            "51.11524163568773\n",
            "Saving the model\n"
          ]
        },
        {
          "output_type": "stream",
          "name": "stderr",
          "text": [
            "Epoch 2/15: 100%|██████████| 68/68 [00:26<00:00,  2.53batch/s, accuracy=65.7, loss=1]\n",
            "Validation: 100%|██████████| 17/17 [00:04<00:00,  3.71batch/s, accuracy=64.1, loss=1.03]\n"
          ]
        },
        {
          "output_type": "stream",
          "name": "stdout",
          "text": [
            "64.1263940520446\n",
            "Saving the model\n"
          ]
        },
        {
          "output_type": "stream",
          "name": "stderr",
          "text": [
            "Epoch 3/15: 100%|██████████| 68/68 [00:25<00:00,  2.62batch/s, accuracy=72, loss=0.816]\n",
            "Validation: 100%|██████████| 17/17 [00:05<00:00,  3.26batch/s, accuracy=63.4, loss=1.07]\n"
          ]
        },
        {
          "output_type": "stream",
          "name": "stdout",
          "text": [
            "63.38289962825279\n"
          ]
        },
        {
          "output_type": "stream",
          "name": "stderr",
          "text": [
            "Epoch 4/15: 100%|██████████| 68/68 [00:25<00:00,  2.64batch/s, accuracy=72.9, loss=0.765]\n",
            "Validation: 100%|██████████| 17/17 [00:04<00:00,  3.84batch/s, accuracy=67.1, loss=0.952]\n"
          ]
        },
        {
          "output_type": "stream",
          "name": "stdout",
          "text": [
            "67.1003717472119\n",
            "Saving the model\n"
          ]
        },
        {
          "output_type": "stream",
          "name": "stderr",
          "text": [
            "Epoch 5/15: 100%|██████████| 68/68 [00:25<00:00,  2.65batch/s, accuracy=75.8, loss=0.703]\n",
            "Validation: 100%|██████████| 17/17 [00:05<00:00,  3.37batch/s, accuracy=69.3, loss=0.857]\n"
          ]
        },
        {
          "output_type": "stream",
          "name": "stdout",
          "text": [
            "69.33085501858736\n",
            "Saving the model\n"
          ]
        },
        {
          "output_type": "stream",
          "name": "stderr",
          "text": [
            "Epoch 6/15: 100%|██████████| 68/68 [00:25<00:00,  2.65batch/s, accuracy=78.4, loss=0.607]\n",
            "Validation: 100%|██████████| 17/17 [00:04<00:00,  3.61batch/s, accuracy=71, loss=0.945]\n"
          ]
        },
        {
          "output_type": "stream",
          "name": "stdout",
          "text": [
            "71.00371747211896\n"
          ]
        },
        {
          "output_type": "stream",
          "name": "stderr",
          "text": [
            "Epoch 7/15: 100%|██████████| 68/68 [00:25<00:00,  2.66batch/s, accuracy=80, loss=0.569]\n",
            "Validation: 100%|██████████| 17/17 [00:04<00:00,  3.79batch/s, accuracy=66.5, loss=1]\n"
          ]
        },
        {
          "output_type": "stream",
          "name": "stdout",
          "text": [
            "66.54275092936803\n"
          ]
        },
        {
          "output_type": "stream",
          "name": "stderr",
          "text": [
            "Epoch 8/15: 100%|██████████| 68/68 [00:25<00:00,  2.65batch/s, accuracy=81.7, loss=0.532]\n",
            "Validation: 100%|██████████| 17/17 [00:05<00:00,  3.25batch/s, accuracy=73.8, loss=0.825]\n"
          ]
        },
        {
          "output_type": "stream",
          "name": "stdout",
          "text": [
            "73.7918215613383\n",
            "Saving the model\n"
          ]
        },
        {
          "output_type": "stream",
          "name": "stderr",
          "text": [
            "Epoch 9/15: 100%|██████████| 68/68 [00:26<00:00,  2.58batch/s, accuracy=82.5, loss=0.501]\n",
            "Validation: 100%|██████████| 17/17 [00:04<00:00,  3.59batch/s, accuracy=74.9, loss=0.78]\n"
          ]
        },
        {
          "output_type": "stream",
          "name": "stdout",
          "text": [
            "74.90706319702602\n",
            "Saving the model\n"
          ]
        },
        {
          "output_type": "stream",
          "name": "stderr",
          "text": [
            "Epoch 10/15: 100%|██████████| 68/68 [00:25<00:00,  2.64batch/s, accuracy=84.7, loss=0.467]\n",
            "Validation: 100%|██████████| 17/17 [00:04<00:00,  3.78batch/s, accuracy=78.6, loss=0.647]\n"
          ]
        },
        {
          "output_type": "stream",
          "name": "stdout",
          "text": [
            "78.62453531598513\n",
            "Saving the model\n"
          ]
        },
        {
          "output_type": "stream",
          "name": "stderr",
          "text": [
            "Epoch 11/15: 100%|██████████| 68/68 [00:25<00:00,  2.64batch/s, accuracy=86.3, loss=0.418]\n",
            "Validation: 100%|██████████| 17/17 [00:05<00:00,  3.17batch/s, accuracy=79, loss=0.59]\n"
          ]
        },
        {
          "output_type": "stream",
          "name": "stdout",
          "text": [
            "78.99628252788104\n",
            "Saving the model\n"
          ]
        },
        {
          "output_type": "stream",
          "name": "stderr",
          "text": [
            "Epoch 12/15: 100%|██████████| 68/68 [00:25<00:00,  2.62batch/s, accuracy=86.9, loss=0.372]\n",
            "Validation: 100%|██████████| 17/17 [00:04<00:00,  3.80batch/s, accuracy=79, loss=0.668]\n"
          ]
        },
        {
          "output_type": "stream",
          "name": "stdout",
          "text": [
            "78.99628252788104\n"
          ]
        },
        {
          "output_type": "stream",
          "name": "stderr",
          "text": [
            "Epoch 13/15: 100%|██████████| 68/68 [00:25<00:00,  2.65batch/s, accuracy=88.2, loss=0.352]\n",
            "Validation: 100%|██████████| 17/17 [00:04<00:00,  3.74batch/s, accuracy=80.5, loss=0.63]\n"
          ]
        },
        {
          "output_type": "stream",
          "name": "stdout",
          "text": [
            "80.48327137546468\n"
          ]
        },
        {
          "output_type": "stream",
          "name": "stderr",
          "text": [
            "Epoch 14/15: 100%|██████████| 68/68 [00:25<00:00,  2.66batch/s, accuracy=89.4, loss=0.312]\n",
            "Validation: 100%|██████████| 17/17 [00:05<00:00,  3.17batch/s, accuracy=78.4, loss=0.653]\n"
          ]
        },
        {
          "output_type": "stream",
          "name": "stdout",
          "text": [
            "78.43866171003718\n",
            "Training finished!\n",
            "Fold [3/5]\n"
          ]
        },
        {
          "output_type": "display_data",
          "data": {
            "text/plain": [
              "<IPython.core.display.HTML object>"
            ],
            "text/html": [
              "Finishing last run (ID:f0akkab6) before initializing another..."
            ]
          },
          "metadata": {}
        },
        {
          "output_type": "display_data",
          "data": {
            "text/plain": [
              "VBox(children=(Label(value='0.001 MB of 0.001 MB uploaded\\r'), FloatProgress(value=1.0, max=1.0)))"
            ],
            "application/vnd.jupyter.widget-view+json": {
              "version_major": 2,
              "version_minor": 0,
              "model_id": "16cd1762c55f4026a4c2d35e8053670a"
            }
          },
          "metadata": {}
        },
        {
          "output_type": "display_data",
          "data": {
            "text/plain": [
              "<IPython.core.display.HTML object>"
            ],
            "text/html": [
              "<style>\n",
              "    table.wandb td:nth-child(1) { padding: 0 10px; text-align: left ; width: auto;} td:nth-child(2) {text-align: left ; width: 100%}\n",
              "    .wandb-row { display: flex; flex-direction: row; flex-wrap: wrap; justify-content: flex-start; width: 100% }\n",
              "    .wandb-col { display: flex; flex-direction: column; flex-basis: 100%; flex: 1; padding: 10px; }\n",
              "    </style>\n",
              "<div class=\"wandb-row\"><div class=\"wandb-col\"><h3>Run history:</h3><br/><table class=\"wandb\"><tr><td>epoch</td><td>▁▁▂▃▃▃▄▅▅▅▆▇▇▇█</td></tr><tr><td>train_accuracy</td><td>▁▃▄▅▅▅▆▆▇▇▇▇███</td></tr><tr><td>train_loss</td><td>█▆▅▄▄▃▃▃▂▂▂▂▁▁▁</td></tr><tr><td>val_accuracy</td><td>▁▁▄▄▅▅▆▅▆▇█████</td></tr><tr><td>val_loss</td><td>█▅▃▃▃▂▃▃▂▂▁▁▁▁▁</td></tr></table><br/></div><div class=\"wandb-col\"><h3>Run summary:</h3><br/><table class=\"wandb\"><tr><td>epoch</td><td>15</td></tr><tr><td>train_accuracy</td><td>89.36368</td></tr><tr><td>train_loss</td><td>0.31226</td></tr><tr><td>val_accuracy</td><td>78.43866</td></tr><tr><td>val_loss</td><td>0.65342</td></tr></table><br/></div></div>"
            ]
          },
          "metadata": {}
        },
        {
          "output_type": "display_data",
          "data": {
            "text/plain": [
              "<IPython.core.display.HTML object>"
            ],
            "text/html": [
              " View run <strong style=\"color:#cdcd00\">resNet34_fold_1</strong> at: <a href='https://wandb.ai/aipi549/wound-classification/runs/f0akkab6' target=\"_blank\">https://wandb.ai/aipi549/wound-classification/runs/f0akkab6</a><br/>Synced 5 W&B file(s), 0 media file(s), 0 artifact file(s) and 0 other file(s)"
            ]
          },
          "metadata": {}
        },
        {
          "output_type": "display_data",
          "data": {
            "text/plain": [
              "<IPython.core.display.HTML object>"
            ],
            "text/html": [
              "Find logs at: <code>/content/wandb/run-20240220_072738-f0akkab6/logs</code>"
            ]
          },
          "metadata": {}
        },
        {
          "output_type": "display_data",
          "data": {
            "text/plain": [
              "<IPython.core.display.HTML object>"
            ],
            "text/html": [
              "Successfully finished last run (ID:f0akkab6). Initializing new run:<br/>"
            ]
          },
          "metadata": {}
        },
        {
          "output_type": "display_data",
          "data": {
            "text/plain": [
              "<IPython.core.display.HTML object>"
            ],
            "text/html": [
              "Tracking run with wandb version 0.16.3"
            ]
          },
          "metadata": {}
        },
        {
          "output_type": "display_data",
          "data": {
            "text/plain": [
              "<IPython.core.display.HTML object>"
            ],
            "text/html": [
              "Run data is saved locally in <code>/content/wandb/run-20240220_073530-nfq96h7v</code>"
            ]
          },
          "metadata": {}
        },
        {
          "output_type": "display_data",
          "data": {
            "text/plain": [
              "<IPython.core.display.HTML object>"
            ],
            "text/html": [
              "Syncing run <strong><a href='https://wandb.ai/aipi549/wound-classification/runs/nfq96h7v' target=\"_blank\">resNet34_fold_2</a></strong> to <a href='https://wandb.ai/aipi549/wound-classification' target=\"_blank\">Weights & Biases</a> (<a href='https://wandb.me/run' target=\"_blank\">docs</a>)<br/>"
            ]
          },
          "metadata": {}
        },
        {
          "output_type": "display_data",
          "data": {
            "text/plain": [
              "<IPython.core.display.HTML object>"
            ],
            "text/html": [
              " View project at <a href='https://wandb.ai/aipi549/wound-classification' target=\"_blank\">https://wandb.ai/aipi549/wound-classification</a>"
            ]
          },
          "metadata": {}
        },
        {
          "output_type": "display_data",
          "data": {
            "text/plain": [
              "<IPython.core.display.HTML object>"
            ],
            "text/html": [
              " View run at <a href='https://wandb.ai/aipi549/wound-classification/runs/nfq96h7v' target=\"_blank\">https://wandb.ai/aipi549/wound-classification/runs/nfq96h7v</a>"
            ]
          },
          "metadata": {}
        },
        {
          "output_type": "stream",
          "name": "stderr",
          "text": [
            "Epoch 0/15: 100%|██████████| 68/68 [00:25<00:00,  2.62batch/s, accuracy=43.9, loss=1.62]\n",
            "Validation: 100%|██████████| 17/17 [00:04<00:00,  3.41batch/s, accuracy=45.7, loss=1.64]\n"
          ]
        },
        {
          "output_type": "stream",
          "name": "stdout",
          "text": [
            "45.72490706319702\n",
            "Saving the model\n"
          ]
        },
        {
          "output_type": "stream",
          "name": "stderr",
          "text": [
            "Epoch 1/15: 100%|██████████| 68/68 [00:26<00:00,  2.53batch/s, accuracy=57.1, loss=1.21]\n",
            "Validation: 100%|██████████| 17/17 [00:04<00:00,  4.07batch/s, accuracy=54.1, loss=1.5]\n"
          ]
        },
        {
          "output_type": "stream",
          "name": "stdout",
          "text": [
            "54.089219330855016\n",
            "Saving the model\n"
          ]
        },
        {
          "output_type": "stream",
          "name": "stderr",
          "text": [
            "Epoch 2/15: 100%|██████████| 68/68 [00:26<00:00,  2.61batch/s, accuracy=64.9, loss=0.996]\n",
            "Validation: 100%|██████████| 17/17 [00:04<00:00,  3.71batch/s, accuracy=58.4, loss=1.29]\n"
          ]
        },
        {
          "output_type": "stream",
          "name": "stdout",
          "text": [
            "58.36431226765799\n",
            "Saving the model\n"
          ]
        },
        {
          "output_type": "stream",
          "name": "stderr",
          "text": [
            "Epoch 3/15: 100%|██████████| 68/68 [00:25<00:00,  2.62batch/s, accuracy=65.5, loss=0.98]\n",
            "Validation: 100%|██████████| 17/17 [00:04<00:00,  3.78batch/s, accuracy=61.5, loss=1.08]\n"
          ]
        },
        {
          "output_type": "stream",
          "name": "stdout",
          "text": [
            "61.52416356877323\n",
            "Saving the model\n"
          ]
        },
        {
          "output_type": "stream",
          "name": "stderr",
          "text": [
            "Epoch 4/15: 100%|██████████| 68/68 [00:25<00:00,  2.62batch/s, accuracy=71, loss=0.81]\n",
            "Validation: 100%|██████████| 17/17 [00:04<00:00,  4.05batch/s, accuracy=67.1, loss=0.989]\n"
          ]
        },
        {
          "output_type": "stream",
          "name": "stdout",
          "text": [
            "67.1003717472119\n",
            "Saving the model\n"
          ]
        },
        {
          "output_type": "stream",
          "name": "stderr",
          "text": [
            "Epoch 5/15: 100%|██████████| 68/68 [00:25<00:00,  2.63batch/s, accuracy=74.5, loss=0.72]\n",
            "Validation: 100%|██████████| 17/17 [00:04<00:00,  3.50batch/s, accuracy=63.9, loss=1.17]\n"
          ]
        },
        {
          "output_type": "stream",
          "name": "stdout",
          "text": [
            "63.940520446096656\n"
          ]
        },
        {
          "output_type": "stream",
          "name": "stderr",
          "text": [
            "Epoch 6/15: 100%|██████████| 68/68 [00:25<00:00,  2.63batch/s, accuracy=74.4, loss=0.725]\n",
            "Validation: 100%|██████████| 17/17 [00:04<00:00,  3.96batch/s, accuracy=73.4, loss=0.749]\n"
          ]
        },
        {
          "output_type": "stream",
          "name": "stdout",
          "text": [
            "73.42007434944237\n",
            "Saving the model\n"
          ]
        },
        {
          "output_type": "stream",
          "name": "stderr",
          "text": [
            "Epoch 7/15: 100%|██████████| 68/68 [00:26<00:00,  2.62batch/s, accuracy=79.8, loss=0.577]\n",
            "Validation: 100%|██████████| 17/17 [00:04<00:00,  4.10batch/s, accuracy=73.4, loss=0.728]\n"
          ]
        },
        {
          "output_type": "stream",
          "name": "stdout",
          "text": [
            "73.42007434944237\n",
            "Saving the model\n"
          ]
        },
        {
          "output_type": "stream",
          "name": "stderr",
          "text": [
            "Epoch 8/15: 100%|██████████| 68/68 [00:26<00:00,  2.53batch/s, accuracy=79.5, loss=0.585]\n",
            "Validation: 100%|██████████| 17/17 [00:05<00:00,  3.35batch/s, accuracy=71, loss=1.09]\n"
          ]
        },
        {
          "output_type": "stream",
          "name": "stdout",
          "text": [
            "71.00371747211896\n"
          ]
        },
        {
          "output_type": "stream",
          "name": "stderr",
          "text": [
            "Epoch 9/15: 100%|██████████| 68/68 [00:26<00:00,  2.61batch/s, accuracy=84.2, loss=0.462]\n",
            "Validation: 100%|██████████| 17/17 [00:04<00:00,  4.05batch/s, accuracy=77.5, loss=0.697]\n"
          ]
        },
        {
          "output_type": "stream",
          "name": "stdout",
          "text": [
            "77.5092936802974\n",
            "Saving the model\n"
          ]
        },
        {
          "output_type": "stream",
          "name": "stderr",
          "text": [
            "Epoch 10/15: 100%|██████████| 68/68 [00:26<00:00,  2.60batch/s, accuracy=85, loss=0.439]\n",
            "Validation: 100%|██████████| 17/17 [00:04<00:00,  4.06batch/s, accuracy=77.9, loss=0.592]\n"
          ]
        },
        {
          "output_type": "stream",
          "name": "stdout",
          "text": [
            "77.88104089219331\n",
            "Saving the model\n"
          ]
        },
        {
          "output_type": "stream",
          "name": "stderr",
          "text": [
            "Epoch 11/15: 100%|██████████| 68/68 [00:25<00:00,  2.62batch/s, accuracy=85.8, loss=0.409]\n",
            "Validation: 100%|██████████| 17/17 [00:04<00:00,  3.42batch/s, accuracy=75.5, loss=0.953]\n"
          ]
        },
        {
          "output_type": "stream",
          "name": "stdout",
          "text": [
            "75.46468401486989\n"
          ]
        },
        {
          "output_type": "stream",
          "name": "stderr",
          "text": [
            "Epoch 12/15: 100%|██████████| 68/68 [00:25<00:00,  2.62batch/s, accuracy=84.8, loss=0.439]\n",
            "Validation: 100%|██████████| 17/17 [00:04<00:00,  3.97batch/s, accuracy=77, loss=0.686]\n"
          ]
        },
        {
          "output_type": "stream",
          "name": "stdout",
          "text": [
            "76.95167286245353\n"
          ]
        },
        {
          "output_type": "stream",
          "name": "stderr",
          "text": [
            "Epoch 13/15: 100%|██████████| 68/68 [00:25<00:00,  2.62batch/s, accuracy=86.7, loss=0.389]\n",
            "Validation: 100%|██████████| 17/17 [00:04<00:00,  3.91batch/s, accuracy=77.7, loss=0.636]\n"
          ]
        },
        {
          "output_type": "stream",
          "name": "stdout",
          "text": [
            "77.69516728624535\n"
          ]
        },
        {
          "output_type": "stream",
          "name": "stderr",
          "text": [
            "Epoch 14/15: 100%|██████████| 68/68 [00:25<00:00,  2.62batch/s, accuracy=88.6, loss=0.35]\n",
            "Validation: 100%|██████████| 17/17 [00:04<00:00,  3.50batch/s, accuracy=84.9, loss=0.502]\n"
          ]
        },
        {
          "output_type": "stream",
          "name": "stdout",
          "text": [
            "84.94423791821562\n",
            "Saving the model\n",
            "Training finished!\n",
            "Fold [4/5]\n"
          ]
        },
        {
          "output_type": "display_data",
          "data": {
            "text/plain": [
              "<IPython.core.display.HTML object>"
            ],
            "text/html": [
              "Finishing last run (ID:nfq96h7v) before initializing another..."
            ]
          },
          "metadata": {}
        },
        {
          "output_type": "display_data",
          "data": {
            "text/plain": [
              "VBox(children=(Label(value='0.001 MB of 0.010 MB uploaded\\r'), FloatProgress(value=0.11115153720211024, max=1.…"
            ],
            "application/vnd.jupyter.widget-view+json": {
              "version_major": 2,
              "version_minor": 0,
              "model_id": "d7761951b0614bfda2d6b1c1a4e053f4"
            }
          },
          "metadata": {}
        },
        {
          "output_type": "display_data",
          "data": {
            "text/plain": [
              "<IPython.core.display.HTML object>"
            ],
            "text/html": [
              "<style>\n",
              "    table.wandb td:nth-child(1) { padding: 0 10px; text-align: left ; width: auto;} td:nth-child(2) {text-align: left ; width: 100%}\n",
              "    .wandb-row { display: flex; flex-direction: row; flex-wrap: wrap; justify-content: flex-start; width: 100% }\n",
              "    .wandb-col { display: flex; flex-direction: column; flex-basis: 100%; flex: 1; padding: 10px; }\n",
              "    </style>\n",
              "<div class=\"wandb-row\"><div class=\"wandb-col\"><h3>Run history:</h3><br/><table class=\"wandb\"><tr><td>epoch</td><td>▁▁▂▃▃▃▄▅▅▅▆▇▇▇█</td></tr><tr><td>train_accuracy</td><td>▁▃▄▄▅▆▆▇▇▇▇█▇██</td></tr><tr><td>train_loss</td><td>█▆▅▄▄▃▃▂▂▂▁▁▁▁▁</td></tr><tr><td>val_accuracy</td><td>▁▂▃▄▅▄▆▆▆▇▇▆▇▇█</td></tr><tr><td>val_loss</td><td>█▇▆▅▄▅▃▂▅▂▂▄▂▂▁</td></tr></table><br/></div><div class=\"wandb-col\"><h3>Run summary:</h3><br/><table class=\"wandb\"><tr><td>epoch</td><td>15</td></tr><tr><td>train_accuracy</td><td>88.57408</td></tr><tr><td>train_loss</td><td>0.35014</td></tr><tr><td>val_accuracy</td><td>84.94424</td></tr><tr><td>val_loss</td><td>0.50203</td></tr></table><br/></div></div>"
            ]
          },
          "metadata": {}
        },
        {
          "output_type": "display_data",
          "data": {
            "text/plain": [
              "<IPython.core.display.HTML object>"
            ],
            "text/html": [
              " View run <strong style=\"color:#cdcd00\">resNet34_fold_2</strong> at: <a href='https://wandb.ai/aipi549/wound-classification/runs/nfq96h7v' target=\"_blank\">https://wandb.ai/aipi549/wound-classification/runs/nfq96h7v</a><br/>Synced 5 W&B file(s), 0 media file(s), 0 artifact file(s) and 0 other file(s)"
            ]
          },
          "metadata": {}
        },
        {
          "output_type": "display_data",
          "data": {
            "text/plain": [
              "<IPython.core.display.HTML object>"
            ],
            "text/html": [
              "Find logs at: <code>/content/wandb/run-20240220_073530-nfq96h7v/logs</code>"
            ]
          },
          "metadata": {}
        },
        {
          "output_type": "display_data",
          "data": {
            "text/plain": [
              "<IPython.core.display.HTML object>"
            ],
            "text/html": [
              "Successfully finished last run (ID:nfq96h7v). Initializing new run:<br/>"
            ]
          },
          "metadata": {}
        },
        {
          "output_type": "display_data",
          "data": {
            "text/plain": [
              "<IPython.core.display.HTML object>"
            ],
            "text/html": [
              "Tracking run with wandb version 0.16.3"
            ]
          },
          "metadata": {}
        },
        {
          "output_type": "display_data",
          "data": {
            "text/plain": [
              "<IPython.core.display.HTML object>"
            ],
            "text/html": [
              "Run data is saved locally in <code>/content/wandb/run-20240220_074320-vszu9sxb</code>"
            ]
          },
          "metadata": {}
        },
        {
          "output_type": "display_data",
          "data": {
            "text/plain": [
              "<IPython.core.display.HTML object>"
            ],
            "text/html": [
              "Syncing run <strong><a href='https://wandb.ai/aipi549/wound-classification/runs/vszu9sxb' target=\"_blank\">resNet34_fold_3</a></strong> to <a href='https://wandb.ai/aipi549/wound-classification' target=\"_blank\">Weights & Biases</a> (<a href='https://wandb.me/run' target=\"_blank\">docs</a>)<br/>"
            ]
          },
          "metadata": {}
        },
        {
          "output_type": "display_data",
          "data": {
            "text/plain": [
              "<IPython.core.display.HTML object>"
            ],
            "text/html": [
              " View project at <a href='https://wandb.ai/aipi549/wound-classification' target=\"_blank\">https://wandb.ai/aipi549/wound-classification</a>"
            ]
          },
          "metadata": {}
        },
        {
          "output_type": "display_data",
          "data": {
            "text/plain": [
              "<IPython.core.display.HTML object>"
            ],
            "text/html": [
              " View run at <a href='https://wandb.ai/aipi549/wound-classification/runs/vszu9sxb' target=\"_blank\">https://wandb.ai/aipi549/wound-classification/runs/vszu9sxb</a>"
            ]
          },
          "metadata": {}
        },
        {
          "output_type": "stream",
          "name": "stderr",
          "text": [
            "Epoch 0/15: 100%|██████████| 68/68 [00:26<00:00,  2.55batch/s, accuracy=45.9, loss=1.56]\n",
            "Validation: 100%|██████████| 17/17 [00:05<00:00,  3.27batch/s, accuracy=51.7, loss=1.46]\n"
          ]
        },
        {
          "output_type": "stream",
          "name": "stdout",
          "text": [
            "51.6728624535316\n",
            "Saving the model\n"
          ]
        },
        {
          "output_type": "stream",
          "name": "stderr",
          "text": [
            "Epoch 1/15: 100%|██████████| 68/68 [00:26<00:00,  2.61batch/s, accuracy=59.5, loss=1.15]\n",
            "Validation: 100%|██████████| 17/17 [00:04<00:00,  4.00batch/s, accuracy=47.2, loss=1.68]\n"
          ]
        },
        {
          "output_type": "stream",
          "name": "stdout",
          "text": [
            "47.21189591078067\n"
          ]
        },
        {
          "output_type": "stream",
          "name": "stderr",
          "text": [
            "Epoch 2/15: 100%|██████████| 68/68 [00:25<00:00,  2.64batch/s, accuracy=62.3, loss=1.05]\n",
            "Validation: 100%|██████████| 17/17 [00:04<00:00,  3.99batch/s, accuracy=55.6, loss=1.33]\n"
          ]
        },
        {
          "output_type": "stream",
          "name": "stdout",
          "text": [
            "55.57620817843866\n",
            "Saving the model\n"
          ]
        },
        {
          "output_type": "stream",
          "name": "stderr",
          "text": [
            "Epoch 3/15: 100%|██████████| 68/68 [00:25<00:00,  2.62batch/s, accuracy=67.6, loss=0.922]\n",
            "Validation: 100%|██████████| 17/17 [00:05<00:00,  3.21batch/s, accuracy=59.7, loss=1.3]\n"
          ]
        },
        {
          "output_type": "stream",
          "name": "stdout",
          "text": [
            "59.66542750929368\n",
            "Saving the model\n"
          ]
        },
        {
          "output_type": "stream",
          "name": "stderr",
          "text": [
            "Epoch 4/15: 100%|██████████| 68/68 [00:26<00:00,  2.61batch/s, accuracy=68.9, loss=0.881]\n",
            "Validation: 100%|██████████| 17/17 [00:04<00:00,  4.03batch/s, accuracy=64.9, loss=0.986]\n"
          ]
        },
        {
          "output_type": "stream",
          "name": "stdout",
          "text": [
            "64.86988847583643\n",
            "Saving the model\n"
          ]
        },
        {
          "output_type": "stream",
          "name": "stderr",
          "text": [
            "Epoch 5/15: 100%|██████████| 68/68 [00:25<00:00,  2.62batch/s, accuracy=75.6, loss=0.693]\n",
            "Validation: 100%|██████████| 17/17 [00:04<00:00,  3.98batch/s, accuracy=70.4, loss=0.921]\n"
          ]
        },
        {
          "output_type": "stream",
          "name": "stdout",
          "text": [
            "70.4460966542751\n",
            "Saving the model\n"
          ]
        },
        {
          "output_type": "stream",
          "name": "stderr",
          "text": [
            "Epoch 6/15: 100%|██████████| 68/68 [00:25<00:00,  2.62batch/s, accuracy=74.8, loss=0.736]\n",
            "Validation: 100%|██████████| 17/17 [00:05<00:00,  3.33batch/s, accuracy=72.7, loss=0.713]\n"
          ]
        },
        {
          "output_type": "stream",
          "name": "stdout",
          "text": [
            "72.67657992565056\n",
            "Saving the model\n"
          ]
        },
        {
          "output_type": "stream",
          "name": "stderr",
          "text": [
            "Epoch 7/15: 100%|██████████| 68/68 [00:26<00:00,  2.53batch/s, accuracy=78.1, loss=0.592]\n",
            "Validation: 100%|██████████| 17/17 [00:04<00:00,  3.95batch/s, accuracy=72.1, loss=0.772]\n"
          ]
        },
        {
          "output_type": "stream",
          "name": "stdout",
          "text": [
            "72.11895910780669\n"
          ]
        },
        {
          "output_type": "stream",
          "name": "stderr",
          "text": [
            "Epoch 8/15: 100%|██████████| 68/68 [00:25<00:00,  2.64batch/s, accuracy=83.5, loss=0.48]\n",
            "Validation: 100%|██████████| 17/17 [00:04<00:00,  3.99batch/s, accuracy=77.5, loss=0.671]\n"
          ]
        },
        {
          "output_type": "stream",
          "name": "stdout",
          "text": [
            "77.5092936802974\n",
            "Saving the model\n"
          ]
        },
        {
          "output_type": "stream",
          "name": "stderr",
          "text": [
            "Epoch 9/15: 100%|██████████| 68/68 [00:26<00:00,  2.61batch/s, accuracy=80.5, loss=0.551]\n",
            "Validation: 100%|██████████| 17/17 [00:05<00:00,  3.27batch/s, accuracy=75.7, loss=0.647]\n"
          ]
        },
        {
          "output_type": "stream",
          "name": "stdout",
          "text": [
            "75.65055762081785\n",
            "Saving the model\n"
          ]
        },
        {
          "output_type": "stream",
          "name": "stderr",
          "text": [
            "Epoch 10/15: 100%|██████████| 68/68 [00:26<00:00,  2.62batch/s, accuracy=83.3, loss=0.484]\n",
            "Validation: 100%|██████████| 17/17 [00:04<00:00,  3.97batch/s, accuracy=79, loss=0.592]\n"
          ]
        },
        {
          "output_type": "stream",
          "name": "stdout",
          "text": [
            "78.99628252788104\n",
            "Saving the model\n"
          ]
        },
        {
          "output_type": "stream",
          "name": "stderr",
          "text": [
            "Epoch 11/15: 100%|██████████| 68/68 [00:25<00:00,  2.62batch/s, accuracy=84.9, loss=0.421]\n",
            "Validation: 100%|██████████| 17/17 [00:04<00:00,  3.64batch/s, accuracy=74.2, loss=0.745]\n"
          ]
        },
        {
          "output_type": "stream",
          "name": "stdout",
          "text": [
            "74.1635687732342\n"
          ]
        },
        {
          "output_type": "stream",
          "name": "stderr",
          "text": [
            "Epoch 12/15: 100%|██████████| 68/68 [00:25<00:00,  2.63batch/s, accuracy=85.9, loss=0.396]\n",
            "Validation: 100%|██████████| 17/17 [00:04<00:00,  3.49batch/s, accuracy=82.5, loss=0.557]\n"
          ]
        },
        {
          "output_type": "stream",
          "name": "stdout",
          "text": [
            "82.5278810408922\n",
            "Saving the model\n"
          ]
        },
        {
          "output_type": "stream",
          "name": "stderr",
          "text": [
            "Epoch 13/15: 100%|██████████| 68/68 [00:25<00:00,  2.62batch/s, accuracy=88.3, loss=0.342]\n",
            "Validation: 100%|██████████| 17/17 [00:04<00:00,  3.97batch/s, accuracy=77.7, loss=0.71]\n"
          ]
        },
        {
          "output_type": "stream",
          "name": "stdout",
          "text": [
            "77.69516728624535\n"
          ]
        },
        {
          "output_type": "stream",
          "name": "stderr",
          "text": [
            "Epoch 14/15: 100%|██████████| 68/68 [00:26<00:00,  2.56batch/s, accuracy=88.1, loss=0.353]\n",
            "Validation: 100%|██████████| 17/17 [00:04<00:00,  3.45batch/s, accuracy=84, loss=0.533]\n"
          ]
        },
        {
          "output_type": "stream",
          "name": "stdout",
          "text": [
            "84.01486988847584\n",
            "Saving the model\n",
            "Training finished!\n",
            "Fold [5/5]\n"
          ]
        },
        {
          "output_type": "display_data",
          "data": {
            "text/plain": [
              "<IPython.core.display.HTML object>"
            ],
            "text/html": [
              "Finishing last run (ID:vszu9sxb) before initializing another..."
            ]
          },
          "metadata": {}
        },
        {
          "output_type": "display_data",
          "data": {
            "text/plain": [
              "VBox(children=(Label(value='0.001 MB of 0.001 MB uploaded\\r'), FloatProgress(value=1.0, max=1.0)))"
            ],
            "application/vnd.jupyter.widget-view+json": {
              "version_major": 2,
              "version_minor": 0,
              "model_id": "15e3a22c793a4d409416a5cdd647ca8a"
            }
          },
          "metadata": {}
        },
        {
          "output_type": "display_data",
          "data": {
            "text/plain": [
              "<IPython.core.display.HTML object>"
            ],
            "text/html": [
              "<style>\n",
              "    table.wandb td:nth-child(1) { padding: 0 10px; text-align: left ; width: auto;} td:nth-child(2) {text-align: left ; width: 100%}\n",
              "    .wandb-row { display: flex; flex-direction: row; flex-wrap: wrap; justify-content: flex-start; width: 100% }\n",
              "    .wandb-col { display: flex; flex-direction: column; flex-basis: 100%; flex: 1; padding: 10px; }\n",
              "    </style>\n",
              "<div class=\"wandb-row\"><div class=\"wandb-col\"><h3>Run history:</h3><br/><table class=\"wandb\"><tr><td>epoch</td><td>▁▁▂▃▃▃▄▅▅▅▆▇▇▇█</td></tr><tr><td>train_accuracy</td><td>▁▃▄▅▅▆▆▆▇▇▇▇███</td></tr><tr><td>train_loss</td><td>█▆▅▄▄▃▃▂▂▂▂▁▁▁▁</td></tr><tr><td>val_accuracy</td><td>▂▁▃▃▄▅▆▆▇▆▇▆█▇█</td></tr><tr><td>val_loss</td><td>▇█▆▆▄▃▂▂▂▂▁▂▁▂▁</td></tr></table><br/></div><div class=\"wandb-col\"><h3>Run summary:</h3><br/><table class=\"wandb\"><tr><td>epoch</td><td>15</td></tr><tr><td>train_accuracy</td><td>88.06317</td></tr><tr><td>train_loss</td><td>0.35311</td></tr><tr><td>val_accuracy</td><td>84.01487</td></tr><tr><td>val_loss</td><td>0.53325</td></tr></table><br/></div></div>"
            ]
          },
          "metadata": {}
        },
        {
          "output_type": "display_data",
          "data": {
            "text/plain": [
              "<IPython.core.display.HTML object>"
            ],
            "text/html": [
              " View run <strong style=\"color:#cdcd00\">resNet34_fold_3</strong> at: <a href='https://wandb.ai/aipi549/wound-classification/runs/vszu9sxb' target=\"_blank\">https://wandb.ai/aipi549/wound-classification/runs/vszu9sxb</a><br/>Synced 5 W&B file(s), 0 media file(s), 0 artifact file(s) and 0 other file(s)"
            ]
          },
          "metadata": {}
        },
        {
          "output_type": "display_data",
          "data": {
            "text/plain": [
              "<IPython.core.display.HTML object>"
            ],
            "text/html": [
              "Find logs at: <code>/content/wandb/run-20240220_074320-vszu9sxb/logs</code>"
            ]
          },
          "metadata": {}
        },
        {
          "output_type": "display_data",
          "data": {
            "text/plain": [
              "<IPython.core.display.HTML object>"
            ],
            "text/html": [
              "Successfully finished last run (ID:vszu9sxb). Initializing new run:<br/>"
            ]
          },
          "metadata": {}
        },
        {
          "output_type": "display_data",
          "data": {
            "text/plain": [
              "<IPython.core.display.HTML object>"
            ],
            "text/html": [
              "Tracking run with wandb version 0.16.3"
            ]
          },
          "metadata": {}
        },
        {
          "output_type": "display_data",
          "data": {
            "text/plain": [
              "<IPython.core.display.HTML object>"
            ],
            "text/html": [
              "Run data is saved locally in <code>/content/wandb/run-20240220_075109-1yunprqf</code>"
            ]
          },
          "metadata": {}
        },
        {
          "output_type": "display_data",
          "data": {
            "text/plain": [
              "<IPython.core.display.HTML object>"
            ],
            "text/html": [
              "Syncing run <strong><a href='https://wandb.ai/aipi549/wound-classification/runs/1yunprqf' target=\"_blank\">resNet34_fold_4</a></strong> to <a href='https://wandb.ai/aipi549/wound-classification' target=\"_blank\">Weights & Biases</a> (<a href='https://wandb.me/run' target=\"_blank\">docs</a>)<br/>"
            ]
          },
          "metadata": {}
        },
        {
          "output_type": "display_data",
          "data": {
            "text/plain": [
              "<IPython.core.display.HTML object>"
            ],
            "text/html": [
              " View project at <a href='https://wandb.ai/aipi549/wound-classification' target=\"_blank\">https://wandb.ai/aipi549/wound-classification</a>"
            ]
          },
          "metadata": {}
        },
        {
          "output_type": "display_data",
          "data": {
            "text/plain": [
              "<IPython.core.display.HTML object>"
            ],
            "text/html": [
              " View run at <a href='https://wandb.ai/aipi549/wound-classification/runs/1yunprqf' target=\"_blank\">https://wandb.ai/aipi549/wound-classification/runs/1yunprqf</a>"
            ]
          },
          "metadata": {}
        },
        {
          "output_type": "stream",
          "name": "stderr",
          "text": [
            "Epoch 0/15: 100%|██████████| 68/68 [00:25<00:00,  2.65batch/s, accuracy=45.8, loss=1.59]\n",
            "Validation: 100%|██████████| 17/17 [00:04<00:00,  3.60batch/s, accuracy=51.1, loss=1.4]\n"
          ]
        },
        {
          "output_type": "stream",
          "name": "stdout",
          "text": [
            "51.11524163568773\n",
            "Saving the model\n"
          ]
        },
        {
          "output_type": "stream",
          "name": "stderr",
          "text": [
            "Epoch 1/15: 100%|██████████| 68/68 [00:25<00:00,  2.65batch/s, accuracy=57.7, loss=1.21]\n",
            "Validation: 100%|██████████| 17/17 [00:05<00:00,  3.11batch/s, accuracy=54.1, loss=1.47]\n"
          ]
        },
        {
          "output_type": "stream",
          "name": "stdout",
          "text": [
            "54.089219330855016\n"
          ]
        },
        {
          "output_type": "stream",
          "name": "stderr",
          "text": [
            "Epoch 2/15: 100%|██████████| 68/68 [00:25<00:00,  2.66batch/s, accuracy=63.3, loss=1.02]\n",
            "Validation: 100%|██████████| 17/17 [00:04<00:00,  3.64batch/s, accuracy=59.9, loss=1.15]\n"
          ]
        },
        {
          "output_type": "stream",
          "name": "stdout",
          "text": [
            "59.85130111524163\n",
            "Saving the model\n"
          ]
        },
        {
          "output_type": "stream",
          "name": "stderr",
          "text": [
            "Epoch 3/15: 100%|██████████| 68/68 [00:25<00:00,  2.64batch/s, accuracy=68.6, loss=0.88]\n",
            "Validation: 100%|██████████| 17/17 [00:05<00:00,  3.34batch/s, accuracy=66.9, loss=1.02]\n"
          ]
        },
        {
          "output_type": "stream",
          "name": "stdout",
          "text": [
            "66.91449814126393\n",
            "Saving the model\n"
          ]
        },
        {
          "output_type": "stream",
          "name": "stderr",
          "text": [
            "Epoch 4/15: 100%|██████████| 68/68 [00:25<00:00,  2.65batch/s, accuracy=70, loss=0.841]\n",
            "Validation: 100%|██████████| 17/17 [00:05<00:00,  3.30batch/s, accuracy=67.8, loss=1.02]\n"
          ]
        },
        {
          "output_type": "stream",
          "name": "stdout",
          "text": [
            "67.84386617100371\n",
            "Saving the model\n"
          ]
        },
        {
          "output_type": "stream",
          "name": "stderr",
          "text": [
            "Epoch 5/15: 100%|██████████| 68/68 [00:25<00:00,  2.64batch/s, accuracy=76, loss=0.698]\n",
            "Validation: 100%|██████████| 17/17 [00:04<00:00,  3.61batch/s, accuracy=73, loss=0.806]\n"
          ]
        },
        {
          "output_type": "stream",
          "name": "stdout",
          "text": [
            "73.04832713754647\n",
            "Saving the model\n"
          ]
        },
        {
          "output_type": "stream",
          "name": "stderr",
          "text": [
            "Epoch 6/15: 100%|██████████| 68/68 [00:26<00:00,  2.57batch/s, accuracy=77.9, loss=0.632]\n",
            "Validation: 100%|██████████| 17/17 [00:05<00:00,  3.11batch/s, accuracy=69, loss=0.87]\n"
          ]
        },
        {
          "output_type": "stream",
          "name": "stdout",
          "text": [
            "68.95910780669145\n"
          ]
        },
        {
          "output_type": "stream",
          "name": "stderr",
          "text": [
            "Epoch 7/15: 100%|██████████| 68/68 [00:25<00:00,  2.66batch/s, accuracy=78.8, loss=0.586]\n",
            "Validation: 100%|██████████| 17/17 [00:04<00:00,  3.68batch/s, accuracy=69.1, loss=0.9]\n"
          ]
        },
        {
          "output_type": "stream",
          "name": "stdout",
          "text": [
            "69.14498141263941\n"
          ]
        },
        {
          "output_type": "stream",
          "name": "stderr",
          "text": [
            "Epoch 8/15: 100%|██████████| 68/68 [00:25<00:00,  2.64batch/s, accuracy=78.6, loss=0.597]\n",
            "Validation: 100%|██████████| 17/17 [00:04<00:00,  3.65batch/s, accuracy=75.8, loss=0.734]\n"
          ]
        },
        {
          "output_type": "stream",
          "name": "stdout",
          "text": [
            "75.8364312267658\n",
            "Saving the model\n"
          ]
        },
        {
          "output_type": "stream",
          "name": "stderr",
          "text": [
            "Epoch 9/15: 100%|██████████| 68/68 [00:25<00:00,  2.63batch/s, accuracy=83.7, loss=0.467]\n",
            "Validation: 100%|██████████| 17/17 [00:05<00:00,  3.06batch/s, accuracy=74.5, loss=0.742]\n"
          ]
        },
        {
          "output_type": "stream",
          "name": "stdout",
          "text": [
            "74.53531598513011\n"
          ]
        },
        {
          "output_type": "stream",
          "name": "stderr",
          "text": [
            "Epoch 10/15: 100%|██████████| 68/68 [00:25<00:00,  2.66batch/s, accuracy=83.7, loss=0.472]\n",
            "Validation: 100%|██████████| 17/17 [00:04<00:00,  3.67batch/s, accuracy=76.8, loss=0.774]\n"
          ]
        },
        {
          "output_type": "stream",
          "name": "stdout",
          "text": [
            "76.76579925650557\n"
          ]
        },
        {
          "output_type": "stream",
          "name": "stderr",
          "text": [
            "Epoch 11/15: 100%|██████████| 68/68 [00:25<00:00,  2.65batch/s, accuracy=86.3, loss=0.404]\n",
            "Validation: 100%|██████████| 17/17 [00:04<00:00,  3.70batch/s, accuracy=80.9, loss=0.612]\n"
          ]
        },
        {
          "output_type": "stream",
          "name": "stdout",
          "text": [
            "80.85501858736059\n",
            "Saving the model\n"
          ]
        },
        {
          "output_type": "stream",
          "name": "stderr",
          "text": [
            "Epoch 12/15: 100%|██████████| 68/68 [00:25<00:00,  2.65batch/s, accuracy=86.1, loss=0.398]\n",
            "Validation: 100%|██████████| 17/17 [00:05<00:00,  3.11batch/s, accuracy=72.7, loss=0.808]\n"
          ]
        },
        {
          "output_type": "stream",
          "name": "stdout",
          "text": [
            "72.67657992565056\n"
          ]
        },
        {
          "output_type": "stream",
          "name": "stderr",
          "text": [
            "Epoch 13/15: 100%|██████████| 68/68 [00:26<00:00,  2.57batch/s, accuracy=87.3, loss=0.368]\n",
            "Validation: 100%|██████████| 17/17 [00:04<00:00,  3.66batch/s, accuracy=71.2, loss=1]\n"
          ]
        },
        {
          "output_type": "stream",
          "name": "stdout",
          "text": [
            "71.18959107806691\n"
          ]
        },
        {
          "output_type": "stream",
          "name": "stderr",
          "text": [
            "Epoch 14/15: 100%|██████████| 68/68 [00:25<00:00,  2.66batch/s, accuracy=86.5, loss=0.384]\n",
            "Validation: 100%|██████████| 17/17 [00:04<00:00,  3.63batch/s, accuracy=82.9, loss=0.665]"
          ]
        },
        {
          "output_type": "stream",
          "name": "stdout",
          "text": [
            "82.8996282527881\n",
            "Training finished!\n",
            "Total time taken: 2358.4883465766907 seconds\n"
          ]
        },
        {
          "output_type": "stream",
          "name": "stderr",
          "text": [
            "\n"
          ]
        }
      ]
    },
    {
      "cell_type": "markdown",
      "source": [
        "## Plots\n",
        "\n",
        "Train & Validation Accuracy; Train & Validation Loss is in W&B graphs\n",
        "\n",
        "Below is Confusion Matrix, Accuracy, precision, recall and F1score for test dataset."
      ],
      "metadata": {
        "id": "kKzlIHj8kiTD"
      }
    },
    {
      "cell_type": "code",
      "source": [
        "from sklearn.metrics import confusion_matrix\n",
        "import seaborn as sns\n",
        "import matplotlib.pyplot as plt\n",
        "from PIL import Image\n",
        "\n",
        "# Determine the device to use (GPU if available, otherwise CPU)\n",
        "device = torch.device(\"cuda:0\" if torch.cuda.is_available() else \"cpu\")\n",
        "\n",
        "# Load the best model\n",
        "best_model_path = '/content/drive/MyDrive/resnet34_saved_model_fold_2.pth'\n",
        "\n",
        "# Initialize the model (ResNet34) with the appropriate number of output classes\n",
        "best_model = models.resnet34(pretrained=True)\n",
        "num_ftrs = best_model.fc.in_features\n",
        "best_model.fc = nn.Linear(num_ftrs, 10)  # 10 classes for the dataset\n",
        "best_model.load_state_dict(torch.load(best_model_path))\n",
        "best_model = best_model.to(device)\n",
        "best_model.eval()\n",
        "\n",
        "# Define the transformations for inference\n",
        "test_transform = transforms.Compose([\n",
        "    transforms.Resize((224, 224)),\n",
        "    transforms.ToTensor(),\n",
        "    transforms.Normalize([0.485, 0.456, 0.406], [0.229, 0.224, 0.225])\n",
        "])\n",
        "\n",
        "test_dir = '/content/WoundDataset/test'\n",
        "# Preprocess the dataset\n",
        "test_dataset = datasets.ImageFolder(test_dir, transform=test_transform)\n",
        "\n",
        "# Create DataLoader for the entire dataset\n",
        "test_loader = DataLoader(test_dataset, batch_size=32, shuffle=False)\n",
        "\n",
        "# Lists to store true and predicted labels\n",
        "true_labels = []\n",
        "predicted_labels = []\n",
        "\n",
        "# Evaluate the model on the test dataset\n",
        "with torch.no_grad():\n",
        "    for inputs, labels in test_loader:\n",
        "        inputs, labels = inputs.to(device), labels.to(device)\n",
        "        outputs = best_model(inputs)\n",
        "        _, predicted = torch.max(outputs, 1)\n",
        "        true_labels.extend(labels.cpu().numpy())\n",
        "        predicted_labels.extend(predicted.cpu().numpy())\n",
        "\n",
        "# Convert lists to numpy arrays\n",
        "true_labels = np.array(true_labels)\n",
        "predicted_labels = np.array(predicted_labels)"
      ],
      "metadata": {
        "id": "MmKnp9_RT3wq",
        "colab": {
          "base_uri": "https://localhost:8080/"
        },
        "outputId": "e28acfc6-9b8f-4979-bdf3-788f9c59bc03"
      },
      "execution_count": 10,
      "outputs": [
        {
          "output_type": "stream",
          "name": "stderr",
          "text": [
            "/usr/local/lib/python3.10/dist-packages/torchvision/models/_utils.py:208: UserWarning: The parameter 'pretrained' is deprecated since 0.13 and may be removed in the future, please use 'weights' instead.\n",
            "  warnings.warn(\n",
            "/usr/local/lib/python3.10/dist-packages/torchvision/models/_utils.py:223: UserWarning: Arguments other than a weight enum or `None` for 'weights' are deprecated since 0.13 and may be removed in the future. The current behavior is equivalent to passing `weights=ResNet34_Weights.IMAGENET1K_V1`. You can also use `weights=ResNet34_Weights.DEFAULT` to get the most up-to-date weights.\n",
            "  warnings.warn(msg)\n"
          ]
        }
      ]
    },
    {
      "cell_type": "code",
      "source": [
        "from sklearn.metrics import accuracy_score, precision_score, recall_score, f1_score\n",
        "\n",
        "# Assuming test_pred_y and y_test are your predicted and actual labels respectively\n",
        "\n",
        "# Compute accuracy\n",
        "accuracy = accuracy_score(true_labels, predicted_labels)\n",
        "\n",
        "# Compute precision\n",
        "precision = precision_score(true_labels, predicted_labels, average='weighted')\n",
        "\n",
        "# Compute recall\n",
        "recall = recall_score(true_labels, predicted_labels, average='weighted')\n",
        "\n",
        "# Compute F1 score\n",
        "f1 = f1_score(true_labels, predicted_labels, average='weighted')\n",
        "\n",
        "# Print the results\n",
        "print(\"Accuracy:\", accuracy)\n",
        "print(\"Precision:\", precision)\n",
        "print(\"Recall:\", recall)\n",
        "print(\"F1 Score:\", f1)"
      ],
      "metadata": {
        "colab": {
          "base_uri": "https://localhost:8080/"
        },
        "id": "AqVxp4kri1F8",
        "outputId": "95a5a86b-6b99-46af-a852-9e00755d6a1b"
      },
      "execution_count": 11,
      "outputs": [
        {
          "output_type": "stream",
          "name": "stdout",
          "text": [
            "Accuracy: 0.8202247191011236\n",
            "Precision: 0.8283059404490608\n",
            "Recall: 0.8202247191011236\n",
            "F1 Score: 0.8146375394991514\n"
          ]
        }
      ]
    },
    {
      "cell_type": "code",
      "source": [
        "# Calculate the confusion matrix\n",
        "conf_matrix = confusion_matrix(true_labels, predicted_labels)\n",
        "\n",
        "# Define your class labels\n",
        "class_labels = [\"Abrasions\", \"Bruises\", \"Burns\", \"Cut\", \"Diabetic Wounds\", \"Laseration\", \"Normal\", \"Pressure Wounds\", \"Surgical Wounds\", \"Venous Wounds\"]  # Add your class labels here\n",
        "\n",
        "# Visualize the confusion matrix with class labels\n",
        "plt.figure(figsize=(10, 8))\n",
        "sns.heatmap(conf_matrix, annot=True, fmt='d', cmap='Blues',\n",
        "            xticklabels=class_labels, yticklabels=class_labels)\n",
        "plt.xlabel('Predicted')\n",
        "plt.ylabel('True')\n",
        "plt.title('Confusion Matrix')\n",
        "plt.show()"
      ],
      "metadata": {
        "colab": {
          "base_uri": "https://localhost:8080/",
          "height": 793
        },
        "id": "uonk-uKbi54l",
        "outputId": "c622cb09-c34c-4aef-eea9-dc105a884609"
      },
      "execution_count": 13,
      "outputs": [
        {
          "output_type": "display_data",
          "data": {
            "text/plain": [
              "<Figure size 1000x800 with 2 Axes>"
            ],
            "image/png": "[encoded data removed]"
          },
          "metadata": {}
        }
      ]
    },
    {
      "cell_type": "code",
      "source": [],
      "metadata": {
        "id": "dGisxAUNi8KL"
      },
      "execution_count": null,
      "outputs": []
    }
  ]
}