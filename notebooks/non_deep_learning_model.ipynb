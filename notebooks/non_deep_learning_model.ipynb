{
 "cells": [
  {
   "cell_type": "markdown",
   "metadata": {},
   "source": [
    "## SVM with feature extraction using neural nets"
   ]
  },
  {
   "cell_type": "code",
   "execution_count": null,
   "metadata": {},
   "outputs": [],
   "source": [
    "import torch\n",
    "from torchvision import datasets, transforms, models\n",
    "from sklearn.svm import SVC\n",
    "from sklearn.metrics import accuracy_score\n",
    "from sklearn.model_selection import train_test_split\n",
    "from torch.utils.data import DataLoader, Subset\n",
    "import numpy as np\n",
    "import random\n",
    "\n",
    "def extract_features(data_dir, sample_size=100):\n",
    "    transform = transforms.Compose([\n",
    "        transforms.Resize((224, 224)),\n",
    "        transforms.ToTensor(),\n",
    "        transforms.Normalize([0.485, 0.456, 0.406], [0.229, 0.224, 0.225])\n",
    "    ])\n",
    "    \n",
    "    # Load dataset and sample a subset\n",
    "    full_dataset = datasets.ImageFolder(data_dir, transform=transform)\n",
    "    indices = list(range(len(full_dataset)))\n",
    "    sampled_indices = random.sample(indices, sample_size)\n",
    "    dataset = Subset(full_dataset, sampled_indices)\n",
    "    loader = DataLoader(dataset, batch_size=len(dataset), shuffle=False)\n",
    "    \n",
    "    # Use ResNet50 for feature extraction\n",
    "    model = models.resnet50(pretrained=True)\n",
    "    model = torch.nn.Sequential(*(list(model.children())[:-1]))  # Remove last layer\n",
    "    model.eval()\n",
    "\n",
    "    features = []\n",
    "    labels = []\n",
    "    \n",
    "    with torch.no_grad():\n",
    "        for inputs, label_batch in loader:\n",
    "            # Extract features\n",
    "            output = model(inputs).flatten(start_dim=1)\n",
    "            features.append(output)\n",
    "            labels.append(label_batch)\n",
    "    \n",
    "    features = torch.cat(features).numpy()\n",
    "    labels = torch.cat(labels).numpy()\n",
    "    \n",
    "    return features, labels\n",
    "\n",
    "def train_svm(features, labels):\n",
    "    # Split the data into training and validation sets\n",
    "    X_train, X_val, y_train, y_val = train_test_split(features, labels, test_size=0.2, random_state=42)\n",
    "    \n",
    "    # Train SVM\n",
    "    clf = SVC(kernel='linear', C=1)\n",
    "    clf.fit(X_train, y_train)\n",
    "    \n",
    "    # Validate\n",
    "    predictions = clf.predict(X_val)\n",
    "    accuracy = accuracy_score(y_val, predictions)\n",
    "    print(f\"Validation Accuracy: {accuracy:.4f}\")\n",
    "\n",
    "# Load data and preprocess\n",
    "data_dir = '/Users/mrinoyb2/git/Wound-Detection/Wound_dataset copy' \n",
    "features, labels = extract_features(data_dir, sample_size=100)  # Adjust sample_size as needed\n",
    "\n",
    "# Train and evaluate the SVM model\n",
    "train_svm(features, labels)"
   ]
  }
 ],
 "metadata": {
  "kernelspec": {
   "display_name": "Python 3",
   "language": "python",
   "name": "python3"
  },
  "language_info": {
   "codemirror_mode": {
    "name": "ipython",
    "version": 3
   },
   "file_extension": ".py",
   "mimetype": "text/x-python",
   "name": "python",
   "nbconvert_exporter": "python",
   "pygments_lexer": "ipython3",
   "version": "3.9.6"
  }
 },
 "nbformat": 4,
 "nbformat_minor": 2
}
