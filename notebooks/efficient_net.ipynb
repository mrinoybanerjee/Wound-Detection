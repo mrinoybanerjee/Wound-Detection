{
  "nbformat": 4,
  "nbformat_minor": 0,
  "metadata": {
    "colab": {
      "provenance": [],
      "gpuType": "T4"
    },
    "kernelspec": {
      "name": "python3",
      "display_name": "Python 3"
    },
    "language_info": {
      "name": "python"
    },
    "widgets": {
      "application/vnd.jupyter.widget-state+json": {
        "058cd95654534d2283e560303cb6eafe": {
          "model_module": "@jupyter-widgets/controls",
          "model_name": "VBoxModel",
          "model_module_version": "1.5.0",
          "state": {
            "_dom_classes": [],
            "_model_module": "@jupyter-widgets/controls",
            "_model_module_version": "1.5.0",
            "_model_name": "VBoxModel",
            "_view_count": null,
            "_view_module": "@jupyter-widgets/controls",
            "_view_module_version": "1.5.0",
            "_view_name": "VBoxView",
            "box_style": "",
            "children": [
              "IPY_MODEL_83b34843d08440349a1cb926576b9b45",
              "IPY_MODEL_e0919114b8414cfabaa9473407a65496"
            ],
            "layout": "IPY_MODEL_4bcc69b77ab641f5b1d80801630635e9"
          }
        },
        "83b34843d08440349a1cb926576b9b45": {
          "model_module": "@jupyter-widgets/controls",
          "model_name": "LabelModel",
          "model_module_version": "1.5.0",
          "state": {
            "_dom_classes": [],
            "_model_module": "@jupyter-widgets/controls",
            "_model_module_version": "1.5.0",
            "_model_name": "LabelModel",
            "_view_count": null,
            "_view_module": "@jupyter-widgets/controls",
            "_view_module_version": "1.5.0",
            "_view_name": "LabelView",
            "description": "",
            "description_tooltip": null,
            "layout": "IPY_MODEL_0ac23f9ebd7649858b5d02e19a9403f8",
            "placeholder": "​",
            "style": "IPY_MODEL_901b2c1e5e2f45e28ddfb5ae332030a8",
            "value": "0.011 MB of 0.011 MB uploaded\r"
          }
        },
        "e0919114b8414cfabaa9473407a65496": {
          "model_module": "@jupyter-widgets/controls",
          "model_name": "FloatProgressModel",
          "model_module_version": "1.5.0",
          "state": {
            "_dom_classes": [],
            "_model_module": "@jupyter-widgets/controls",
            "_model_module_version": "1.5.0",
            "_model_name": "FloatProgressModel",
            "_view_count": null,
            "_view_module": "@jupyter-widgets/controls",
            "_view_module_version": "1.5.0",
            "_view_name": "ProgressView",
            "bar_style": "",
            "description": "",
            "description_tooltip": null,
            "layout": "IPY_MODEL_7303f7b8c18549e58dbdffdca9549d58",
            "max": 1,
            "min": 0,
            "orientation": "horizontal",
            "style": "IPY_MODEL_240a7dfd10024a74beb31a460299fce8",
            "value": 1
          }
        },
        "4bcc69b77ab641f5b1d80801630635e9": {
          "model_module": "@jupyter-widgets/base",
          "model_name": "LayoutModel",
          "model_module_version": "1.2.0",
          "state": {
            "_model_module": "@jupyter-widgets/base",
            "_model_module_version": "1.2.0",
            "_model_name": "LayoutModel",
            "_view_count": null,
            "_view_module": "@jupyter-widgets/base",
            "_view_module_version": "1.2.0",
            "_view_name": "LayoutView",
            "align_content": null,
            "align_items": null,
            "align_self": null,
            "border": null,
            "bottom": null,
            "display": null,
            "flex": null,
            "flex_flow": null,
            "grid_area": null,
            "grid_auto_columns": null,
            "grid_auto_flow": null,
            "grid_auto_rows": null,
            "grid_column": null,
            "grid_gap": null,
            "grid_row": null,
            "grid_template_areas": null,
            "grid_template_columns": null,
            "grid_template_rows": null,
            "height": null,
            "justify_content": null,
            "justify_items": null,
            "left": null,
            "margin": null,
            "max_height": null,
            "max_width": null,
            "min_height": null,
            "min_width": null,
            "object_fit": null,
            "object_position": null,
            "order": null,
            "overflow": null,
            "overflow_x": null,
            "overflow_y": null,
            "padding": null,
            "right": null,
            "top": null,
            "visibility": null,
            "width": null
          }
        },
        "0ac23f9ebd7649858b5d02e19a9403f8": {
          "model_module": "@jupyter-widgets/base",
          "model_name": "LayoutModel",
          "model_module_version": "1.2.0",
          "state": {
            "_model_module": "@jupyter-widgets/base",
            "_model_module_version": "1.2.0",
            "_model_name": "LayoutModel",
            "_view_count": null,
            "_view_module": "@jupyter-widgets/base",
            "_view_module_version": "1.2.0",
            "_view_name": "LayoutView",
            "align_content": null,
            "align_items": null,
            "align_self": null,
            "border": null,
            "bottom": null,
            "display": null,
            "flex": null,
            "flex_flow": null,
            "grid_area": null,
            "grid_auto_columns": null,
            "grid_auto_flow": null,
            "grid_auto_rows": null,
            "grid_column": null,
            "grid_gap": null,
            "grid_row": null,
            "grid_template_areas": null,
            "grid_template_columns": null,
            "grid_template_rows": null,
            "height": null,
            "justify_content": null,
            "justify_items": null,
            "left": null,
            "margin": null,
            "max_height": null,
            "max_width": null,
            "min_height": null,
            "min_width": null,
            "object_fit": null,
            "object_position": null,
            "order": null,
            "overflow": null,
            "overflow_x": null,
            "overflow_y": null,
            "padding": null,
            "right": null,
            "top": null,
            "visibility": null,
            "width": null
          }
        },
        "901b2c1e5e2f45e28ddfb5ae332030a8": {
          "model_module": "@jupyter-widgets/controls",
          "model_name": "DescriptionStyleModel",
          "model_module_version": "1.5.0",
          "state": {
            "_model_module": "@jupyter-widgets/controls",
            "_model_module_version": "1.5.0",
            "_model_name": "DescriptionStyleModel",
            "_view_count": null,
            "_view_module": "@jupyter-widgets/base",
            "_view_module_version": "1.2.0",
            "_view_name": "StyleView",
            "description_width": ""
          }
        },
        "7303f7b8c18549e58dbdffdca9549d58": {
          "model_module": "@jupyter-widgets/base",
          "model_name": "LayoutModel",
          "model_module_version": "1.2.0",
          "state": {
            "_model_module": "@jupyter-widgets/base",
            "_model_module_version": "1.2.0",
            "_model_name": "LayoutModel",
            "_view_count": null,
            "_view_module": "@jupyter-widgets/base",
            "_view_module_version": "1.2.0",
            "_view_name": "LayoutView",
            "align_content": null,
            "align_items": null,
            "align_self": null,
            "border": null,
            "bottom": null,
            "display": null,
            "flex": null,
            "flex_flow": null,
            "grid_area": null,
            "grid_auto_columns": null,
            "grid_auto_flow": null,
            "grid_auto_rows": null,
            "grid_column": null,
            "grid_gap": null,
            "grid_row": null,
            "grid_template_areas": null,
            "grid_template_columns": null,
            "grid_template_rows": null,
            "height": null,
            "justify_content": null,
            "justify_items": null,
            "left": null,
            "margin": null,
            "max_height": null,
            "max_width": null,
            "min_height": null,
            "min_width": null,
            "object_fit": null,
            "object_position": null,
            "order": null,
            "overflow": null,
            "overflow_x": null,
            "overflow_y": null,
            "padding": null,
            "right": null,
            "top": null,
            "visibility": null,
            "width": null
          }
        },
        "240a7dfd10024a74beb31a460299fce8": {
          "model_module": "@jupyter-widgets/controls",
          "model_name": "ProgressStyleModel",
          "model_module_version": "1.5.0",
          "state": {
            "_model_module": "@jupyter-widgets/controls",
            "_model_module_version": "1.5.0",
            "_model_name": "ProgressStyleModel",
            "_view_count": null,
            "_view_module": "@jupyter-widgets/base",
            "_view_module_version": "1.2.0",
            "_view_name": "StyleView",
            "bar_color": null,
            "description_width": ""
          }
        },
        "03ffbc6ad4664324a206355bc16d9bb4": {
          "model_module": "@jupyter-widgets/controls",
          "model_name": "VBoxModel",
          "model_module_version": "1.5.0",
          "state": {
            "_dom_classes": [],
            "_model_module": "@jupyter-widgets/controls",
            "_model_module_version": "1.5.0",
            "_model_name": "VBoxModel",
            "_view_count": null,
            "_view_module": "@jupyter-widgets/controls",
            "_view_module_version": "1.5.0",
            "_view_name": "VBoxView",
            "box_style": "",
            "children": [
              "IPY_MODEL_d10b09db1d1844768f062e46d33cdb50",
              "IPY_MODEL_29f75809478340d0afefbc0a65d99120"
            ],
            "layout": "IPY_MODEL_9cec9269693d42eca2c8b154b4ff7986"
          }
        },
        "d10b09db1d1844768f062e46d33cdb50": {
          "model_module": "@jupyter-widgets/controls",
          "model_name": "LabelModel",
          "model_module_version": "1.5.0",
          "state": {
            "_dom_classes": [],
            "_model_module": "@jupyter-widgets/controls",
            "_model_module_version": "1.5.0",
            "_model_name": "LabelModel",
            "_view_count": null,
            "_view_module": "@jupyter-widgets/controls",
            "_view_module_version": "1.5.0",
            "_view_name": "LabelView",
            "description": "",
            "description_tooltip": null,
            "layout": "IPY_MODEL_cd9138af6b124b35906b78c78fd969db",
            "placeholder": "​",
            "style": "IPY_MODEL_b20e7095d7874bd8a590ac63d1e5b2dc",
            "value": "0.208 MB of 0.208 MB uploaded\r"
          }
        },
        "29f75809478340d0afefbc0a65d99120": {
          "model_module": "@jupyter-widgets/controls",
          "model_name": "FloatProgressModel",
          "model_module_version": "1.5.0",
          "state": {
            "_dom_classes": [],
            "_model_module": "@jupyter-widgets/controls",
            "_model_module_version": "1.5.0",
            "_model_name": "FloatProgressModel",
            "_view_count": null,
            "_view_module": "@jupyter-widgets/controls",
            "_view_module_version": "1.5.0",
            "_view_name": "ProgressView",
            "bar_style": "",
            "description": "",
            "description_tooltip": null,
            "layout": "IPY_MODEL_2326952e0f274835b4b4760ea064dd32",
            "max": 1,
            "min": 0,
            "orientation": "horizontal",
            "style": "IPY_MODEL_5fde9b2534fa4f8c80d017611d2ed2f3",
            "value": 1
          }
        },
        "9cec9269693d42eca2c8b154b4ff7986": {
          "model_module": "@jupyter-widgets/base",
          "model_name": "LayoutModel",
          "model_module_version": "1.2.0",
          "state": {
            "_model_module": "@jupyter-widgets/base",
            "_model_module_version": "1.2.0",
            "_model_name": "LayoutModel",
            "_view_count": null,
            "_view_module": "@jupyter-widgets/base",
            "_view_module_version": "1.2.0",
            "_view_name": "LayoutView",
            "align_content": null,
            "align_items": null,
            "align_self": null,
            "border": null,
            "bottom": null,
            "display": null,
            "flex": null,
            "flex_flow": null,
            "grid_area": null,
            "grid_auto_columns": null,
            "grid_auto_flow": null,
            "grid_auto_rows": null,
            "grid_column": null,
            "grid_gap": null,
            "grid_row": null,
            "grid_template_areas": null,
            "grid_template_columns": null,
            "grid_template_rows": null,
            "height": null,
            "justify_content": null,
            "justify_items": null,
            "left": null,
            "margin": null,
            "max_height": null,
            "max_width": null,
            "min_height": null,
            "min_width": null,
            "object_fit": null,
            "object_position": null,
            "order": null,
            "overflow": null,
            "overflow_x": null,
            "overflow_y": null,
            "padding": null,
            "right": null,
            "top": null,
            "visibility": null,
            "width": null
          }
        },
        "cd9138af6b124b35906b78c78fd969db": {
          "model_module": "@jupyter-widgets/base",
          "model_name": "LayoutModel",
          "model_module_version": "1.2.0",
          "state": {
            "_model_module": "@jupyter-widgets/base",
            "_model_module_version": "1.2.0",
            "_model_name": "LayoutModel",
            "_view_count": null,
            "_view_module": "@jupyter-widgets/base",
            "_view_module_version": "1.2.0",
            "_view_name": "LayoutView",
            "align_content": null,
            "align_items": null,
            "align_self": null,
            "border": null,
            "bottom": null,
            "display": null,
            "flex": null,
            "flex_flow": null,
            "grid_area": null,
            "grid_auto_columns": null,
            "grid_auto_flow": null,
            "grid_auto_rows": null,
            "grid_column": null,
            "grid_gap": null,
            "grid_row": null,
            "grid_template_areas": null,
            "grid_template_columns": null,
            "grid_template_rows": null,
            "height": null,
            "justify_content": null,
            "justify_items": null,
            "left": null,
            "margin": null,
            "max_height": null,
            "max_width": null,
            "min_height": null,
            "min_width": null,
            "object_fit": null,
            "object_position": null,
            "order": null,
            "overflow": null,
            "overflow_x": null,
            "overflow_y": null,
            "padding": null,
            "right": null,
            "top": null,
            "visibility": null,
            "width": null
          }
        },
        "b20e7095d7874bd8a590ac63d1e5b2dc": {
          "model_module": "@jupyter-widgets/controls",
          "model_name": "DescriptionStyleModel",
          "model_module_version": "1.5.0",
          "state": {
            "_model_module": "@jupyter-widgets/controls",
            "_model_module_version": "1.5.0",
            "_model_name": "DescriptionStyleModel",
            "_view_count": null,
            "_view_module": "@jupyter-widgets/base",
            "_view_module_version": "1.2.0",
            "_view_name": "StyleView",
            "description_width": ""
          }
        },
        "2326952e0f274835b4b4760ea064dd32": {
          "model_module": "@jupyter-widgets/base",
          "model_name": "LayoutModel",
          "model_module_version": "1.2.0",
          "state": {
            "_model_module": "@jupyter-widgets/base",
            "_model_module_version": "1.2.0",
            "_model_name": "LayoutModel",
            "_view_count": null,
            "_view_module": "@jupyter-widgets/base",
            "_view_module_version": "1.2.0",
            "_view_name": "LayoutView",
            "align_content": null,
            "align_items": null,
            "align_self": null,
            "border": null,
            "bottom": null,
            "display": null,
            "flex": null,
            "flex_flow": null,
            "grid_area": null,
            "grid_auto_columns": null,
            "grid_auto_flow": null,
            "grid_auto_rows": null,
            "grid_column": null,
            "grid_gap": null,
            "grid_row": null,
            "grid_template_areas": null,
            "grid_template_columns": null,
            "grid_template_rows": null,
            "height": null,
            "justify_content": null,
            "justify_items": null,
            "left": null,
            "margin": null,
            "max_height": null,
            "max_width": null,
            "min_height": null,
            "min_width": null,
            "object_fit": null,
            "object_position": null,
            "order": null,
            "overflow": null,
            "overflow_x": null,
            "overflow_y": null,
            "padding": null,
            "right": null,
            "top": null,
            "visibility": null,
            "width": null
          }
        },
        "5fde9b2534fa4f8c80d017611d2ed2f3": {
          "model_module": "@jupyter-widgets/controls",
          "model_name": "ProgressStyleModel",
          "model_module_version": "1.5.0",
          "state": {
            "_model_module": "@jupyter-widgets/controls",
            "_model_module_version": "1.5.0",
            "_model_name": "ProgressStyleModel",
            "_view_count": null,
            "_view_module": "@jupyter-widgets/base",
            "_view_module_version": "1.2.0",
            "_view_name": "StyleView",
            "bar_color": null,
            "description_width": ""
          }
        },
        "f0c7906c094742eba1b2066b0ad8988e": {
          "model_module": "@jupyter-widgets/controls",
          "model_name": "VBoxModel",
          "model_module_version": "1.5.0",
          "state": {
            "_dom_classes": [],
            "_model_module": "@jupyter-widgets/controls",
            "_model_module_version": "1.5.0",
            "_model_name": "VBoxModel",
            "_view_count": null,
            "_view_module": "@jupyter-widgets/controls",
            "_view_module_version": "1.5.0",
            "_view_name": "VBoxView",
            "box_style": "",
            "children": [
              "IPY_MODEL_c11d33660d73445fa84eb3947ad2d90b",
              "IPY_MODEL_22dbf5c721c24330b24608e100b9010c"
            ],
            "layout": "IPY_MODEL_e8a8654b8d444887a1d48bc01fcc0e48"
          }
        },
        "c11d33660d73445fa84eb3947ad2d90b": {
          "model_module": "@jupyter-widgets/controls",
          "model_name": "LabelModel",
          "model_module_version": "1.5.0",
          "state": {
            "_dom_classes": [],
            "_model_module": "@jupyter-widgets/controls",
            "_model_module_version": "1.5.0",
            "_model_name": "LabelModel",
            "_view_count": null,
            "_view_module": "@jupyter-widgets/controls",
            "_view_module_version": "1.5.0",
            "_view_name": "LabelView",
            "description": "",
            "description_tooltip": null,
            "layout": "IPY_MODEL_a05ed2679d914d8db23e56aba043dde3",
            "placeholder": "​",
            "style": "IPY_MODEL_e9a4fcfd74c54199b8187af38e9cb6c3",
            "value": "Waiting for wandb.init()...\r"
          }
        },
        "22dbf5c721c24330b24608e100b9010c": {
          "model_module": "@jupyter-widgets/controls",
          "model_name": "FloatProgressModel",
          "model_module_version": "1.5.0",
          "state": {
            "_dom_classes": [],
            "_model_module": "@jupyter-widgets/controls",
            "_model_module_version": "1.5.0",
            "_model_name": "FloatProgressModel",
            "_view_count": null,
            "_view_module": "@jupyter-widgets/controls",
            "_view_module_version": "1.5.0",
            "_view_name": "ProgressView",
            "bar_style": "",
            "description": "",
            "description_tooltip": null,
            "layout": "IPY_MODEL_085eb168dd1b44ba8c0ffcd4ac7ca551",
            "max": 1,
            "min": 0,
            "orientation": "horizontal",
            "style": "IPY_MODEL_4244a1d52d81424599abf3a9fc529aa1",
            "value": 1
          }
        },
        "e8a8654b8d444887a1d48bc01fcc0e48": {
          "model_module": "@jupyter-widgets/base",
          "model_name": "LayoutModel",
          "model_module_version": "1.2.0",
          "state": {
            "_model_module": "@jupyter-widgets/base",
            "_model_module_version": "1.2.0",
            "_model_name": "LayoutModel",
            "_view_count": null,
            "_view_module": "@jupyter-widgets/base",
            "_view_module_version": "1.2.0",
            "_view_name": "LayoutView",
            "align_content": null,
            "align_items": null,
            "align_self": null,
            "border": null,
            "bottom": null,
            "display": null,
            "flex": null,
            "flex_flow": null,
            "grid_area": null,
            "grid_auto_columns": null,
            "grid_auto_flow": null,
            "grid_auto_rows": null,
            "grid_column": null,
            "grid_gap": null,
            "grid_row": null,
            "grid_template_areas": null,
            "grid_template_columns": null,
            "grid_template_rows": null,
            "height": null,
            "justify_content": null,
            "justify_items": null,
            "left": null,
            "margin": null,
            "max_height": null,
            "max_width": null,
            "min_height": null,
            "min_width": null,
            "object_fit": null,
            "object_position": null,
            "order": null,
            "overflow": null,
            "overflow_x": null,
            "overflow_y": null,
            "padding": null,
            "right": null,
            "top": null,
            "visibility": null,
            "width": null
          }
        },
        "a05ed2679d914d8db23e56aba043dde3": {
          "model_module": "@jupyter-widgets/base",
          "model_name": "LayoutModel",
          "model_module_version": "1.2.0",
          "state": {
            "_model_module": "@jupyter-widgets/base",
            "_model_module_version": "1.2.0",
            "_model_name": "LayoutModel",
            "_view_count": null,
            "_view_module": "@jupyter-widgets/base",
            "_view_module_version": "1.2.0",
            "_view_name": "LayoutView",
            "align_content": null,
            "align_items": null,
            "align_self": null,
            "border": null,
            "bottom": null,
            "display": null,
            "flex": null,
            "flex_flow": null,
            "grid_area": null,
            "grid_auto_columns": null,
            "grid_auto_flow": null,
            "grid_auto_rows": null,
            "grid_column": null,
            "grid_gap": null,
            "grid_row": null,
            "grid_template_areas": null,
            "grid_template_columns": null,
            "grid_template_rows": null,
            "height": null,
            "justify_content": null,
            "justify_items": null,
            "left": null,
            "margin": null,
            "max_height": null,
            "max_width": null,
            "min_height": null,
            "min_width": null,
            "object_fit": null,
            "object_position": null,
            "order": null,
            "overflow": null,
            "overflow_x": null,
            "overflow_y": null,
            "padding": null,
            "right": null,
            "top": null,
            "visibility": null,
            "width": null
          }
        },
        "e9a4fcfd74c54199b8187af38e9cb6c3": {
          "model_module": "@jupyter-widgets/controls",
          "model_name": "DescriptionStyleModel",
          "model_module_version": "1.5.0",
          "state": {
            "_model_module": "@jupyter-widgets/controls",
            "_model_module_version": "1.5.0",
            "_model_name": "DescriptionStyleModel",
            "_view_count": null,
            "_view_module": "@jupyter-widgets/base",
            "_view_module_version": "1.2.0",
            "_view_name": "StyleView",
            "description_width": ""
          }
        },
        "085eb168dd1b44ba8c0ffcd4ac7ca551": {
          "model_module": "@jupyter-widgets/base",
          "model_name": "LayoutModel",
          "model_module_version": "1.2.0",
          "state": {
            "_model_module": "@jupyter-widgets/base",
            "_model_module_version": "1.2.0",
            "_model_name": "LayoutModel",
            "_view_count": null,
            "_view_module": "@jupyter-widgets/base",
            "_view_module_version": "1.2.0",
            "_view_name": "LayoutView",
            "align_content": null,
            "align_items": null,
            "align_self": null,
            "border": null,
            "bottom": null,
            "display": null,
            "flex": null,
            "flex_flow": null,
            "grid_area": null,
            "grid_auto_columns": null,
            "grid_auto_flow": null,
            "grid_auto_rows": null,
            "grid_column": null,
            "grid_gap": null,
            "grid_row": null,
            "grid_template_areas": null,
            "grid_template_columns": null,
            "grid_template_rows": null,
            "height": null,
            "justify_content": null,
            "justify_items": null,
            "left": null,
            "margin": null,
            "max_height": null,
            "max_width": null,
            "min_height": null,
            "min_width": null,
            "object_fit": null,
            "object_position": null,
            "order": null,
            "overflow": null,
            "overflow_x": null,
            "overflow_y": null,
            "padding": null,
            "right": null,
            "top": null,
            "visibility": null,
            "width": null
          }
        },
        "4244a1d52d81424599abf3a9fc529aa1": {
          "model_module": "@jupyter-widgets/controls",
          "model_name": "ProgressStyleModel",
          "model_module_version": "1.5.0",
          "state": {
            "_model_module": "@jupyter-widgets/controls",
            "_model_module_version": "1.5.0",
            "_model_name": "ProgressStyleModel",
            "_view_count": null,
            "_view_module": "@jupyter-widgets/base",
            "_view_module_version": "1.2.0",
            "_view_name": "StyleView",
            "bar_color": null,
            "description_width": ""
          }
        },
        "530b44c0ef2b4b0aa0924f6bad5b7449": {
          "model_module": "@jupyter-widgets/controls",
          "model_name": "VBoxModel",
          "model_module_version": "1.5.0",
          "state": {
            "_dom_classes": [],
            "_model_module": "@jupyter-widgets/controls",
            "_model_module_version": "1.5.0",
            "_model_name": "VBoxModel",
            "_view_count": null,
            "_view_module": "@jupyter-widgets/controls",
            "_view_module_version": "1.5.0",
            "_view_name": "VBoxView",
            "box_style": "",
            "children": [
              "IPY_MODEL_52302afd24df49f7b4f235bcbe2f1a8f",
              "IPY_MODEL_a7e082f435e9435caa2854f593a3c2b1"
            ],
            "layout": "IPY_MODEL_ec1ed35ab3624349bb6a94dc4ed682df"
          }
        },
        "52302afd24df49f7b4f235bcbe2f1a8f": {
          "model_module": "@jupyter-widgets/controls",
          "model_name": "LabelModel",
          "model_module_version": "1.5.0",
          "state": {
            "_dom_classes": [],
            "_model_module": "@jupyter-widgets/controls",
            "_model_module_version": "1.5.0",
            "_model_name": "LabelModel",
            "_view_count": null,
            "_view_module": "@jupyter-widgets/controls",
            "_view_module_version": "1.5.0",
            "_view_name": "LabelView",
            "description": "",
            "description_tooltip": null,
            "layout": "IPY_MODEL_e4a2da5837f34a7686a0b26375304eb5",
            "placeholder": "​",
            "style": "IPY_MODEL_8bb2910d7de84e08962f83775a91ba55",
            "value": "0.016 MB of 0.016 MB uploaded\r"
          }
        },
        "a7e082f435e9435caa2854f593a3c2b1": {
          "model_module": "@jupyter-widgets/controls",
          "model_name": "FloatProgressModel",
          "model_module_version": "1.5.0",
          "state": {
            "_dom_classes": [],
            "_model_module": "@jupyter-widgets/controls",
            "_model_module_version": "1.5.0",
            "_model_name": "FloatProgressModel",
            "_view_count": null,
            "_view_module": "@jupyter-widgets/controls",
            "_view_module_version": "1.5.0",
            "_view_name": "ProgressView",
            "bar_style": "",
            "description": "",
            "description_tooltip": null,
            "layout": "IPY_MODEL_fe5737a03aa14e4da375523531d0f402",
            "max": 1,
            "min": 0,
            "orientation": "horizontal",
            "style": "IPY_MODEL_a5772944110f4cb6b56edd85c6bfa55c",
            "value": 1
          }
        },
        "ec1ed35ab3624349bb6a94dc4ed682df": {
          "model_module": "@jupyter-widgets/base",
          "model_name": "LayoutModel",
          "model_module_version": "1.2.0",
          "state": {
            "_model_module": "@jupyter-widgets/base",
            "_model_module_version": "1.2.0",
            "_model_name": "LayoutModel",
            "_view_count": null,
            "_view_module": "@jupyter-widgets/base",
            "_view_module_version": "1.2.0",
            "_view_name": "LayoutView",
            "align_content": null,
            "align_items": null,
            "align_self": null,
            "border": null,
            "bottom": null,
            "display": null,
            "flex": null,
            "flex_flow": null,
            "grid_area": null,
            "grid_auto_columns": null,
            "grid_auto_flow": null,
            "grid_auto_rows": null,
            "grid_column": null,
            "grid_gap": null,
            "grid_row": null,
            "grid_template_areas": null,
            "grid_template_columns": null,
            "grid_template_rows": null,
            "height": null,
            "justify_content": null,
            "justify_items": null,
            "left": null,
            "margin": null,
            "max_height": null,
            "max_width": null,
            "min_height": null,
            "min_width": null,
            "object_fit": null,
            "object_position": null,
            "order": null,
            "overflow": null,
            "overflow_x": null,
            "overflow_y": null,
            "padding": null,
            "right": null,
            "top": null,
            "visibility": null,
            "width": null
          }
        },
        "e4a2da5837f34a7686a0b26375304eb5": {
          "model_module": "@jupyter-widgets/base",
          "model_name": "LayoutModel",
          "model_module_version": "1.2.0",
          "state": {
            "_model_module": "@jupyter-widgets/base",
            "_model_module_version": "1.2.0",
            "_model_name": "LayoutModel",
            "_view_count": null,
            "_view_module": "@jupyter-widgets/base",
            "_view_module_version": "1.2.0",
            "_view_name": "LayoutView",
            "align_content": null,
            "align_items": null,
            "align_self": null,
            "border": null,
            "bottom": null,
            "display": null,
            "flex": null,
            "flex_flow": null,
            "grid_area": null,
            "grid_auto_columns": null,
            "grid_auto_flow": null,
            "grid_auto_rows": null,
            "grid_column": null,
            "grid_gap": null,
            "grid_row": null,
            "grid_template_areas": null,
            "grid_template_columns": null,
            "grid_template_rows": null,
            "height": null,
            "justify_content": null,
            "justify_items": null,
            "left": null,
            "margin": null,
            "max_height": null,
            "max_width": null,
            "min_height": null,
            "min_width": null,
            "object_fit": null,
            "object_position": null,
            "order": null,
            "overflow": null,
            "overflow_x": null,
            "overflow_y": null,
            "padding": null,
            "right": null,
            "top": null,
            "visibility": null,
            "width": null
          }
        },
        "8bb2910d7de84e08962f83775a91ba55": {
          "model_module": "@jupyter-widgets/controls",
          "model_name": "DescriptionStyleModel",
          "model_module_version": "1.5.0",
          "state": {
            "_model_module": "@jupyter-widgets/controls",
            "_model_module_version": "1.5.0",
            "_model_name": "DescriptionStyleModel",
            "_view_count": null,
            "_view_module": "@jupyter-widgets/base",
            "_view_module_version": "1.2.0",
            "_view_name": "StyleView",
            "description_width": ""
          }
        },
        "fe5737a03aa14e4da375523531d0f402": {
          "model_module": "@jupyter-widgets/base",
          "model_name": "LayoutModel",
          "model_module_version": "1.2.0",
          "state": {
            "_model_module": "@jupyter-widgets/base",
            "_model_module_version": "1.2.0",
            "_model_name": "LayoutModel",
            "_view_count": null,
            "_view_module": "@jupyter-widgets/base",
            "_view_module_version": "1.2.0",
            "_view_name": "LayoutView",
            "align_content": null,
            "align_items": null,
            "align_self": null,
            "border": null,
            "bottom": null,
            "display": null,
            "flex": null,
            "flex_flow": null,
            "grid_area": null,
            "grid_auto_columns": null,
            "grid_auto_flow": null,
            "grid_auto_rows": null,
            "grid_column": null,
            "grid_gap": null,
            "grid_row": null,
            "grid_template_areas": null,
            "grid_template_columns": null,
            "grid_template_rows": null,
            "height": null,
            "justify_content": null,
            "justify_items": null,
            "left": null,
            "margin": null,
            "max_height": null,
            "max_width": null,
            "min_height": null,
            "min_width": null,
            "object_fit": null,
            "object_position": null,
            "order": null,
            "overflow": null,
            "overflow_x": null,
            "overflow_y": null,
            "padding": null,
            "right": null,
            "top": null,
            "visibility": null,
            "width": null
          }
        },
        "a5772944110f4cb6b56edd85c6bfa55c": {
          "model_module": "@jupyter-widgets/controls",
          "model_name": "ProgressStyleModel",
          "model_module_version": "1.5.0",
          "state": {
            "_model_module": "@jupyter-widgets/controls",
            "_model_module_version": "1.5.0",
            "_model_name": "ProgressStyleModel",
            "_view_count": null,
            "_view_module": "@jupyter-widgets/base",
            "_view_module_version": "1.2.0",
            "_view_name": "StyleView",
            "bar_color": null,
            "description_width": ""
          }
        },
        "21e275dd1d5b480994f6c2785b1041b3": {
          "model_module": "@jupyter-widgets/controls",
          "model_name": "VBoxModel",
          "model_module_version": "1.5.0",
          "state": {
            "_dom_classes": [],
            "_model_module": "@jupyter-widgets/controls",
            "_model_module_version": "1.5.0",
            "_model_name": "VBoxModel",
            "_view_count": null,
            "_view_module": "@jupyter-widgets/controls",
            "_view_module_version": "1.5.0",
            "_view_name": "VBoxView",
            "box_style": "",
            "children": [
              "IPY_MODEL_a43ce191a3944f0ba5abc22065c5575c",
              "IPY_MODEL_89f2e9170895473f9ddb32c9b8938178"
            ],
            "layout": "IPY_MODEL_ef9c6fff010e4af9954b66919b5642b8"
          }
        },
        "a43ce191a3944f0ba5abc22065c5575c": {
          "model_module": "@jupyter-widgets/controls",
          "model_name": "LabelModel",
          "model_module_version": "1.5.0",
          "state": {
            "_dom_classes": [],
            "_model_module": "@jupyter-widgets/controls",
            "_model_module_version": "1.5.0",
            "_model_name": "LabelModel",
            "_view_count": null,
            "_view_module": "@jupyter-widgets/controls",
            "_view_module_version": "1.5.0",
            "_view_name": "LabelView",
            "description": "",
            "description_tooltip": null,
            "layout": "IPY_MODEL_eb29088cbaa04d2aa765f689e341404f",
            "placeholder": "​",
            "style": "IPY_MODEL_bcbff3e490734164a614b251dfee9ff4",
            "value": "0.016 MB of 0.016 MB uploaded\r"
          }
        },
        "89f2e9170895473f9ddb32c9b8938178": {
          "model_module": "@jupyter-widgets/controls",
          "model_name": "FloatProgressModel",
          "model_module_version": "1.5.0",
          "state": {
            "_dom_classes": [],
            "_model_module": "@jupyter-widgets/controls",
            "_model_module_version": "1.5.0",
            "_model_name": "FloatProgressModel",
            "_view_count": null,
            "_view_module": "@jupyter-widgets/controls",
            "_view_module_version": "1.5.0",
            "_view_name": "ProgressView",
            "bar_style": "",
            "description": "",
            "description_tooltip": null,
            "layout": "IPY_MODEL_30b845d87ba542e082d811b0490007e3",
            "max": 1,
            "min": 0,
            "orientation": "horizontal",
            "style": "IPY_MODEL_69336404fcf943b9853c8839145ffa0b",
            "value": 1
          }
        },
        "ef9c6fff010e4af9954b66919b5642b8": {
          "model_module": "@jupyter-widgets/base",
          "model_name": "LayoutModel",
          "model_module_version": "1.2.0",
          "state": {
            "_model_module": "@jupyter-widgets/base",
            "_model_module_version": "1.2.0",
            "_model_name": "LayoutModel",
            "_view_count": null,
            "_view_module": "@jupyter-widgets/base",
            "_view_module_version": "1.2.0",
            "_view_name": "LayoutView",
            "align_content": null,
            "align_items": null,
            "align_self": null,
            "border": null,
            "bottom": null,
            "display": null,
            "flex": null,
            "flex_flow": null,
            "grid_area": null,
            "grid_auto_columns": null,
            "grid_auto_flow": null,
            "grid_auto_rows": null,
            "grid_column": null,
            "grid_gap": null,
            "grid_row": null,
            "grid_template_areas": null,
            "grid_template_columns": null,
            "grid_template_rows": null,
            "height": null,
            "justify_content": null,
            "justify_items": null,
            "left": null,
            "margin": null,
            "max_height": null,
            "max_width": null,
            "min_height": null,
            "min_width": null,
            "object_fit": null,
            "object_position": null,
            "order": null,
            "overflow": null,
            "overflow_x": null,
            "overflow_y": null,
            "padding": null,
            "right": null,
            "top": null,
            "visibility": null,
            "width": null
          }
        },
        "eb29088cbaa04d2aa765f689e341404f": {
          "model_module": "@jupyter-widgets/base",
          "model_name": "LayoutModel",
          "model_module_version": "1.2.0",
          "state": {
            "_model_module": "@jupyter-widgets/base",
            "_model_module_version": "1.2.0",
            "_model_name": "LayoutModel",
            "_view_count": null,
            "_view_module": "@jupyter-widgets/base",
            "_view_module_version": "1.2.0",
            "_view_name": "LayoutView",
            "align_content": null,
            "align_items": null,
            "align_self": null,
            "border": null,
            "bottom": null,
            "display": null,
            "flex": null,
            "flex_flow": null,
            "grid_area": null,
            "grid_auto_columns": null,
            "grid_auto_flow": null,
            "grid_auto_rows": null,
            "grid_column": null,
            "grid_gap": null,
            "grid_row": null,
            "grid_template_areas": null,
            "grid_template_columns": null,
            "grid_template_rows": null,
            "height": null,
            "justify_content": null,
            "justify_items": null,
            "left": null,
            "margin": null,
            "max_height": null,
            "max_width": null,
            "min_height": null,
            "min_width": null,
            "object_fit": null,
            "object_position": null,
            "order": null,
            "overflow": null,
            "overflow_x": null,
            "overflow_y": null,
            "padding": null,
            "right": null,
            "top": null,
            "visibility": null,
            "width": null
          }
        },
        "bcbff3e490734164a614b251dfee9ff4": {
          "model_module": "@jupyter-widgets/controls",
          "model_name": "DescriptionStyleModel",
          "model_module_version": "1.5.0",
          "state": {
            "_model_module": "@jupyter-widgets/controls",
            "_model_module_version": "1.5.0",
            "_model_name": "DescriptionStyleModel",
            "_view_count": null,
            "_view_module": "@jupyter-widgets/base",
            "_view_module_version": "1.2.0",
            "_view_name": "StyleView",
            "description_width": ""
          }
        },
        "30b845d87ba542e082d811b0490007e3": {
          "model_module": "@jupyter-widgets/base",
          "model_name": "LayoutModel",
          "model_module_version": "1.2.0",
          "state": {
            "_model_module": "@jupyter-widgets/base",
            "_model_module_version": "1.2.0",
            "_model_name": "LayoutModel",
            "_view_count": null,
            "_view_module": "@jupyter-widgets/base",
            "_view_module_version": "1.2.0",
            "_view_name": "LayoutView",
            "align_content": null,
            "align_items": null,
            "align_self": null,
            "border": null,
            "bottom": null,
            "display": null,
            "flex": null,
            "flex_flow": null,
            "grid_area": null,
            "grid_auto_columns": null,
            "grid_auto_flow": null,
            "grid_auto_rows": null,
            "grid_column": null,
            "grid_gap": null,
            "grid_row": null,
            "grid_template_areas": null,
            "grid_template_columns": null,
            "grid_template_rows": null,
            "height": null,
            "justify_content": null,
            "justify_items": null,
            "left": null,
            "margin": null,
            "max_height": null,
            "max_width": null,
            "min_height": null,
            "min_width": null,
            "object_fit": null,
            "object_position": null,
            "order": null,
            "overflow": null,
            "overflow_x": null,
            "overflow_y": null,
            "padding": null,
            "right": null,
            "top": null,
            "visibility": null,
            "width": null
          }
        },
        "69336404fcf943b9853c8839145ffa0b": {
          "model_module": "@jupyter-widgets/controls",
          "model_name": "ProgressStyleModel",
          "model_module_version": "1.5.0",
          "state": {
            "_model_module": "@jupyter-widgets/controls",
            "_model_module_version": "1.5.0",
            "_model_name": "ProgressStyleModel",
            "_view_count": null,
            "_view_module": "@jupyter-widgets/base",
            "_view_module_version": "1.2.0",
            "_view_name": "StyleView",
            "bar_color": null,
            "description_width": ""
          }
        }
      }
    },
    "accelerator": "GPU"
  },
  "cells": [
    {
      "cell_type": "markdown",
      "source": [
        "# EfficientNet"
      ],
      "metadata": {
        "id": "BRpp0V2GCe0Z"
      }
    },
    {
      "cell_type": "markdown",
      "source": [
        "## Installing & Importing Necessary Libraries"
      ],
      "metadata": {
        "id": "VezjJrCmwXjV"
      }
    },
    {
      "cell_type": "code",
      "source": [
        "!pip install -q efficientnet_pytorch\n",
        "!pip install -q wandb"
      ],
      "metadata": {
        "id": "GlmRcZ_LrzKT"
      },
      "execution_count": 2,
      "outputs": []
    },
    {
      "cell_type": "code",
      "source": [
        "from google.colab import drive\n",
        "drive.mount('/content/drive')"
      ],
      "metadata": {
        "colab": {
          "base_uri": "https://localhost:8080/"
        },
        "id": "fhf1Nvi7rixd",
        "outputId": "58e86e0a-9a84-43e4-ab7f-50fb7a66800a"
      },
      "execution_count": 3,
      "outputs": [
        {
          "output_type": "stream",
          "name": "stdout",
          "text": [
            "Drive already mounted at /content/drive; to attempt to forcibly remount, call drive.mount(\"/content/drive\", force_remount=True).\n"
          ]
        }
      ]
    },
    {
      "cell_type": "code",
      "source": [
        "import torch\n",
        "from sklearn.model_selection import train_test_split\n",
        "import numpy as np\n",
        "from torchvision import datasets, transforms\n",
        "from torch.utils.data import DataLoader, random_split\n",
        "from torch import nn, optim\n",
        "from efficientnet_pytorch import EfficientNet\n",
        "from sklearn.model_selection import StratifiedKFold\n",
        "from tqdm import tqdm\n",
        "import wandb\n",
        "wandb.login()\n",
        "import os\n",
        "import pandas as pd\n",
        "import matplotlib.pyplot as plt"
      ],
      "metadata": {
        "colab": {
          "base_uri": "https://localhost:8080/"
        },
        "id": "MNgagWV5wm9d",
        "outputId": "c3238a77-61b2-4d05-ae2b-df4b01c326f4"
      },
      "execution_count": 4,
      "outputs": [
        {
          "output_type": "stream",
          "name": "stderr",
          "text": [
            "\u001b[34m\u001b[1mwandb\u001b[0m: Currently logged in as: \u001b[33msamyukta-palle\u001b[0m (\u001b[33maipi549\u001b[0m). Use \u001b[1m`wandb login --relogin`\u001b[0m to force relogin\n"
          ]
        }
      ]
    },
    {
      "cell_type": "code",
      "source": [
        "# Using W&B for better logging and visualizations\n",
        "wandb.init(project=\"wound-classification-test\", config={\n",
        "    \"learning_rate\": 0.001,\n",
        "    \"architecture\": \"EfficientNet\"\n",
        "})"
      ],
      "metadata": {
        "colab": {
          "base_uri": "https://localhost:8080/",
          "height": 213,
          "referenced_widgets": [
            "058cd95654534d2283e560303cb6eafe",
            "83b34843d08440349a1cb926576b9b45",
            "e0919114b8414cfabaa9473407a65496",
            "4bcc69b77ab641f5b1d80801630635e9",
            "0ac23f9ebd7649858b5d02e19a9403f8",
            "901b2c1e5e2f45e28ddfb5ae332030a8",
            "7303f7b8c18549e58dbdffdca9549d58",
            "240a7dfd10024a74beb31a460299fce8"
          ]
        },
        "id": "jzpERGwer7HF",
        "outputId": "2a7389c5-b452-4625-da1f-e0edbb2db333"
      },
      "execution_count": null,
      "outputs": [
        {
          "output_type": "display_data",
          "data": {
            "text/plain": [
              "<IPython.core.display.HTML object>"
            ],
            "text/html": [
              "Finishing last run (ID:sdq9on6l) before initializing another..."
            ]
          },
          "metadata": {}
        },
        {
          "output_type": "display_data",
          "data": {
            "text/plain": [
              "VBox(children=(Label(value='0.001 MB of 0.001 MB uploaded\\r'), FloatProgress(value=1.0, max=1.0)))"
            ],
            "application/vnd.jupyter.widget-view+json": {
              "version_major": 2,
              "version_minor": 0,
              "model_id": "058cd95654534d2283e560303cb6eafe"
            }
          },
          "metadata": {}
        },
        {
          "output_type": "display_data",
          "data": {
            "text/plain": [
              "<IPython.core.display.HTML object>"
            ],
            "text/html": [
              " View run <strong style=\"color:#cdcd00\">enchanting-dog-4</strong> at: <a href='https://wandb.ai/aipi549/wound-classification-test/runs/sdq9on6l' target=\"_blank\">https://wandb.ai/aipi549/wound-classification-test/runs/sdq9on6l</a><br/>Synced 5 W&B file(s), 0 media file(s), 0 artifact file(s) and 0 other file(s)"
            ]
          },
          "metadata": {}
        },
        {
          "output_type": "display_data",
          "data": {
            "text/plain": [
              "<IPython.core.display.HTML object>"
            ],
            "text/html": [
              "Find logs at: <code>./wandb/run-20240220_035623-sdq9on6l/logs</code>"
            ]
          },
          "metadata": {}
        },
        {
          "output_type": "display_data",
          "data": {
            "text/plain": [
              "<IPython.core.display.HTML object>"
            ],
            "text/html": [
              "Successfully finished last run (ID:sdq9on6l). Initializing new run:<br/>"
            ]
          },
          "metadata": {}
        },
        {
          "output_type": "display_data",
          "data": {
            "text/plain": [
              "<IPython.core.display.HTML object>"
            ],
            "text/html": [
              "Tracking run with wandb version 0.16.3"
            ]
          },
          "metadata": {}
        },
        {
          "output_type": "display_data",
          "data": {
            "text/plain": [
              "<IPython.core.display.HTML object>"
            ],
            "text/html": [
              "Run data is saved locally in <code>/content/wandb/run-20240220_040434-gok69ah7</code>"
            ]
          },
          "metadata": {}
        },
        {
          "output_type": "display_data",
          "data": {
            "text/plain": [
              "<IPython.core.display.HTML object>"
            ],
            "text/html": [
              "Syncing run <strong><a href='https://wandb.ai/aipi549/wound-classification-test/runs/gok69ah7' target=\"_blank\">dancing-rat-5</a></strong> to <a href='https://wandb.ai/aipi549/wound-classification-test' target=\"_blank\">Weights & Biases</a> (<a href='https://wandb.me/run' target=\"_blank\">docs</a>)<br/>"
            ]
          },
          "metadata": {}
        },
        {
          "output_type": "display_data",
          "data": {
            "text/plain": [
              "<IPython.core.display.HTML object>"
            ],
            "text/html": [
              " View project at <a href='https://wandb.ai/aipi549/wound-classification-test' target=\"_blank\">https://wandb.ai/aipi549/wound-classification-test</a>"
            ]
          },
          "metadata": {}
        },
        {
          "output_type": "display_data",
          "data": {
            "text/plain": [
              "<IPython.core.display.HTML object>"
            ],
            "text/html": [
              " View run at <a href='https://wandb.ai/aipi549/wound-classification-test/runs/gok69ah7' target=\"_blank\">https://wandb.ai/aipi549/wound-classification-test/runs/gok69ah7</a>"
            ]
          },
          "metadata": {}
        },
        {
          "output_type": "execute_result",
          "data": {
            "text/html": [
              "<button onClick=\"this.nextSibling.style.display='block';this.style.display='none';\">Display W&B run</button><iframe src='https://wandb.ai/aipi549/wound-classification-test/runs/gok69ah7?jupyter=true' style='border:none;width:100%;height:420px;display:none;'></iframe>"
            ],
            "text/plain": [
              "<wandb.sdk.wandb_run.Run at 0x798d441296f0>"
            ]
          },
          "metadata": {},
          "execution_count": 11
        }
      ]
    },
    {
      "cell_type": "code",
      "source": [
        "%cd /content/drive/MyDrive/\n",
        "\n",
        "!unzip -q WoundDataset.zip -d /content/"
      ],
      "metadata": {
        "colab": {
          "base_uri": "https://localhost:8080/"
        },
        "id": "n3Kp4PPDr-ov",
        "outputId": "5d98a1b3-359a-421c-b5b9-a3711afac9d2"
      },
      "execution_count": 9,
      "outputs": [
        {
          "output_type": "stream",
          "name": "stdout",
          "text": [
            "/content/drive/MyDrive\n",
            "replace /content/WoundDataset/test/Abrasions/mirrored_abrasions (78).jpg? [y]es, [n]o, [A]ll, [N]one, [r]ename: "
          ]
        }
      ]
    },
    {
      "cell_type": "code",
      "source": [
        "# Path to your dataset directory\n",
        "data_dir = '/content/WoundDataset/train'\n",
        "\n",
        "# List all the images in the dataset directory\n",
        "labels = os.listdir(data_dir)\n",
        "\n",
        "# Initialize a dictionary to store the count of images in each label\n",
        "label_count = {}\n",
        "\n",
        "# Count the number of images in each label\n",
        "for label in labels:\n",
        "    label_path = os.path.join(data_dir, label)\n",
        "    num_images = len(os.listdir(label_path))\n",
        "    label_count[label] = num_images\n",
        "\n",
        "# Create a bar graph to visualize the count of images in each label\n",
        "plt.figure(figsize=(10, 6))\n",
        "plt.bar(label_count.keys(), label_count.values(), color='skyblue')\n",
        "plt.xlabel('Labels')\n",
        "plt.ylabel('Number of Images')\n",
        "plt.title('Number of Images in Each Label')\n",
        "plt.xticks(rotation=45, ha='right')\n",
        "plt.tight_layout()\n",
        "plt.show()"
      ],
      "metadata": {
        "colab": {
          "base_uri": "https://localhost:8080/",
          "height": 607
        },
        "id": "CIH-nUWcPY2y",
        "outputId": "880a1108-53a0-4930-b6e9-a9f2b1a6215d"
      },
      "execution_count": null,
      "outputs": [
        {
          "output_type": "display_data",
          "data": {
            "text/plain": [
              "<Figure size 1000x600 with 1 Axes>"
            ],
            "image/png": "[encoded data removed]"
          },
          "metadata": {}
        }
      ]
    },
    {
      "cell_type": "markdown",
      "source": [
        "## Preprocessing\n",
        "\n",
        "Data Transformations"
      ],
      "metadata": {
        "id": "dgI82nLaw3ik"
      }
    },
    {
      "cell_type": "code",
      "source": [
        "def preprocess(data_dir):\n",
        "    \"\"\"\n",
        "    Preprocesses images in the specified directory.\n",
        "\n",
        "    Args:\n",
        "    - data_dir (str): Path to the dataset directory.\n",
        "\n",
        "    Returns:\n",
        "    - dataset (torchvision.datasets.ImageFolder): Preprocessed dataset.\n",
        "    \"\"\"\n",
        "    # Define transformations to apply to the images\n",
        "    transform = transforms.Compose([\n",
        "        transforms.Resize((224, 224)),  # Resize images to 224x224 pixels\n",
        "        transforms.ToTensor(),  # Convert images to PyTorch tensors\n",
        "        transforms.RandomHorizontalFlip(),  # Randomly flip images horizontally\n",
        "        transforms.RandomRotation(10),  # Randomly rotate images by up to 10 degrees\n",
        "        transforms.RandomVerticalFlip(),  # Randomly flip images vertically\n",
        "        transforms.Normalize([0.485, 0.456, 0.406], [0.229, 0.224, 0.225])  # Normalize images\n",
        "    ])\n",
        "\n",
        "    # Create a dataset from the images in the specified directory\n",
        "    dataset = datasets.ImageFolder(data_dir, transform=transform)\n",
        "\n",
        "    return dataset"
      ],
      "metadata": {
        "id": "WWV6BZvLw1Qc"
      },
      "execution_count": null,
      "outputs": []
    },
    {
      "cell_type": "markdown",
      "source": [
        "## Modelling\n",
        "\n",
        "Train & Validate functions"
      ],
      "metadata": {
        "id": "dxgsOgPrjhIy"
      }
    },
    {
      "cell_type": "code",
      "source": [
        "def train(model, device, trainloader, valloader, criterion, optimizer, epochs, model_path):\n",
        "    \"\"\"\n",
        "    Train the model.\n",
        "\n",
        "    Args:\n",
        "    - model (torch.nn.Module): The neural network model.\n",
        "    - device (torch.device): The device to run the training on (e.g., CPU or GPU).\n",
        "    - trainloader (torch.utils.data.DataLoader): DataLoader for the training dataset.\n",
        "    - valloader (torch.utils.data.DataLoader): DataLoader for the validation dataset.\n",
        "    - criterion: The loss function.\n",
        "    - optimizer: The optimization algorithm.\n",
        "    - epochs (int): Number of epochs to train the model.\n",
        "    - model_path (str): Path to save the trained model.\n",
        "\n",
        "    Returns:\n",
        "    - total_loss (list): List of training losses per epoch.\n",
        "    \"\"\"\n",
        "    best_loss = float('inf')\n",
        "    total_loss = []\n",
        "\n",
        "    # Loop through epochs\n",
        "    for epoch in range(epochs):\n",
        "        print(f'Epoch [{epoch+1}/{epochs}]')\n",
        "        model.train()\n",
        "        running_loss = 0\n",
        "        correct = 0\n",
        "        total = 0\n",
        "\n",
        "        progress_bar = tqdm(trainloader, desc=f'Epoch {epoch}/{epochs}', unit='batch')\n",
        "\n",
        "        # Loop through batches in the training data\n",
        "        for inputs, labels in progress_bar:\n",
        "            inputs, labels = inputs.to(device), labels.to(device)\n",
        "\n",
        "            optimizer.zero_grad()\n",
        "            outputs = model(inputs)\n",
        "            loss = criterion(outputs, labels)\n",
        "            loss.backward()\n",
        "            optimizer.step()\n",
        "\n",
        "            running_loss += loss.item()\n",
        "\n",
        "            _, predicted = torch.max(outputs, 1)\n",
        "            total += labels.size(0)\n",
        "            correct += (predicted == labels).sum().item()\n",
        "\n",
        "            # Update progress bar\n",
        "            progress_bar.set_postfix(loss=running_loss / len(progress_bar), accuracy=100 * correct / total)\n",
        "\n",
        "        train_loss = running_loss / len(trainloader)\n",
        "        train_accuracy = 100 * correct / total\n",
        "\n",
        "        # Validation\n",
        "        val_loss, val_accuracy = validate(model, device, valloader, criterion)\n",
        "\n",
        "        total_loss.append(train_loss)\n",
        "        print(val_accuracy)\n",
        "        # Log metrics to W&B\n",
        "        wandb.log({\"epoch\": epoch+1, \"train_loss\": train_loss, \"train_accuracy\": train_accuracy,\n",
        "                   \"val_loss\": val_loss, \"val_accuracy\": val_accuracy})\n",
        "\n",
        "        # Save the model if the validation loss is the best so far\n",
        "        if val_loss < best_loss:\n",
        "            best_loss = val_loss\n",
        "            torch.save(model.state_dict(), model_path)\n",
        "            print(\"Saving the model\")\n",
        "\n",
        "    print('Training finished!')\n",
        "    return total_loss\n",
        "\n",
        "def validate(model, device, valloader, criterion):\n",
        "    \"\"\"\n",
        "    Validate the model.\n",
        "\n",
        "    Args:\n",
        "    - model (torch.nn.Module): The neural network model.\n",
        "    - device (torch.device): The device to run the validation on (e.g., CPU or GPU).\n",
        "    - valloader (torch.utils.data.DataLoader): DataLoader for the validation dataset.\n",
        "    - criterion: The loss function.\n",
        "\n",
        "    Returns:\n",
        "    - val_loss (float): Validation loss.\n",
        "    - val_accuracy (float): Validation accuracy.\n",
        "    \"\"\"\n",
        "    model.eval()\n",
        "    val_loss = 0\n",
        "    correct = 0\n",
        "    total = 0\n",
        "\n",
        "    progress_bar = tqdm(valloader, desc='Validation', unit='batch')\n",
        "\n",
        "    with torch.no_grad():\n",
        "        # Loop through batches in the validation data\n",
        "        for inputs, labels in progress_bar:\n",
        "            inputs, labels = inputs.to(device), labels.to(device)\n",
        "            outputs = model(inputs)\n",
        "            batch_loss = criterion(outputs, labels)\n",
        "            val_loss += batch_loss.item()\n",
        "\n",
        "            _, predicted = torch.max(outputs, 1)\n",
        "            total += labels.size(0)\n",
        "            correct += (predicted == labels).sum().item()\n",
        "\n",
        "            # Update progress bar\n",
        "            progress_bar.set_postfix(loss=val_loss / len(progress_bar), accuracy=100 * correct / total)\n",
        "\n",
        "    val_loss /= len(valloader)\n",
        "    val_accuracy = 100 * correct / total\n",
        "\n",
        "    return val_loss, val_accuracy\n"
      ],
      "metadata": {
        "id": "TjifGWKnxB1H"
      },
      "execution_count": null,
      "outputs": []
    },
    {
      "cell_type": "code",
      "source": [
        "import time\n",
        "\n",
        "# Record the starting time\n",
        "start_time = time.time()\n",
        "\n",
        "# Determine the device to use (GPU if available, otherwise CPU)\n",
        "device = torch.device(\"cuda:0\" if torch.cuda.is_available() else \"cpu\")\n",
        "\n",
        "# Path to the dataset directory\n",
        "data_dir = '/content/WoundDataset/train'\n",
        "\n",
        "# Preprocess the dataset\n",
        "dataset = preprocess(data_dir)\n",
        "\n",
        "# Initialize StratifiedKFold for cross-validation\n",
        "skf = StratifiedKFold(n_splits=5, shuffle=True, random_state=42)\n",
        "\n",
        "# Define the loss function\n",
        "criterion = nn.CrossEntropyLoss()\n",
        "\n",
        "# Number of epochs for training\n",
        "epochs = 15\n",
        "\n",
        "# Print the unique labels in the dataset\n",
        "print(set(dataset.targets))\n",
        "\n",
        "# Loop through folds for cross-validation\n",
        "for fold, (train_index, val_index) in enumerate(skf.split(dataset.imgs, dataset.targets)):\n",
        "    print(f'Fold [{fold + 1}/5]')\n",
        "\n",
        "    # Create train and validation datasets based on fold indices\n",
        "    train_dataset = torch.utils.data.Subset(dataset, train_index)\n",
        "    val_dataset = torch.utils.data.Subset(dataset, val_index)\n",
        "\n",
        "    # Create DataLoader for train and validation datasets\n",
        "    trainloader = DataLoader(train_dataset, batch_size=32, shuffle=True)\n",
        "    valloader = DataLoader(val_dataset, batch_size=32, shuffle=True)\n",
        "\n",
        "    # Initialize the model (EfficientNet-B0) with the appropriate number of output classes\n",
        "    model = EfficientNet.from_pretrained('efficientnet-b0', num_classes=10)\n",
        "\n",
        "    # Move the model to the selected device\n",
        "    model = model.to(device)\n",
        "\n",
        "    # Define the optimizer\n",
        "    optimizer = optim.Adam(model.parameters(), lr=0.001)\n",
        "\n",
        "    # Initialize Weights & Biases for logging\n",
        "    wandb.init(project=\"wound-classification\", name=f\"fold_{fold}\")\n",
        "\n",
        "    # Define the path to save the trained model\n",
        "    model_path = f'/content/drive/MyDrive/saved_model_fold_{fold}.pth'\n",
        "\n",
        "    # Train the model for the current fold\n",
        "    train(model, device, trainloader, valloader, criterion, optimizer, epochs, model_path)\n",
        "\n",
        "# Record the ending time\n",
        "end_time = time.time()\n",
        "\n",
        "# Calculate the elapsed time\n",
        "elapsed_time = end_time - start_time\n",
        "print(f\"Total time taken: {elapsed_time} seconds\")"
      ],
      "metadata": {
        "colab": {
          "base_uri": "https://localhost:8080/",
          "height": 1000,
          "referenced_widgets": [
            "03ffbc6ad4664324a206355bc16d9bb4",
            "d10b09db1d1844768f062e46d33cdb50",
            "29f75809478340d0afefbc0a65d99120",
            "9cec9269693d42eca2c8b154b4ff7986",
            "cd9138af6b124b35906b78c78fd969db",
            "b20e7095d7874bd8a590ac63d1e5b2dc",
            "2326952e0f274835b4b4760ea064dd32",
            "5fde9b2534fa4f8c80d017611d2ed2f3",
            "f0c7906c094742eba1b2066b0ad8988e",
            "c11d33660d73445fa84eb3947ad2d90b",
            "22dbf5c721c24330b24608e100b9010c",
            "e8a8654b8d444887a1d48bc01fcc0e48",
            "a05ed2679d914d8db23e56aba043dde3",
            "e9a4fcfd74c54199b8187af38e9cb6c3",
            "085eb168dd1b44ba8c0ffcd4ac7ca551",
            "4244a1d52d81424599abf3a9fc529aa1",
            "530b44c0ef2b4b0aa0924f6bad5b7449",
            "52302afd24df49f7b4f235bcbe2f1a8f",
            "a7e082f435e9435caa2854f593a3c2b1",
            "ec1ed35ab3624349bb6a94dc4ed682df",
            "e4a2da5837f34a7686a0b26375304eb5",
            "8bb2910d7de84e08962f83775a91ba55",
            "fe5737a03aa14e4da375523531d0f402",
            "a5772944110f4cb6b56edd85c6bfa55c",
            "c6db2f615b3b4db58f5a7e41f5f04ab9",
            "e20320b6984843159b0df78f4f2be54d",
            "21e275dd1d5b480994f6c2785b1041b3",
            "a43ce191a3944f0ba5abc22065c5575c",
            "89f2e9170895473f9ddb32c9b8938178",
            "ef9c6fff010e4af9954b66919b5642b8",
            "eb29088cbaa04d2aa765f689e341404f",
            "bcbff3e490734164a614b251dfee9ff4",
            "30b845d87ba542e082d811b0490007e3",
            "69336404fcf943b9853c8839145ffa0b"
          ]
        },
        "id": "ldpIIew4-dc7",
        "outputId": "bf90f48b-9000-4c01-ad97-25a1dd6bc4ea"
      },
      "execution_count": 18,
      "outputs": [
        {
          "metadata": {
            "tags": null
          },
          "name": "stdout",
          "output_type": "stream",
          "text": [
            "{0, 1, 2, 3, 4, 5, 6, 7, 8, 9}\n",
            "Fold [1/5]\n"
          ]
        },
        {
          "metadata": {
            "tags": null
          },
          "name": "stderr",
          "output_type": "stream",
          "text": [
            "Downloading: \"https://github.com/lukemelas/EfficientNet-PyTorch/releases/download/1.0/efficientnet-b0-355c32eb.pth\" to /root/.cache/torch/hub/checkpoints/efficientnet-b0-355c32eb.pth\n",
            "100%|██████████| 20.4M/20.4M [00:00<00:00, 323MB/s]\n"
          ]
        },
        {
          "metadata": {
            "tags": null
          },
          "name": "stdout",
          "output_type": "stream",
          "text": [
            "Loaded pretrained weights for efficientnet-b0\n"
          ]
        },
        {
          "data": {
            "text/html": [
              "Finishing last run (ID:gok69ah7) before initializing another..."
            ],
            "text/plain": [
              "<IPython.core.display.HTML object>"
            ]
          },
          "metadata": {},
          "output_type": "display_data"
        },
        {
          "data": {
            "application/vnd.jupyter.widget-view+json": {
              "model_id": "03ffbc6ad4664324a206355bc16d9bb4",
              "version_major": 2,
              "version_minor": 0
            },
            "text/plain": [
              "VBox(children=(Label(value='0.001 MB of 0.001 MB uploaded\\r'), FloatProgress(value=1.0, max=1.0)))"
            ]
          },
          "metadata": {},
          "output_type": "display_data"
        },
        {
          "data": {
            "text/html": [
              " View run <strong style=\"color:#cdcd00\">dancing-rat-5</strong> at: <a href='https://wandb.ai/aipi549/wound-classification-test/runs/gok69ah7' target=\"_blank\">https://wandb.ai/aipi549/wound-classification-test/runs/gok69ah7</a><br/>Synced 5 W&B file(s), 0 media file(s), 0 artifact file(s) and 0 other file(s)"
            ],
            "text/plain": [
              "<IPython.core.display.HTML object>"
            ]
          },
          "metadata": {},
          "output_type": "display_data"
        },
        {
          "data": {
            "text/html": [
              "Find logs at: <code>/content/wandb/run-20240220_040434-gok69ah7/logs</code>"
            ],
            "text/plain": [
              "<IPython.core.display.HTML object>"
            ]
          },
          "metadata": {},
          "output_type": "display_data"
        },
        {
          "data": {
            "text/html": [
              "Successfully finished last run (ID:gok69ah7). Initializing new run:<br/>"
            ],
            "text/plain": [
              "<IPython.core.display.HTML object>"
            ]
          },
          "metadata": {},
          "output_type": "display_data"
        },
        {
          "data": {
            "application/vnd.jupyter.widget-view+json": {
              "model_id": "f0c7906c094742eba1b2066b0ad8988e",
              "version_major": 2,
              "version_minor": 0
            },
            "text/plain": [
              "VBox(children=(Label(value='Waiting for wandb.init()...\\r'), FloatProgress(value=0.011112654011110914, max=1.0…"
            ]
          },
          "metadata": {},
          "output_type": "display_data"
        },
        {
          "data": {
            "text/html": [
              "Tracking run with wandb version 0.16.3"
            ],
            "text/plain": [
              "<IPython.core.display.HTML object>"
            ]
          },
          "metadata": {},
          "output_type": "display_data"
        },
        {
          "data": {
            "text/html": [
              "Run data is saved locally in <code>/content/wandb/run-20240220_040719-2ahxtmlb</code>"
            ],
            "text/plain": [
              "<IPython.core.display.HTML object>"
            ]
          },
          "metadata": {},
          "output_type": "display_data"
        },
        {
          "data": {
            "text/html": [
              "Syncing run <strong><a href='https://wandb.ai/aipi549/wound-classification/runs/2ahxtmlb' target=\"_blank\">fold_0</a></strong> to <a href='https://wandb.ai/aipi549/wound-classification' target=\"_blank\">Weights & Biases</a> (<a href='https://wandb.me/run' target=\"_blank\">docs</a>)<br/>"
            ],
            "text/plain": [
              "<IPython.core.display.HTML object>"
            ]
          },
          "metadata": {},
          "output_type": "display_data"
        },
        {
          "data": {
            "text/html": [
              " View project at <a href='https://wandb.ai/aipi549/wound-classification' target=\"_blank\">https://wandb.ai/aipi549/wound-classification</a>"
            ],
            "text/plain": [
              "<IPython.core.display.HTML object>"
            ]
          },
          "metadata": {},
          "output_type": "display_data"
        },
        {
          "data": {
            "text/html": [
              " View run at <a href='https://wandb.ai/aipi549/wound-classification/runs/2ahxtmlb' target=\"_blank\">https://wandb.ai/aipi549/wound-classification/runs/2ahxtmlb</a>"
            ],
            "text/plain": [
              "<IPython.core.display.HTML object>"
            ]
          },
          "metadata": {},
          "output_type": "display_data"
        },
        {
          "metadata": {
            "tags": null
          },
          "name": "stdout",
          "output_type": "stream",
          "text": [
            "Epoch [1/15]\n"
          ]
        },
        {
          "metadata": {
            "tags": null
          },
          "name": "stderr",
          "output_type": "stream",
          "text": [
            "Epoch 0/15: 100%|██████████| 68/68 [00:32<00:00,  2.10batch/s, accuracy=64.3, loss=1.07]\n",
            "Validation: 100%|██████████| 17/17 [00:07<00:00,  2.32batch/s, accuracy=60.7, loss=1.92]\n"
          ]
        },
        {
          "metadata": {
            "tags": null
          },
          "name": "stdout",
          "output_type": "stream",
          "text": [
            "60.667903525046384\n",
            "Saving the model\n",
            "Epoch [2/15]\n"
          ]
        },
        {
          "metadata": {
            "tags": null
          },
          "name": "stderr",
          "output_type": "stream",
          "text": [
            "Epoch 1/15: 100%|██████████| 68/68 [00:40<00:00,  1.68batch/s, accuracy=83.9, loss=0.495]\n",
            "Validation: 100%|██████████| 17/17 [00:05<00:00,  3.28batch/s, accuracy=80.7, loss=0.752]\n"
          ]
        },
        {
          "metadata": {
            "tags": null
          },
          "name": "stdout",
          "output_type": "stream",
          "text": [
            "80.70500927643785\n",
            "Saving the model\n",
            "Epoch [3/15]\n"
          ]
        },
        {
          "metadata": {
            "tags": null
          },
          "name": "stderr",
          "output_type": "stream",
          "text": [
            "Epoch 2/15: 100%|██████████| 68/68 [00:35<00:00,  1.92batch/s, accuracy=88, loss=0.353]\n",
            "Validation: 100%|██████████| 17/17 [00:06<00:00,  2.74batch/s, accuracy=80.5, loss=0.685]\n"
          ]
        },
        {
          "metadata": {
            "tags": null
          },
          "name": "stdout",
          "output_type": "stream",
          "text": [
            "80.51948051948052\n",
            "Saving the model\n",
            "Epoch [4/15]\n"
          ]
        },
        {
          "metadata": {
            "tags": null
          },
          "name": "stderr",
          "output_type": "stream",
          "text": [
            "Epoch 3/15: 100%|██████████| 68/68 [00:31<00:00,  2.18batch/s, accuracy=91.4, loss=0.282]\n",
            "Validation: 100%|██████████| 17/17 [00:04<00:00,  3.71batch/s, accuracy=79.8, loss=0.79]\n"
          ]
        },
        {
          "metadata": {
            "tags": null
          },
          "name": "stdout",
          "output_type": "stream",
          "text": [
            "79.77736549165121\n",
            "Epoch [5/15]\n"
          ]
        },
        {
          "metadata": {
            "tags": null
          },
          "name": "stderr",
          "output_type": "stream",
          "text": [
            "Epoch 4/15: 100%|██████████| 68/68 [00:31<00:00,  2.16batch/s, accuracy=92.1, loss=0.236]\n",
            "Validation: 100%|██████████| 17/17 [00:04<00:00,  3.77batch/s, accuracy=83.7, loss=0.688]\n"
          ]
        },
        {
          "metadata": {
            "tags": null
          },
          "name": "stdout",
          "output_type": "stream",
          "text": [
            "83.6734693877551\n",
            "Epoch [6/15]\n"
          ]
        },
        {
          "metadata": {
            "tags": null
          },
          "name": "stderr",
          "output_type": "stream",
          "text": [
            "Epoch 5/15: 100%|██████████| 68/68 [00:33<00:00,  2.02batch/s, accuracy=93.3, loss=0.195]\n",
            "Validation: 100%|██████████| 17/17 [00:04<00:00,  3.87batch/s, accuracy=84.8, loss=0.563]\n"
          ]
        },
        {
          "metadata": {
            "tags": null
          },
          "name": "stdout",
          "output_type": "stream",
          "text": [
            "84.78664192949907\n",
            "Saving the model\n",
            "Epoch [7/15]\n"
          ]
        },
        {
          "metadata": {
            "tags": null
          },
          "name": "stderr",
          "output_type": "stream",
          "text": [
            "Epoch 6/15: 100%|██████████| 68/68 [00:30<00:00,  2.23batch/s, accuracy=94, loss=0.173]\n",
            "Validation: 100%|██████████| 17/17 [00:05<00:00,  3.14batch/s, accuracy=88.3, loss=0.449]\n"
          ]
        },
        {
          "metadata": {
            "tags": null
          },
          "name": "stdout",
          "output_type": "stream",
          "text": [
            "88.31168831168831\n",
            "Saving the model\n",
            "Epoch [8/15]\n"
          ]
        },
        {
          "metadata": {
            "tags": null
          },
          "name": "stderr",
          "output_type": "stream",
          "text": [
            "Epoch 7/15: 100%|██████████| 68/68 [00:30<00:00,  2.23batch/s, accuracy=94.3, loss=0.165]\n",
            "Validation: 100%|██████████| 17/17 [00:04<00:00,  3.71batch/s, accuracy=89.1, loss=0.412]\n"
          ]
        },
        {
          "metadata": {
            "tags": null
          },
          "name": "stdout",
          "output_type": "stream",
          "text": [
            "89.05380333951763\n",
            "Saving the model\n",
            "Epoch [9/15]\n"
          ]
        },
        {
          "metadata": {
            "tags": null
          },
          "name": "stderr",
          "output_type": "stream",
          "text": [
            "Epoch 8/15: 100%|██████████| 68/68 [00:30<00:00,  2.20batch/s, accuracy=96.7, loss=0.106]\n",
            "Validation: 100%|██████████| 17/17 [00:04<00:00,  3.75batch/s, accuracy=90.5, loss=0.447]\n"
          ]
        },
        {
          "metadata": {
            "tags": null
          },
          "name": "stdout",
          "output_type": "stream",
          "text": [
            "90.53803339517626\n",
            "Epoch [10/15]\n"
          ]
        },
        {
          "metadata": {
            "tags": null
          },
          "name": "stderr",
          "output_type": "stream",
          "text": [
            "Epoch 9/15: 100%|██████████| 68/68 [00:30<00:00,  2.23batch/s, accuracy=95, loss=0.16]\n",
            "Validation: 100%|██████████| 17/17 [00:05<00:00,  3.36batch/s, accuracy=89.1, loss=0.397]\n"
          ]
        },
        {
          "metadata": {
            "tags": null
          },
          "name": "stdout",
          "output_type": "stream",
          "text": [
            "89.05380333951763\n",
            "Saving the model\n",
            "Epoch [11/15]\n"
          ]
        },
        {
          "metadata": {
            "tags": null
          },
          "name": "stderr",
          "output_type": "stream",
          "text": [
            "Epoch 10/15: 100%|██████████| 68/68 [00:30<00:00,  2.27batch/s, accuracy=95.5, loss=0.125]\n",
            "Validation: 100%|██████████| 17/17 [00:05<00:00,  3.36batch/s, accuracy=90.7, loss=0.341]\n"
          ]
        },
        {
          "metadata": {
            "tags": null
          },
          "name": "stdout",
          "output_type": "stream",
          "text": [
            "90.72356215213358\n",
            "Saving the model\n",
            "Epoch [12/15]\n"
          ]
        },
        {
          "metadata": {
            "tags": null
          },
          "name": "stderr",
          "output_type": "stream",
          "text": [
            "Epoch 11/15: 100%|██████████| 68/68 [00:30<00:00,  2.26batch/s, accuracy=96, loss=0.119]\n",
            "Validation: 100%|██████████| 17/17 [00:04<00:00,  3.82batch/s, accuracy=92.2, loss=0.297]\n"
          ]
        },
        {
          "metadata": {
            "tags": null
          },
          "name": "stdout",
          "output_type": "stream",
          "text": [
            "92.20779220779221\n",
            "Saving the model\n",
            "Epoch [13/15]\n"
          ]
        },
        {
          "metadata": {
            "tags": null
          },
          "name": "stderr",
          "output_type": "stream",
          "text": [
            "Epoch 12/15: 100%|██████████| 68/68 [00:30<00:00,  2.24batch/s, accuracy=97.1, loss=0.0967]\n",
            "Validation: 100%|██████████| 17/17 [00:04<00:00,  3.63batch/s, accuracy=84.8, loss=0.676]\n"
          ]
        },
        {
          "metadata": {
            "tags": null
          },
          "name": "stdout",
          "output_type": "stream",
          "text": [
            "84.78664192949907\n",
            "Epoch [14/15]\n"
          ]
        },
        {
          "metadata": {
            "tags": null
          },
          "name": "stderr",
          "output_type": "stream",
          "text": [
            "Epoch 13/15: 100%|██████████| 68/68 [00:29<00:00,  2.29batch/s, accuracy=97.1, loss=0.0923]\n",
            "Validation: 100%|██████████| 17/17 [00:05<00:00,  3.33batch/s, accuracy=92.4, loss=0.313]\n"
          ]
        },
        {
          "metadata": {
            "tags": null
          },
          "name": "stdout",
          "output_type": "stream",
          "text": [
            "92.39332096474953\n",
            "Epoch [15/15]\n"
          ]
        },
        {
          "metadata": {
            "tags": null
          },
          "name": "stderr",
          "output_type": "stream",
          "text": [
            "Epoch 14/15: 100%|██████████| 68/68 [00:30<00:00,  2.26batch/s, accuracy=97.5, loss=0.0824]\n",
            "Validation: 100%|██████████| 17/17 [00:04<00:00,  3.77batch/s, accuracy=91.5, loss=0.359]"
          ]
        },
        {
          "metadata": {
            "tags": null
          },
          "name": "stdout",
          "output_type": "stream",
          "text": [
            "91.4656771799629\n",
            "Training finished!\n",
            "Fold [2/5]\n",
            "Loaded pretrained weights for efficientnet-b0\n"
          ]
        },
        {
          "metadata": {
            "tags": null
          },
          "name": "stderr",
          "output_type": "stream",
          "text": [
            "\n"
          ]
        },
        {
          "data": {
            "text/html": [
              "Finishing last run (ID:2ahxtmlb) before initializing another..."
            ],
            "text/plain": [
              "<IPython.core.display.HTML object>"
            ]
          },
          "metadata": {},
          "output_type": "display_data"
        },
        {
          "data": {
            "application/vnd.jupyter.widget-view+json": {
              "model_id": "530b44c0ef2b4b0aa0924f6bad5b7449",
              "version_major": 2,
              "version_minor": 0
            },
            "text/plain": [
              "VBox(children=(Label(value='0.001 MB of 0.001 MB uploaded\\r'), FloatProgress(value=1.0, max=1.0)))"
            ]
          },
          "metadata": {},
          "output_type": "display_data"
        },
        {
          "data": {
            "text/html": [
              "<style>\n",
              "    table.wandb td:nth-child(1) { padding: 0 10px; text-align: left ; width: auto;} td:nth-child(2) {text-align: left ; width: 100%}\n",
              "    .wandb-row { display: flex; flex-direction: row; flex-wrap: wrap; justify-content: flex-start; width: 100% }\n",
              "    .wandb-col { display: flex; flex-direction: column; flex-basis: 100%; flex: 1; padding: 10px; }\n",
              "    </style>\n",
              "<div class=\"wandb-row\"><div class=\"wandb-col\"><h3>Run history:</h3><br/><table class=\"wandb\"><tr><td>epoch</td><td>▁▁▂▃▃▃▄▅▅▅▆▇▇▇█</td></tr><tr><td>train_accuracy</td><td>▁▅▆▇▇▇▇▇█▇█████</td></tr><tr><td>train_loss</td><td>█▄▃▂▂▂▂▂▁▂▁▁▁▁▁</td></tr><tr><td>val_accuracy</td><td>▁▅▅▅▆▆▇▇█▇██▆██</td></tr><tr><td>val_loss</td><td>█▃▃▃▃▂▂▁▂▁▁▁▃▁▁</td></tr></table><br/></div><div class=\"wandb-col\"><h3>Run summary:</h3><br/><table class=\"wandb\"><tr><td>epoch</td><td>15</td></tr><tr><td>train_accuracy</td><td>97.53717</td></tr><tr><td>train_loss</td><td>0.08241</td></tr><tr><td>val_accuracy</td><td>91.46568</td></tr><tr><td>val_loss</td><td>0.35933</td></tr></table><br/></div></div>"
            ],
            "text/plain": [
              "<IPython.core.display.HTML object>"
            ]
          },
          "metadata": {},
          "output_type": "display_data"
        },
        {
          "data": {
            "text/html": [
              " View run <strong style=\"color:#cdcd00\">fold_0</strong> at: <a href='https://wandb.ai/aipi549/wound-classification/runs/2ahxtmlb' target=\"_blank\">https://wandb.ai/aipi549/wound-classification/runs/2ahxtmlb</a><br/>Synced 5 W&B file(s), 0 media file(s), 0 artifact file(s) and 0 other file(s)"
            ],
            "text/plain": [
              "<IPython.core.display.HTML object>"
            ]
          },
          "metadata": {},
          "output_type": "display_data"
        },
        {
          "data": {
            "text/html": [
              "Find logs at: <code>/content/wandb/run-20240220_040719-2ahxtmlb/logs</code>"
            ],
            "text/plain": [
              "<IPython.core.display.HTML object>"
            ]
          },
          "metadata": {},
          "output_type": "display_data"
        },
        {
          "data": {
            "text/html": [
              "Successfully finished last run (ID:2ahxtmlb). Initializing new run:<br/>"
            ],
            "text/plain": [
              "<IPython.core.display.HTML object>"
            ]
          },
          "metadata": {},
          "output_type": "display_data"
        },
        {
          "data": {
            "text/html": [
              "Tracking run with wandb version 0.16.3"
            ],
            "text/plain": [
              "<IPython.core.display.HTML object>"
            ]
          },
          "metadata": {},
          "output_type": "display_data"
        },
        {
          "data": {
            "text/html": [
              "Run data is saved locally in <code>/content/wandb/run-20240220_041648-9on7lj92</code>"
            ],
            "text/plain": [
              "<IPython.core.display.HTML object>"
            ]
          },
          "metadata": {},
          "output_type": "display_data"
        },
        {
          "data": {
            "text/html": [
              "Syncing run <strong><a href='https://wandb.ai/aipi549/wound-classification/runs/9on7lj92' target=\"_blank\">fold_1</a></strong> to <a href='https://wandb.ai/aipi549/wound-classification' target=\"_blank\">Weights & Biases</a> (<a href='https://wandb.me/run' target=\"_blank\">docs</a>)<br/>"
            ],
            "text/plain": [
              "<IPython.core.display.HTML object>"
            ]
          },
          "metadata": {},
          "output_type": "display_data"
        },
        {
          "data": {
            "text/html": [
              " View project at <a href='https://wandb.ai/aipi549/wound-classification' target=\"_blank\">https://wandb.ai/aipi549/wound-classification</a>"
            ],
            "text/plain": [
              "<IPython.core.display.HTML object>"
            ]
          },
          "metadata": {},
          "output_type": "display_data"
        },
        {
          "data": {
            "text/html": [
              " View run at <a href='https://wandb.ai/aipi549/wound-classification/runs/9on7lj92' target=\"_blank\">https://wandb.ai/aipi549/wound-classification/runs/9on7lj92</a>"
            ],
            "text/plain": [
              "<IPython.core.display.HTML object>"
            ]
          },
          "metadata": {},
          "output_type": "display_data"
        },
        {
          "metadata": {
            "tags": null
          },
          "name": "stdout",
          "output_type": "stream",
          "text": [
            "Epoch [1/15]\n"
          ]
        },
        {
          "metadata": {
            "tags": null
          },
          "name": "stderr",
          "output_type": "stream",
          "text": [
            "Epoch 0/15: 100%|██████████| 68/68 [00:29<00:00,  2.27batch/s, accuracy=66.2, loss=1.06]\n",
            "Validation: 100%|██████████| 17/17 [00:05<00:00,  2.99batch/s, accuracy=60.8, loss=1.79]\n"
          ]
        },
        {
          "metadata": {
            "tags": null
          },
          "name": "stdout",
          "output_type": "stream",
          "text": [
            "60.78066914498141\n",
            "Saving the model\n",
            "Epoch [2/15]\n"
          ]
        },
        {
          "metadata": {
            "tags": null
          },
          "name": "stderr",
          "output_type": "stream",
          "text": [
            "Epoch 1/15: 100%|██████████| 68/68 [00:29<00:00,  2.28batch/s, accuracy=84.4, loss=0.477]\n",
            "Validation: 100%|██████████| 17/17 [00:04<00:00,  3.54batch/s, accuracy=72.5, loss=1.1]\n"
          ]
        },
        {
          "metadata": {
            "tags": null
          },
          "name": "stdout",
          "output_type": "stream",
          "text": [
            "72.4907063197026\n",
            "Saving the model\n",
            "Epoch [3/15]\n"
          ]
        },
        {
          "metadata": {
            "tags": null
          },
          "name": "stderr",
          "output_type": "stream",
          "text": [
            "Epoch 2/15: 100%|██████████| 68/68 [00:30<00:00,  2.23batch/s, accuracy=90.2, loss=0.297]\n",
            "Validation: 100%|██████████| 17/17 [00:04<00:00,  3.52batch/s, accuracy=81.2, loss=0.691]\n"
          ]
        },
        {
          "metadata": {
            "tags": null
          },
          "name": "stdout",
          "output_type": "stream",
          "text": [
            "81.22676579925651\n",
            "Saving the model\n",
            "Epoch [4/15]\n"
          ]
        },
        {
          "metadata": {
            "tags": null
          },
          "name": "stderr",
          "output_type": "stream",
          "text": [
            "Epoch 3/15: 100%|██████████| 68/68 [00:29<00:00,  2.27batch/s, accuracy=91.7, loss=0.242]\n",
            "Validation: 100%|██████████| 17/17 [00:05<00:00,  2.98batch/s, accuracy=78.1, loss=0.803]\n"
          ]
        },
        {
          "metadata": {
            "tags": null
          },
          "name": "stdout",
          "output_type": "stream",
          "text": [
            "78.06691449814126\n",
            "Epoch [5/15]\n"
          ]
        },
        {
          "metadata": {
            "tags": null
          },
          "name": "stderr",
          "output_type": "stream",
          "text": [
            "Epoch 4/15: 100%|██████████| 68/68 [00:29<00:00,  2.27batch/s, accuracy=93.7, loss=0.203]\n",
            "Validation: 100%|██████████| 17/17 [00:04<00:00,  3.47batch/s, accuracy=76.4, loss=1.2]\n"
          ]
        },
        {
          "metadata": {
            "tags": null
          },
          "name": "stdout",
          "output_type": "stream",
          "text": [
            "76.39405204460967\n",
            "Epoch [6/15]\n"
          ]
        },
        {
          "metadata": {
            "tags": null
          },
          "name": "stderr",
          "output_type": "stream",
          "text": [
            "Epoch 5/15: 100%|██████████| 68/68 [00:30<00:00,  2.23batch/s, accuracy=91.8, loss=0.253]\n",
            "Validation: 100%|██████████| 17/17 [00:04<00:00,  3.51batch/s, accuracy=80.3, loss=0.928]\n"
          ]
        },
        {
          "metadata": {
            "tags": null
          },
          "name": "stdout",
          "output_type": "stream",
          "text": [
            "80.29739776951673\n",
            "Epoch [7/15]\n"
          ]
        },
        {
          "metadata": {
            "tags": null
          },
          "name": "stderr",
          "output_type": "stream",
          "text": [
            "Epoch 6/15: 100%|██████████| 68/68 [00:29<00:00,  2.29batch/s, accuracy=95, loss=0.16]\n",
            "Validation: 100%|██████████| 17/17 [00:05<00:00,  2.97batch/s, accuracy=84.6, loss=0.551]\n"
          ]
        },
        {
          "metadata": {
            "tags": null
          },
          "name": "stdout",
          "output_type": "stream",
          "text": [
            "84.5724907063197\n",
            "Saving the model\n",
            "Epoch [8/15]\n"
          ]
        },
        {
          "metadata": {
            "tags": null
          },
          "name": "stderr",
          "output_type": "stream",
          "text": [
            "Epoch 7/15: 100%|██████████| 68/68 [00:29<00:00,  2.27batch/s, accuracy=96, loss=0.141]\n",
            "Validation: 100%|██████████| 17/17 [00:05<00:00,  3.34batch/s, accuracy=87.7, loss=0.582]\n"
          ]
        },
        {
          "metadata": {
            "tags": null
          },
          "name": "stdout",
          "output_type": "stream",
          "text": [
            "87.73234200743494\n",
            "Epoch [9/15]\n"
          ]
        },
        {
          "metadata": {
            "tags": null
          },
          "name": "stderr",
          "output_type": "stream",
          "text": [
            "Epoch 8/15: 100%|██████████| 68/68 [00:29<00:00,  2.27batch/s, accuracy=95.6, loss=0.126]\n",
            "Validation: 100%|██████████| 17/17 [00:04<00:00,  3.60batch/s, accuracy=93.1, loss=0.404]\n"
          ]
        },
        {
          "metadata": {
            "tags": null
          },
          "name": "stdout",
          "output_type": "stream",
          "text": [
            "93.12267657992565\n",
            "Saving the model\n",
            "Epoch [10/15]\n"
          ]
        },
        {
          "metadata": {
            "tags": null
          },
          "name": "stderr",
          "output_type": "stream",
          "text": [
            "Epoch 9/15: 100%|██████████| 68/68 [00:29<00:00,  2.27batch/s, accuracy=96.7, loss=0.116]\n",
            "Validation: 100%|██████████| 17/17 [00:05<00:00,  3.33batch/s, accuracy=92, loss=0.333]\n"
          ]
        },
        {
          "metadata": {
            "tags": null
          },
          "name": "stdout",
          "output_type": "stream",
          "text": [
            "92.00743494423791\n",
            "Saving the model\n",
            "Epoch [11/15]\n"
          ]
        },
        {
          "metadata": {
            "tags": null
          },
          "name": "stderr",
          "output_type": "stream",
          "text": [
            "Epoch 10/15: 100%|██████████| 68/68 [00:29<00:00,  2.30batch/s, accuracy=95.8, loss=0.124]\n",
            "Validation: 100%|██████████| 17/17 [00:05<00:00,  3.07batch/s, accuracy=90.5, loss=0.439]\n"
          ]
        },
        {
          "metadata": {
            "tags": null
          },
          "name": "stdout",
          "output_type": "stream",
          "text": [
            "90.52044609665427\n",
            "Epoch [12/15]\n"
          ]
        },
        {
          "metadata": {
            "tags": null
          },
          "name": "stderr",
          "output_type": "stream",
          "text": [
            "Epoch 11/15: 100%|██████████| 68/68 [00:29<00:00,  2.32batch/s, accuracy=96.9, loss=0.0955]\n",
            "Validation: 100%|██████████| 17/17 [00:04<00:00,  3.58batch/s, accuracy=91.6, loss=0.338]\n"
          ]
        },
        {
          "metadata": {
            "tags": null
          },
          "name": "stdout",
          "output_type": "stream",
          "text": [
            "91.635687732342\n",
            "Epoch [13/15]\n"
          ]
        },
        {
          "metadata": {
            "tags": null
          },
          "name": "stderr",
          "output_type": "stream",
          "text": [
            "Epoch 12/15: 100%|██████████| 68/68 [00:29<00:00,  2.29batch/s, accuracy=97.9, loss=0.0645]\n",
            "Validation: 100%|██████████| 17/17 [00:04<00:00,  3.61batch/s, accuracy=91.3, loss=0.468]\n"
          ]
        },
        {
          "metadata": {
            "tags": null
          },
          "name": "stdout",
          "output_type": "stream",
          "text": [
            "91.2639405204461\n",
            "Epoch [14/15]\n"
          ]
        },
        {
          "metadata": {
            "tags": null
          },
          "name": "stderr",
          "output_type": "stream",
          "text": [
            "Epoch 13/15: 100%|██████████| 68/68 [00:29<00:00,  2.33batch/s, accuracy=96.7, loss=0.12]\n",
            "Validation: 100%|██████████| 17/17 [00:05<00:00,  3.12batch/s, accuracy=84, loss=0.662]\n"
          ]
        },
        {
          "metadata": {
            "tags": null
          },
          "name": "stdout",
          "output_type": "stream",
          "text": [
            "84.01486988847584\n",
            "Epoch [15/15]\n"
          ]
        },
        {
          "metadata": {
            "tags": null
          },
          "name": "stderr",
          "output_type": "stream",
          "text": [
            "Epoch 14/15: 100%|██████████| 68/68 [00:29<00:00,  2.32batch/s, accuracy=96.7, loss=0.122]\n",
            "Validation: 100%|██████████| 17/17 [00:04<00:00,  3.55batch/s, accuracy=91.8, loss=0.449]"
          ]
        },
        {
          "metadata": {
            "tags": null
          },
          "name": "stdout",
          "output_type": "stream",
          "text": [
            "91.82156133828997\n",
            "Training finished!\n",
            "Fold [3/5]\n",
            "Loaded pretrained weights for efficientnet-b0\n"
          ]
        },
        {
          "metadata": {
            "tags": null
          },
          "name": "stderr",
          "output_type": "stream",
          "text": [
            "\n"
          ]
        },
        {
          "data": {
            "text/html": [
              "Finishing last run (ID:9on7lj92) before initializing another..."
            ],
            "text/plain": [
              "<IPython.core.display.HTML object>"
            ]
          },
          "metadata": {},
          "output_type": "display_data"
        },
        {
          "data": {
            "application/vnd.jupyter.widget-view+json": {
              "model_id": "c6db2f615b3b4db58f5a7e41f5f04ab9",
              "version_major": 2,
              "version_minor": 0
            },
            "text/plain": [
              "VBox(children=(Label(value='0.001 MB of 0.001 MB uploaded\\r'), FloatProgress(value=1.0, max=1.0)))"
            ]
          },
          "metadata": {},
          "output_type": "display_data"
        },
        {
          "data": {
            "text/html": [
              "<style>\n",
              "    table.wandb td:nth-child(1) { padding: 0 10px; text-align: left ; width: auto;} td:nth-child(2) {text-align: left ; width: 100%}\n",
              "    .wandb-row { display: flex; flex-direction: row; flex-wrap: wrap; justify-content: flex-start; width: 100% }\n",
              "    .wandb-col { display: flex; flex-direction: column; flex-basis: 100%; flex: 1; padding: 10px; }\n",
              "    </style>\n",
              "<div class=\"wandb-row\"><div class=\"wandb-col\"><h3>Run history:</h3><br/><table class=\"wandb\"><tr><td>epoch</td><td>▁▁▂▃▃▃▄▅▅▅▆▇▇▇█</td></tr><tr><td>train_accuracy</td><td>▁▅▆▇▇▇▇█▇██████</td></tr><tr><td>train_loss</td><td>█▄▃▂▂▂▂▂▁▁▁▁▁▁▁</td></tr><tr><td>val_accuracy</td><td>▁▄▅▅▄▅▆▇██▇██▆█</td></tr><tr><td>val_loss</td><td>█▅▃▃▅▄▂▂▁▁▂▁▂▃▂</td></tr></table><br/></div><div class=\"wandb-col\"><h3>Run summary:</h3><br/><table class=\"wandb\"><tr><td>epoch</td><td>15</td></tr><tr><td>train_accuracy</td><td>96.74872</td></tr><tr><td>train_loss</td><td>0.12212</td></tr><tr><td>val_accuracy</td><td>91.82156</td></tr><tr><td>val_loss</td><td>0.44925</td></tr></table><br/></div></div>"
            ],
            "text/plain": [
              "<IPython.core.display.HTML object>"
            ]
          },
          "metadata": {},
          "output_type": "display_data"
        },
        {
          "data": {
            "text/html": [
              " View run <strong style=\"color:#cdcd00\">fold_1</strong> at: <a href='https://wandb.ai/aipi549/wound-classification/runs/9on7lj92' target=\"_blank\">https://wandb.ai/aipi549/wound-classification/runs/9on7lj92</a><br/>Synced 5 W&B file(s), 0 media file(s), 0 artifact file(s) and 0 other file(s)"
            ],
            "text/plain": [
              "<IPython.core.display.HTML object>"
            ]
          },
          "metadata": {},
          "output_type": "display_data"
        },
        {
          "data": {
            "text/html": [
              "Find logs at: <code>/content/wandb/run-20240220_041648-9on7lj92/logs</code>"
            ],
            "text/plain": [
              "<IPython.core.display.HTML object>"
            ]
          },
          "metadata": {},
          "output_type": "display_data"
        },
        {
          "data": {
            "text/html": [
              "Successfully finished last run (ID:9on7lj92). Initializing new run:<br/>"
            ],
            "text/plain": [
              "<IPython.core.display.HTML object>"
            ]
          },
          "metadata": {},
          "output_type": "display_data"
        },
        {
          "data": {
            "text/html": [
              "Tracking run with wandb version 0.16.3"
            ],
            "text/plain": [
              "<IPython.core.display.HTML object>"
            ]
          },
          "metadata": {},
          "output_type": "display_data"
        },
        {
          "data": {
            "text/html": [
              "Run data is saved locally in <code>/content/wandb/run-20240220_042542-pzlfs5n8</code>"
            ],
            "text/plain": [
              "<IPython.core.display.HTML object>"
            ]
          },
          "metadata": {},
          "output_type": "display_data"
        },
        {
          "data": {
            "text/html": [
              "Syncing run <strong><a href='https://wandb.ai/aipi549/wound-classification/runs/pzlfs5n8' target=\"_blank\">fold_2</a></strong> to <a href='https://wandb.ai/aipi549/wound-classification' target=\"_blank\">Weights & Biases</a> (<a href='https://wandb.me/run' target=\"_blank\">docs</a>)<br/>"
            ],
            "text/plain": [
              "<IPython.core.display.HTML object>"
            ]
          },
          "metadata": {},
          "output_type": "display_data"
        },
        {
          "data": {
            "text/html": [
              " View project at <a href='https://wandb.ai/aipi549/wound-classification' target=\"_blank\">https://wandb.ai/aipi549/wound-classification</a>"
            ],
            "text/plain": [
              "<IPython.core.display.HTML object>"
            ]
          },
          "metadata": {},
          "output_type": "display_data"
        },
        {
          "data": {
            "text/html": [
              " View run at <a href='https://wandb.ai/aipi549/wound-classification/runs/pzlfs5n8' target=\"_blank\">https://wandb.ai/aipi549/wound-classification/runs/pzlfs5n8</a>"
            ],
            "text/plain": [
              "<IPython.core.display.HTML object>"
            ]
          },
          "metadata": {},
          "output_type": "display_data"
        },
        {
          "metadata": {
            "tags": null
          },
          "name": "stdout",
          "output_type": "stream",
          "text": [
            "Epoch [1/15]\n"
          ]
        },
        {
          "metadata": {
            "tags": null
          },
          "name": "stderr",
          "output_type": "stream",
          "text": [
            "Epoch 0/15: 100%|██████████| 68/68 [00:30<00:00,  2.22batch/s, accuracy=65.6, loss=1.04]\n",
            "Validation: 100%|██████████| 17/17 [00:04<00:00,  3.81batch/s, accuracy=68.8, loss=1.13]\n"
          ]
        },
        {
          "metadata": {
            "tags": null
          },
          "name": "stdout",
          "output_type": "stream",
          "text": [
            "68.77323420074349\n",
            "Saving the model\n",
            "Epoch [2/15]\n"
          ]
        },
        {
          "metadata": {
            "tags": null
          },
          "name": "stderr",
          "output_type": "stream",
          "text": [
            "Epoch 1/15: 100%|██████████| 68/68 [00:29<00:00,  2.27batch/s, accuracy=83.9, loss=0.483]\n",
            "Validation: 100%|██████████| 17/17 [00:05<00:00,  3.27batch/s, accuracy=69.7, loss=1.32]\n"
          ]
        },
        {
          "metadata": {
            "tags": null
          },
          "name": "stdout",
          "output_type": "stream",
          "text": [
            "69.70260223048327\n",
            "Epoch [3/15]\n"
          ]
        },
        {
          "metadata": {
            "tags": null
          },
          "name": "stderr",
          "output_type": "stream",
          "text": [
            "Epoch 2/15: 100%|██████████| 68/68 [00:29<00:00,  2.28batch/s, accuracy=87.3, loss=0.373]\n",
            "Validation: 100%|██████████| 17/17 [00:04<00:00,  3.44batch/s, accuracy=80.1, loss=0.807]\n"
          ]
        },
        {
          "metadata": {
            "tags": null
          },
          "name": "stdout",
          "output_type": "stream",
          "text": [
            "80.11152416356877\n",
            "Saving the model\n",
            "Epoch [4/15]\n"
          ]
        },
        {
          "metadata": {
            "tags": null
          },
          "name": "stderr",
          "output_type": "stream",
          "text": [
            "Epoch 3/15: 100%|██████████| 68/68 [00:29<00:00,  2.27batch/s, accuracy=90.2, loss=0.285]\n",
            "Validation: 100%|██████████| 17/17 [00:04<00:00,  3.88batch/s, accuracy=85.3, loss=0.511]\n"
          ]
        },
        {
          "metadata": {
            "tags": null
          },
          "name": "stdout",
          "output_type": "stream",
          "text": [
            "85.31598513011153\n",
            "Saving the model\n",
            "Epoch [5/15]\n"
          ]
        },
        {
          "metadata": {
            "tags": null
          },
          "name": "stderr",
          "output_type": "stream",
          "text": [
            "Epoch 4/15: 100%|██████████| 68/68 [00:30<00:00,  2.24batch/s, accuracy=93.1, loss=0.195]\n",
            "Validation: 100%|██████████| 17/17 [00:04<00:00,  3.75batch/s, accuracy=90.3, loss=0.312]\n"
          ]
        },
        {
          "metadata": {
            "tags": null
          },
          "name": "stdout",
          "output_type": "stream",
          "text": [
            "90.33457249070632\n",
            "Saving the model\n",
            "Epoch [6/15]\n"
          ]
        },
        {
          "metadata": {
            "tags": null
          },
          "name": "stderr",
          "output_type": "stream",
          "text": [
            "Epoch 5/15: 100%|██████████| 68/68 [00:29<00:00,  2.28batch/s, accuracy=95.5, loss=0.15]\n",
            "Validation: 100%|██████████| 17/17 [00:05<00:00,  3.20batch/s, accuracy=87.7, loss=0.383]\n"
          ]
        },
        {
          "metadata": {
            "tags": null
          },
          "name": "stdout",
          "output_type": "stream",
          "text": [
            "87.73234200743494\n",
            "Epoch [7/15]\n"
          ]
        },
        {
          "metadata": {
            "tags": null
          },
          "name": "stderr",
          "output_type": "stream",
          "text": [
            "Epoch 6/15: 100%|██████████| 68/68 [00:29<00:00,  2.28batch/s, accuracy=95.1, loss=0.152]\n",
            "Validation: 100%|██████████| 17/17 [00:04<00:00,  3.73batch/s, accuracy=87.2, loss=0.442]\n"
          ]
        },
        {
          "metadata": {
            "tags": null
          },
          "name": "stdout",
          "output_type": "stream",
          "text": [
            "87.17472118959108\n",
            "Epoch [8/15]\n"
          ]
        },
        {
          "output_type": "stream",
          "name": "stderr",
          "text": [
            "Epoch 7/15: 100%|██████████| 68/68 [00:30<00:00,  2.20batch/s, accuracy=93.7, loss=0.192]\n",
            "Validation: 100%|██████████| 17/17 [00:04<00:00,  3.69batch/s, accuracy=82.9, loss=0.735]\n"
          ]
        },
        {
          "output_type": "stream",
          "name": "stdout",
          "text": [
            "82.8996282527881\n",
            "Epoch [9/15]\n"
          ]
        },
        {
          "output_type": "stream",
          "name": "stderr",
          "text": [
            "Epoch 8/15: 100%|██████████| 68/68 [00:30<00:00,  2.23batch/s, accuracy=93.9, loss=0.189]\n",
            "Validation: 100%|██████████| 17/17 [00:05<00:00,  3.30batch/s, accuracy=85.7, loss=0.474]\n"
          ]
        },
        {
          "output_type": "stream",
          "name": "stdout",
          "text": [
            "85.68773234200744\n",
            "Epoch [10/15]\n"
          ]
        },
        {
          "output_type": "stream",
          "name": "stderr",
          "text": [
            "Epoch 9/15: 100%|██████████| 68/68 [00:30<00:00,  2.26batch/s, accuracy=95.5, loss=0.121]\n",
            "Validation: 100%|██████████| 17/17 [00:05<00:00,  3.40batch/s, accuracy=89.8, loss=0.373]\n"
          ]
        },
        {
          "output_type": "stream",
          "name": "stdout",
          "text": [
            "89.77695167286245\n",
            "Epoch [11/15]\n"
          ]
        },
        {
          "output_type": "stream",
          "name": "stderr",
          "text": [
            "Epoch 10/15: 100%|██████████| 68/68 [00:30<00:00,  2.23batch/s, accuracy=97.5, loss=0.0764]\n",
            "Validation: 100%|██████████| 17/17 [00:04<00:00,  3.74batch/s, accuracy=92.8, loss=0.31]\n"
          ]
        },
        {
          "output_type": "stream",
          "name": "stdout",
          "text": [
            "92.75092936802974\n",
            "Saving the model\n",
            "Epoch [12/15]\n"
          ]
        },
        {
          "output_type": "stream",
          "name": "stderr",
          "text": [
            "Epoch 11/15: 100%|██████████| 68/68 [00:30<00:00,  2.22batch/s, accuracy=97.3, loss=0.0983]\n",
            "Validation: 100%|██████████| 17/17 [00:04<00:00,  3.78batch/s, accuracy=91.6, loss=0.383]\n"
          ]
        },
        {
          "output_type": "stream",
          "name": "stdout",
          "text": [
            "91.635687732342\n",
            "Epoch [13/15]\n"
          ]
        },
        {
          "output_type": "stream",
          "name": "stderr",
          "text": [
            "Epoch 12/15: 100%|██████████| 68/68 [00:30<00:00,  2.26batch/s, accuracy=95.2, loss=0.142]\n",
            "Validation: 100%|██████████| 17/17 [00:05<00:00,  3.18batch/s, accuracy=87, loss=0.517]\n"
          ]
        },
        {
          "output_type": "stream",
          "name": "stdout",
          "text": [
            "86.98884758364312\n",
            "Epoch [14/15]\n"
          ]
        },
        {
          "output_type": "stream",
          "name": "stderr",
          "text": [
            "Epoch 13/15: 100%|██████████| 68/68 [00:29<00:00,  2.28batch/s, accuracy=96.4, loss=0.116]\n",
            "Validation: 100%|██████████| 17/17 [00:04<00:00,  3.73batch/s, accuracy=90.9, loss=0.382]\n"
          ]
        },
        {
          "output_type": "stream",
          "name": "stdout",
          "text": [
            "90.89219330855019\n",
            "Epoch [15/15]\n"
          ]
        },
        {
          "output_type": "stream",
          "name": "stderr",
          "text": [
            "Epoch 14/15: 100%|██████████| 68/68 [00:30<00:00,  2.20batch/s, accuracy=96, loss=0.128]\n",
            "Validation: 100%|██████████| 17/17 [00:04<00:00,  3.68batch/s, accuracy=92.6, loss=0.329]"
          ]
        },
        {
          "output_type": "stream",
          "name": "stdout",
          "text": [
            "92.56505576208178\n",
            "Training finished!\n",
            "Fold [4/5]\n",
            "Loaded pretrained weights for efficientnet-b0\n"
          ]
        },
        {
          "output_type": "stream",
          "name": "stderr",
          "text": [
            "\n"
          ]
        },
        {
          "output_type": "display_data",
          "data": {
            "text/plain": [
              "<IPython.core.display.HTML object>"
            ],
            "text/html": [
              "Finishing last run (ID:pzlfs5n8) before initializing another..."
            ]
          },
          "metadata": {}
        },
        {
          "output_type": "display_data",
          "data": {
            "text/plain": [
              "VBox(children=(Label(value='0.001 MB of 0.001 MB uploaded\\r'), FloatProgress(value=1.0, max=1.0)))"
            ],
            "application/vnd.jupyter.widget-view+json": {
              "version_major": 2,
              "version_minor": 0,
              "model_id": "e20320b6984843159b0df78f4f2be54d"
            }
          },
          "metadata": {}
        },
        {
          "output_type": "display_data",
          "data": {
            "text/plain": [
              "<IPython.core.display.HTML object>"
            ],
            "text/html": [
              "<style>\n",
              "    table.wandb td:nth-child(1) { padding: 0 10px; text-align: left ; width: auto;} td:nth-child(2) {text-align: left ; width: 100%}\n",
              "    .wandb-row { display: flex; flex-direction: row; flex-wrap: wrap; justify-content: flex-start; width: 100% }\n",
              "    .wandb-col { display: flex; flex-direction: column; flex-basis: 100%; flex: 1; padding: 10px; }\n",
              "    </style>\n",
              "<div class=\"wandb-row\"><div class=\"wandb-col\"><h3>Run history:</h3><br/><table class=\"wandb\"><tr><td>epoch</td><td>▁▁▂▃▃▃▄▅▅▅▆▇▇▇█</td></tr><tr><td>train_accuracy</td><td>▁▅▆▆▇█▇▇▇███▇██</td></tr><tr><td>train_loss</td><td>█▄▃▃▂▂▂▂▂▁▁▁▁▁▁</td></tr><tr><td>val_accuracy</td><td>▁▁▄▆▇▇▆▅▆▇██▆▇█</td></tr><tr><td>val_loss</td><td>▇█▄▂▁▂▂▄▂▁▁▂▂▂▁</td></tr></table><br/></div><div class=\"wandb-col\"><h3>Run summary:</h3><br/><table class=\"wandb\"><tr><td>epoch</td><td>15</td></tr><tr><td>train_accuracy</td><td>96.00557</td></tr><tr><td>train_loss</td><td>0.12817</td></tr><tr><td>val_accuracy</td><td>92.56506</td></tr><tr><td>val_loss</td><td>0.32904</td></tr></table><br/></div></div>"
            ]
          },
          "metadata": {}
        },
        {
          "output_type": "display_data",
          "data": {
            "text/plain": [
              "<IPython.core.display.HTML object>"
            ],
            "text/html": [
              " View run <strong style=\"color:#cdcd00\">fold_2</strong> at: <a href='https://wandb.ai/aipi549/wound-classification/runs/pzlfs5n8' target=\"_blank\">https://wandb.ai/aipi549/wound-classification/runs/pzlfs5n8</a><br/>Synced 5 W&B file(s), 0 media file(s), 0 artifact file(s) and 0 other file(s)"
            ]
          },
          "metadata": {}
        },
        {
          "output_type": "display_data",
          "data": {
            "text/plain": [
              "<IPython.core.display.HTML object>"
            ],
            "text/html": [
              "Find logs at: <code>/content/wandb/run-20240220_042542-pzlfs5n8/logs</code>"
            ]
          },
          "metadata": {}
        },
        {
          "output_type": "display_data",
          "data": {
            "text/plain": [
              "<IPython.core.display.HTML object>"
            ],
            "text/html": [
              "Successfully finished last run (ID:pzlfs5n8). Initializing new run:<br/>"
            ]
          },
          "metadata": {}
        },
        {
          "output_type": "display_data",
          "data": {
            "text/plain": [
              "<IPython.core.display.HTML object>"
            ],
            "text/html": [
              "Tracking run with wandb version 0.16.3"
            ]
          },
          "metadata": {}
        },
        {
          "output_type": "display_data",
          "data": {
            "text/plain": [
              "<IPython.core.display.HTML object>"
            ],
            "text/html": [
              "Run data is saved locally in <code>/content/wandb/run-20240220_043440-no6wrpyn</code>"
            ]
          },
          "metadata": {}
        },
        {
          "output_type": "display_data",
          "data": {
            "text/plain": [
              "<IPython.core.display.HTML object>"
            ],
            "text/html": [
              "Syncing run <strong><a href='https://wandb.ai/aipi549/wound-classification/runs/no6wrpyn' target=\"_blank\">fold_3</a></strong> to <a href='https://wandb.ai/aipi549/wound-classification' target=\"_blank\">Weights & Biases</a> (<a href='https://wandb.me/run' target=\"_blank\">docs</a>)<br/>"
            ]
          },
          "metadata": {}
        },
        {
          "output_type": "display_data",
          "data": {
            "text/plain": [
              "<IPython.core.display.HTML object>"
            ],
            "text/html": [
              " View project at <a href='https://wandb.ai/aipi549/wound-classification' target=\"_blank\">https://wandb.ai/aipi549/wound-classification</a>"
            ]
          },
          "metadata": {}
        },
        {
          "output_type": "display_data",
          "data": {
            "text/plain": [
              "<IPython.core.display.HTML object>"
            ],
            "text/html": [
              " View run at <a href='https://wandb.ai/aipi549/wound-classification/runs/no6wrpyn' target=\"_blank\">https://wandb.ai/aipi549/wound-classification/runs/no6wrpyn</a>"
            ]
          },
          "metadata": {}
        },
        {
          "output_type": "stream",
          "name": "stdout",
          "text": [
            "Epoch [1/15]\n"
          ]
        },
        {
          "output_type": "stream",
          "name": "stderr",
          "text": [
            "Epoch 0/15: 100%|██████████| 68/68 [00:30<00:00,  2.25batch/s, accuracy=65.9, loss=1.03]\n",
            "Validation: 100%|██████████| 17/17 [00:05<00:00,  3.00batch/s, accuracy=71.6, loss=0.986]\n"
          ]
        },
        {
          "output_type": "stream",
          "name": "stdout",
          "text": [
            "71.56133828996282\n",
            "Saving the model\n",
            "Epoch [2/15]\n"
          ]
        },
        {
          "output_type": "stream",
          "name": "stderr",
          "text": [
            "Epoch 1/15: 100%|██████████| 68/68 [00:30<00:00,  2.25batch/s, accuracy=82.7, loss=0.496]\n",
            "Validation: 100%|██████████| 17/17 [00:05<00:00,  3.27batch/s, accuracy=79.4, loss=0.713]\n"
          ]
        },
        {
          "output_type": "stream",
          "name": "stdout",
          "text": [
            "79.36802973977696\n",
            "Saving the model\n",
            "Epoch [3/15]\n"
          ]
        },
        {
          "output_type": "stream",
          "name": "stderr",
          "text": [
            "Epoch 2/15: 100%|██████████| 68/68 [00:30<00:00,  2.24batch/s, accuracy=88.3, loss=0.346]\n",
            "Validation: 100%|██████████| 17/17 [00:04<00:00,  3.64batch/s, accuracy=82.7, loss=0.563]\n"
          ]
        },
        {
          "output_type": "stream",
          "name": "stdout",
          "text": [
            "82.71375464684014\n",
            "Saving the model\n",
            "Epoch [4/15]\n"
          ]
        },
        {
          "output_type": "stream",
          "name": "stderr",
          "text": [
            "Epoch 3/15: 100%|██████████| 68/68 [00:30<00:00,  2.23batch/s, accuracy=91.2, loss=0.264]\n",
            "Validation: 100%|██████████| 17/17 [00:04<00:00,  3.68batch/s, accuracy=84.9, loss=0.477]\n"
          ]
        },
        {
          "output_type": "stream",
          "name": "stdout",
          "text": [
            "84.94423791821562\n",
            "Saving the model\n",
            "Epoch [5/15]\n"
          ]
        },
        {
          "output_type": "stream",
          "name": "stderr",
          "text": [
            "Epoch 4/15: 100%|██████████| 68/68 [00:29<00:00,  2.27batch/s, accuracy=92.6, loss=0.217]\n",
            "Validation: 100%|██████████| 17/17 [00:05<00:00,  3.16batch/s, accuracy=91.1, loss=0.286]\n"
          ]
        },
        {
          "output_type": "stream",
          "name": "stdout",
          "text": [
            "91.07806691449814\n",
            "Saving the model\n",
            "Epoch [6/15]\n"
          ]
        },
        {
          "output_type": "stream",
          "name": "stderr",
          "text": [
            "Epoch 5/15: 100%|██████████| 68/68 [00:29<00:00,  2.27batch/s, accuracy=93.2, loss=0.196]\n",
            "Validation: 100%|██████████| 17/17 [00:04<00:00,  3.65batch/s, accuracy=86.4, loss=0.423]\n"
          ]
        },
        {
          "output_type": "stream",
          "name": "stdout",
          "text": [
            "86.43122676579925\n",
            "Epoch [7/15]\n"
          ]
        },
        {
          "output_type": "stream",
          "name": "stderr",
          "text": [
            "Epoch 6/15: 100%|██████████| 68/68 [00:30<00:00,  2.23batch/s, accuracy=93.5, loss=0.182]\n",
            "Validation: 100%|██████████| 17/17 [00:04<00:00,  3.69batch/s, accuracy=91.6, loss=0.304]\n"
          ]
        },
        {
          "output_type": "stream",
          "name": "stdout",
          "text": [
            "91.635687732342\n",
            "Epoch [8/15]\n"
          ]
        },
        {
          "output_type": "stream",
          "name": "stderr",
          "text": [
            "Epoch 7/15: 100%|██████████| 68/68 [00:30<00:00,  2.26batch/s, accuracy=94.1, loss=0.193]\n",
            "Validation: 100%|██████████| 17/17 [00:05<00:00,  3.31batch/s, accuracy=88.5, loss=0.357]\n"
          ]
        },
        {
          "output_type": "stream",
          "name": "stdout",
          "text": [
            "88.47583643122677\n",
            "Epoch [9/15]\n"
          ]
        },
        {
          "output_type": "stream",
          "name": "stderr",
          "text": [
            "Epoch 8/15: 100%|██████████| 68/68 [00:30<00:00,  2.26batch/s, accuracy=95, loss=0.149]\n",
            "Validation: 100%|██████████| 17/17 [00:05<00:00,  3.23batch/s, accuracy=90.3, loss=0.38]\n"
          ]
        },
        {
          "output_type": "stream",
          "name": "stdout",
          "text": [
            "90.33457249070632\n",
            "Epoch [10/15]\n"
          ]
        },
        {
          "output_type": "stream",
          "name": "stderr",
          "text": [
            "Epoch 9/15: 100%|██████████| 68/68 [00:30<00:00,  2.26batch/s, accuracy=97.3, loss=0.0947]\n",
            "Validation: 100%|██████████| 17/17 [00:04<00:00,  3.67batch/s, accuracy=94.8, loss=0.238]\n"
          ]
        },
        {
          "output_type": "stream",
          "name": "stdout",
          "text": [
            "94.79553903345725\n",
            "Saving the model\n",
            "Epoch [11/15]\n"
          ]
        },
        {
          "output_type": "stream",
          "name": "stderr",
          "text": [
            "Epoch 10/15: 100%|██████████| 68/68 [00:30<00:00,  2.22batch/s, accuracy=97.6, loss=0.0728]\n",
            "Validation: 100%|██████████| 17/17 [00:04<00:00,  3.66batch/s, accuracy=91.8, loss=0.244]\n"
          ]
        },
        {
          "output_type": "stream",
          "name": "stdout",
          "text": [
            "91.82156133828997\n",
            "Epoch [12/15]\n"
          ]
        },
        {
          "output_type": "stream",
          "name": "stderr",
          "text": [
            "Epoch 11/15: 100%|██████████| 68/68 [00:29<00:00,  2.28batch/s, accuracy=95.9, loss=0.141]\n",
            "Validation: 100%|██████████| 17/17 [00:05<00:00,  3.12batch/s, accuracy=91.1, loss=0.403]\n"
          ]
        },
        {
          "output_type": "stream",
          "name": "stdout",
          "text": [
            "91.07806691449814\n",
            "Epoch [13/15]\n"
          ]
        },
        {
          "output_type": "stream",
          "name": "stderr",
          "text": [
            "Epoch 12/15: 100%|██████████| 68/68 [00:29<00:00,  2.29batch/s, accuracy=95.8, loss=0.131]\n",
            "Validation: 100%|██████████| 17/17 [00:04<00:00,  3.68batch/s, accuracy=92.9, loss=0.261]\n"
          ]
        },
        {
          "output_type": "stream",
          "name": "stdout",
          "text": [
            "92.93680297397769\n",
            "Epoch [14/15]\n"
          ]
        },
        {
          "output_type": "stream",
          "name": "stderr",
          "text": [
            "Epoch 13/15: 100%|██████████| 68/68 [00:30<00:00,  2.23batch/s, accuracy=96.1, loss=0.113]\n",
            "Validation: 100%|██████████| 17/17 [00:04<00:00,  3.67batch/s, accuracy=89, loss=0.638]\n"
          ]
        },
        {
          "output_type": "stream",
          "name": "stdout",
          "text": [
            "89.03345724907064\n",
            "Epoch [15/15]\n"
          ]
        },
        {
          "output_type": "stream",
          "name": "stderr",
          "text": [
            "Epoch 14/15: 100%|██████████| 68/68 [00:29<00:00,  2.28batch/s, accuracy=96.2, loss=0.129]\n",
            "Validation: 100%|██████████| 17/17 [00:05<00:00,  3.17batch/s, accuracy=93.9, loss=0.232]\n"
          ]
        },
        {
          "output_type": "stream",
          "name": "stdout",
          "text": [
            "93.86617100371747\n",
            "Saving the model\n",
            "Training finished!\n",
            "Fold [5/5]\n",
            "Loaded pretrained weights for efficientnet-b0\n"
          ]
        },
        {
          "output_type": "display_data",
          "data": {
            "text/plain": [
              "<IPython.core.display.HTML object>"
            ],
            "text/html": [
              "Finishing last run (ID:no6wrpyn) before initializing another..."
            ]
          },
          "metadata": {}
        },
        {
          "output_type": "display_data",
          "data": {
            "text/plain": [
              "VBox(children=(Label(value='0.001 MB of 0.001 MB uploaded\\r'), FloatProgress(value=1.0, max=1.0)))"
            ],
            "application/vnd.jupyter.widget-view+json": {
              "version_major": 2,
              "version_minor": 0,
              "model_id": "21e275dd1d5b480994f6c2785b1041b3"
            }
          },
          "metadata": {}
        },
        {
          "output_type": "display_data",
          "data": {
            "text/plain": [
              "<IPython.core.display.HTML object>"
            ],
            "text/html": [
              "<style>\n",
              "    table.wandb td:nth-child(1) { padding: 0 10px; text-align: left ; width: auto;} td:nth-child(2) {text-align: left ; width: 100%}\n",
              "    .wandb-row { display: flex; flex-direction: row; flex-wrap: wrap; justify-content: flex-start; width: 100% }\n",
              "    .wandb-col { display: flex; flex-direction: column; flex-basis: 100%; flex: 1; padding: 10px; }\n",
              "    </style>\n",
              "<div class=\"wandb-row\"><div class=\"wandb-col\"><h3>Run history:</h3><br/><table class=\"wandb\"><tr><td>epoch</td><td>▁▁▂▃▃▃▄▅▅▅▆▇▇▇█</td></tr><tr><td>train_accuracy</td><td>▁▅▆▇▇▇▇▇▇██████</td></tr><tr><td>train_loss</td><td>█▄▃▂▂▂▂▂▂▁▁▂▁▁▁</td></tr><tr><td>val_accuracy</td><td>▁▃▄▅▇▅▇▆▇█▇▇▇▆█</td></tr><tr><td>val_loss</td><td>█▅▄▃▂▃▂▂▂▁▁▃▁▅▁</td></tr></table><br/></div><div class=\"wandb-col\"><h3>Run summary:</h3><br/><table class=\"wandb\"><tr><td>epoch</td><td>15</td></tr><tr><td>train_accuracy</td><td>96.23781</td></tr><tr><td>train_loss</td><td>0.12877</td></tr><tr><td>val_accuracy</td><td>93.86617</td></tr><tr><td>val_loss</td><td>0.23188</td></tr></table><br/></div></div>"
            ]
          },
          "metadata": {}
        },
        {
          "output_type": "display_data",
          "data": {
            "text/plain": [
              "<IPython.core.display.HTML object>"
            ],
            "text/html": [
              " View run <strong style=\"color:#cdcd00\">fold_3</strong> at: <a href='https://wandb.ai/aipi549/wound-classification/runs/no6wrpyn' target=\"_blank\">https://wandb.ai/aipi549/wound-classification/runs/no6wrpyn</a><br/>Synced 5 W&B file(s), 0 media file(s), 0 artifact file(s) and 0 other file(s)"
            ]
          },
          "metadata": {}
        },
        {
          "output_type": "display_data",
          "data": {
            "text/plain": [
              "<IPython.core.display.HTML object>"
            ],
            "text/html": [
              "Find logs at: <code>/content/wandb/run-20240220_043440-no6wrpyn/logs</code>"
            ]
          },
          "metadata": {}
        },
        {
          "output_type": "display_data",
          "data": {
            "text/plain": [
              "<IPython.core.display.HTML object>"
            ],
            "text/html": [
              "Successfully finished last run (ID:no6wrpyn). Initializing new run:<br/>"
            ]
          },
          "metadata": {}
        },
        {
          "output_type": "display_data",
          "data": {
            "text/plain": [
              "<IPython.core.display.HTML object>"
            ],
            "text/html": [
              "Tracking run with wandb version 0.16.3"
            ]
          },
          "metadata": {}
        },
        {
          "output_type": "display_data",
          "data": {
            "text/plain": [
              "<IPython.core.display.HTML object>"
            ],
            "text/html": [
              "Run data is saved locally in <code>/content/wandb/run-20240220_044339-3tktxyzo</code>"
            ]
          },
          "metadata": {}
        },
        {
          "output_type": "display_data",
          "data": {
            "text/plain": [
              "<IPython.core.display.HTML object>"
            ],
            "text/html": [
              "Syncing run <strong><a href='https://wandb.ai/aipi549/wound-classification/runs/3tktxyzo' target=\"_blank\">fold_4</a></strong> to <a href='https://wandb.ai/aipi549/wound-classification' target=\"_blank\">Weights & Biases</a> (<a href='https://wandb.me/run' target=\"_blank\">docs</a>)<br/>"
            ]
          },
          "metadata": {}
        },
        {
          "output_type": "display_data",
          "data": {
            "text/plain": [
              "<IPython.core.display.HTML object>"
            ],
            "text/html": [
              " View project at <a href='https://wandb.ai/aipi549/wound-classification' target=\"_blank\">https://wandb.ai/aipi549/wound-classification</a>"
            ]
          },
          "metadata": {}
        },
        {
          "output_type": "display_data",
          "data": {
            "text/plain": [
              "<IPython.core.display.HTML object>"
            ],
            "text/html": [
              " View run at <a href='https://wandb.ai/aipi549/wound-classification/runs/3tktxyzo' target=\"_blank\">https://wandb.ai/aipi549/wound-classification/runs/3tktxyzo</a>"
            ]
          },
          "metadata": {}
        },
        {
          "output_type": "stream",
          "name": "stdout",
          "text": [
            "Epoch [1/15]\n"
          ]
        },
        {
          "output_type": "stream",
          "name": "stderr",
          "text": [
            "Epoch 0/15: 100%|██████████| 68/68 [00:29<00:00,  2.29batch/s, accuracy=66.7, loss=1.03]\n",
            "Validation: 100%|██████████| 17/17 [00:05<00:00,  2.99batch/s, accuracy=69.9, loss=1.14]\n"
          ]
        },
        {
          "output_type": "stream",
          "name": "stdout",
          "text": [
            "69.88847583643123\n",
            "Saving the model\n",
            "Epoch [2/15]\n"
          ]
        },
        {
          "output_type": "stream",
          "name": "stderr",
          "text": [
            "Epoch 1/15: 100%|██████████| 68/68 [00:29<00:00,  2.29batch/s, accuracy=84.2, loss=0.465]\n",
            "Validation: 100%|██████████| 17/17 [00:04<00:00,  3.43batch/s, accuracy=76.6, loss=0.852]\n"
          ]
        },
        {
          "output_type": "stream",
          "name": "stdout",
          "text": [
            "76.57992565055763\n",
            "Saving the model\n",
            "Epoch [3/15]\n"
          ]
        },
        {
          "output_type": "stream",
          "name": "stderr",
          "text": [
            "Epoch 2/15: 100%|██████████| 68/68 [00:30<00:00,  2.26batch/s, accuracy=89.6, loss=0.322]\n",
            "Validation: 100%|██████████| 17/17 [00:05<00:00,  3.37batch/s, accuracy=80.7, loss=0.735]\n"
          ]
        },
        {
          "output_type": "stream",
          "name": "stdout",
          "text": [
            "80.66914498141264\n",
            "Saving the model\n",
            "Epoch [4/15]\n"
          ]
        },
        {
          "output_type": "stream",
          "name": "stderr",
          "text": [
            "Epoch 3/15: 100%|██████████| 68/68 [00:29<00:00,  2.30batch/s, accuracy=92.5, loss=0.25]\n",
            "Validation: 100%|██████████| 17/17 [00:05<00:00,  2.94batch/s, accuracy=80.1, loss=0.738]\n"
          ]
        },
        {
          "output_type": "stream",
          "name": "stdout",
          "text": [
            "80.11152416356877\n",
            "Epoch [5/15]\n"
          ]
        },
        {
          "output_type": "stream",
          "name": "stderr",
          "text": [
            "Epoch 4/15: 100%|██████████| 68/68 [00:29<00:00,  2.28batch/s, accuracy=92.2, loss=0.244]\n",
            "Validation: 100%|██████████| 17/17 [00:05<00:00,  3.34batch/s, accuracy=84.2, loss=0.577]\n"
          ]
        },
        {
          "output_type": "stream",
          "name": "stdout",
          "text": [
            "84.20074349442379\n",
            "Saving the model\n",
            "Epoch [6/15]\n"
          ]
        },
        {
          "output_type": "stream",
          "name": "stderr",
          "text": [
            "Epoch 5/15: 100%|██████████| 68/68 [00:30<00:00,  2.25batch/s, accuracy=92.9, loss=0.207]\n",
            "Validation: 100%|██████████| 17/17 [00:05<00:00,  3.40batch/s, accuracy=83.8, loss=0.775]\n"
          ]
        },
        {
          "output_type": "stream",
          "name": "stdout",
          "text": [
            "83.82899628252788\n",
            "Epoch [7/15]\n"
          ]
        },
        {
          "output_type": "stream",
          "name": "stderr",
          "text": [
            "Epoch 6/15: 100%|██████████| 68/68 [00:29<00:00,  2.29batch/s, accuracy=93.3, loss=0.193]\n",
            "Validation: 100%|██████████| 17/17 [00:05<00:00,  2.98batch/s, accuracy=90.1, loss=0.376]\n"
          ]
        },
        {
          "output_type": "stream",
          "name": "stdout",
          "text": [
            "90.14869888475836\n",
            "Saving the model\n",
            "Epoch [8/15]\n"
          ]
        },
        {
          "output_type": "stream",
          "name": "stderr",
          "text": [
            "Epoch 7/15: 100%|██████████| 68/68 [00:29<00:00,  2.29batch/s, accuracy=95.8, loss=0.15]\n",
            "Validation: 100%|██████████| 17/17 [00:05<00:00,  2.98batch/s, accuracy=89.2, loss=0.483]\n"
          ]
        },
        {
          "output_type": "stream",
          "name": "stdout",
          "text": [
            "89.21933085501858\n",
            "Epoch [9/15]\n"
          ]
        },
        {
          "output_type": "stream",
          "name": "stderr",
          "text": [
            "Epoch 8/15: 100%|██████████| 68/68 [00:29<00:00,  2.29batch/s, accuracy=95.4, loss=0.149]\n",
            "Validation: 100%|██████████| 17/17 [00:04<00:00,  3.46batch/s, accuracy=93.7, loss=0.264]\n"
          ]
        },
        {
          "output_type": "stream",
          "name": "stdout",
          "text": [
            "93.68029739776952\n",
            "Saving the model\n",
            "Epoch [10/15]\n"
          ]
        },
        {
          "output_type": "stream",
          "name": "stderr",
          "text": [
            "Epoch 9/15: 100%|██████████| 68/68 [00:29<00:00,  2.27batch/s, accuracy=95.9, loss=0.134]\n",
            "Validation: 100%|██████████| 17/17 [00:05<00:00,  3.34batch/s, accuracy=90.3, loss=0.366]\n"
          ]
        },
        {
          "output_type": "stream",
          "name": "stdout",
          "text": [
            "90.33457249070632\n",
            "Epoch [11/15]\n"
          ]
        },
        {
          "output_type": "stream",
          "name": "stderr",
          "text": [
            "Epoch 10/15: 100%|██████████| 68/68 [00:29<00:00,  2.31batch/s, accuracy=96.8, loss=0.104]\n",
            "Validation: 100%|██████████| 17/17 [00:05<00:00,  2.97batch/s, accuracy=87, loss=0.605]\n"
          ]
        },
        {
          "output_type": "stream",
          "name": "stdout",
          "text": [
            "86.98884758364312\n",
            "Epoch [12/15]\n"
          ]
        },
        {
          "output_type": "stream",
          "name": "stderr",
          "text": [
            "Epoch 11/15: 100%|██████████| 68/68 [00:29<00:00,  2.29batch/s, accuracy=96.1, loss=0.108]\n",
            "Validation: 100%|██████████| 17/17 [00:04<00:00,  3.45batch/s, accuracy=90.9, loss=0.38]\n"
          ]
        },
        {
          "output_type": "stream",
          "name": "stdout",
          "text": [
            "90.89219330855019\n",
            "Epoch [13/15]\n"
          ]
        },
        {
          "output_type": "stream",
          "name": "stderr",
          "text": [
            "Epoch 12/15: 100%|██████████| 68/68 [00:30<00:00,  2.26batch/s, accuracy=96.7, loss=0.109]\n",
            "Validation: 100%|██████████| 17/17 [00:04<00:00,  3.41batch/s, accuracy=91.8, loss=0.381]\n"
          ]
        },
        {
          "output_type": "stream",
          "name": "stdout",
          "text": [
            "91.82156133828997\n",
            "Epoch [14/15]\n"
          ]
        },
        {
          "output_type": "stream",
          "name": "stderr",
          "text": [
            "Epoch 13/15: 100%|██████████| 68/68 [00:29<00:00,  2.31batch/s, accuracy=96.3, loss=0.114]\n",
            "Validation: 100%|██████████| 17/17 [00:05<00:00,  2.92batch/s, accuracy=90.9, loss=0.42]\n"
          ]
        },
        {
          "output_type": "stream",
          "name": "stdout",
          "text": [
            "90.89219330855019\n",
            "Epoch [15/15]\n"
          ]
        },
        {
          "output_type": "stream",
          "name": "stderr",
          "text": [
            "Epoch 14/15: 100%|██████████| 68/68 [00:29<00:00,  2.31batch/s, accuracy=97.5, loss=0.0826]\n",
            "Validation: 100%|██████████| 17/17 [00:05<00:00,  3.20batch/s, accuracy=94.4, loss=0.34]"
          ]
        },
        {
          "output_type": "stream",
          "name": "stdout",
          "text": [
            "94.42379182156134\n",
            "Training finished!\n",
            "Total time taken: 2721.803253889084 seconds\n"
          ]
        },
        {
          "output_type": "stream",
          "name": "stderr",
          "text": [
            "\n"
          ]
        }
      ]
    },
    {
      "cell_type": "markdown",
      "source": [
        "## Plots\n",
        "\n",
        "Train & Validation Accuracy; Train & Validation Loss is in W&B graphs"
      ],
      "metadata": {
        "id": "_TmfIJsHxLt2"
      }
    },
    {
      "cell_type": "code",
      "source": [
        "from sklearn.metrics import confusion_matrix\n",
        "import seaborn as sns\n",
        "import matplotlib.pyplot as plt\n",
        "from PIL import Image\n",
        "\n",
        "# Determine the device to use (GPU if available, otherwise CPU)\n",
        "device = torch.device(\"cuda:0\" if torch.cuda.is_available() else \"cpu\")\n",
        "\n",
        "# Load the best model\n",
        "best_model_path = '/content/drive/MyDrive/saved_model_fold_4.pth'\n",
        "best_model = EfficientNet.from_pretrained('efficientnet-b0', num_classes=10)\n",
        "best_model.load_state_dict(torch.load(best_model_path))\n",
        "best_model = best_model.to(device)\n",
        "best_model.eval()\n",
        "\n",
        "# Define the transformations for inference\n",
        "test_transform = transforms.Compose([\n",
        "    transforms.Resize((224, 224)),\n",
        "    transforms.ToTensor(),\n",
        "    transforms.Normalize([0.485, 0.456, 0.406], [0.229, 0.224, 0.225])\n",
        "])\n",
        "\n",
        "test_dir = '/content/WoundDataset/test'\n",
        "# Preprocess the dataset\n",
        "test_dataset = datasets.ImageFolder(test_dir, transform=test_transform)\n",
        "\n",
        "# Create DataLoader for the entire dataset\n",
        "test_loader = DataLoader(test_dataset, batch_size=32, shuffle=False)\n",
        "\n",
        "# Lists to store true and predicted labels\n",
        "true_labels = []\n",
        "predicted_labels = []\n",
        "\n",
        "# Evaluate the model on the test dataset\n",
        "with torch.no_grad():\n",
        "    for inputs, labels in test_loader:\n",
        "        inputs, labels = inputs.to(device), labels.to(device)\n",
        "        outputs = best_model(inputs)\n",
        "        _, predicted = torch.max(outputs, 1)\n",
        "        true_labels.extend(labels.cpu().numpy())\n",
        "        predicted_labels.extend(predicted.cpu().numpy())\n",
        "\n",
        "# Convert lists to numpy arrays\n",
        "true_labels = np.array(true_labels)\n",
        "predicted_labels = np.array(predicted_labels)"
      ],
      "metadata": {
        "colab": {
          "base_uri": "https://localhost:8080/"
        },
        "id": "8dzbBS1Exlr-",
        "outputId": "d68c8e33-49a3-4123-d816-8c4c218b98a0"
      },
      "execution_count": 5,
      "outputs": [
        {
          "output_type": "stream",
          "name": "stdout",
          "text": [
            "Loaded pretrained weights for efficientnet-b0\n"
          ]
        }
      ]
    },
    {
      "cell_type": "code",
      "source": [
        "from sklearn.metrics import accuracy_score, precision_score, recall_score, f1_score\n",
        "\n",
        "# Assuming test_pred_y and y_test are your predicted and actual labels respectively\n",
        "\n",
        "# Compute accuracy\n",
        "accuracy = accuracy_score(true_labels, predicted_labels)\n",
        "\n",
        "# Compute precision\n",
        "precision = precision_score(true_labels, predicted_labels, average='weighted')\n",
        "\n",
        "# Compute recall\n",
        "recall = recall_score(true_labels, predicted_labels, average='weighted')\n",
        "\n",
        "# Compute F1 score\n",
        "f1 = f1_score(true_labels, predicted_labels, average='weighted')\n",
        "\n",
        "# Print the results\n",
        "print(\"Accuracy:\", accuracy)\n",
        "print(\"Precision:\", precision)\n",
        "print(\"Recall:\", recall)\n",
        "print(\"F1 Score:\", f1)"
      ],
      "metadata": {
        "colab": {
          "base_uri": "https://localhost:8080/"
        },
        "id": "FiFPJgtD3HCC",
        "outputId": "c26b3866-920e-4189-ed66-2fc6985c04bf"
      },
      "execution_count": 6,
      "outputs": [
        {
          "output_type": "stream",
          "name": "stdout",
          "text": [
            "Accuracy: 0.9400749063670412\n",
            "Precision: 0.9459554624081109\n",
            "Recall: 0.9400749063670412\n",
            "F1 Score: 0.940831333329207\n"
          ]
        }
      ]
    },
    {
      "cell_type": "code",
      "source": [
        "# Calculate the confusion matrix\n",
        "conf_matrix = confusion_matrix(true_labels, predicted_labels)\n",
        "\n",
        "# Define your class labels\n",
        "class_labels = [\"Class 0\", \"Class 1\", \"Class 2\", ...]  # Add your class labels here\n",
        "\n",
        "# Visualize the confusion matrix\n",
        "plt.figure(figsize=(10, 8))\n",
        "sns.heatmap(conf_matrix, annot=True, fmt='d', cmap='Blues')\n",
        "plt.xlabel('Predicted')\n",
        "plt.ylabel('True')\n",
        "plt.title('Confusion Matrix')\n",
        "plt.show()"
      ],
      "metadata": {
        "colab": {
          "base_uri": "https://localhost:8080/",
          "height": 718
        },
        "id": "cljNC-b9JB-q",
        "outputId": "28efa35d-c2d7-418b-d688-5acda9907585"
      },
      "execution_count": 7,
      "outputs": [
        {
          "output_type": "display_data",
          "data": {
            "text/plain": [
              "<Figure size 1000x800 with 2 Axes>"
            ],
            "image/png": "[encoded data removed]"
          },
          "metadata": {}
        }
      ]
    },
    {
      "cell_type": "code",
      "source": [],
      "metadata": {
        "id": "OWRkCN19On56"
      },
      "execution_count": null,
      "outputs": []
    }
  ]
}